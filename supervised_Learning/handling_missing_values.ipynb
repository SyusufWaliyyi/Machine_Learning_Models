{
 "cells": [
  {
   "cell_type": "markdown",
   "id": "38a18d3a",
   "metadata": {},
   "source": [
    "__Handling Missing data__\n",
    "\n",
    "*Missing data* is when there is no feature a particular which might be the observation was not recorded or due to data corruption."
   ]
  },
  {
   "cell_type": "code",
   "execution_count": 54,
   "id": "011846e3",
   "metadata": {},
   "outputs": [],
   "source": [
    "# import libraries\n",
    "import pandas as pd\n",
    "import numpy as np\n",
    "import matplotlib.pyplot as plt\n",
    "import seaborn as sns\n",
    "from sklearn.model_selection import train_test_split, cross_val_score, KFold\n",
    "from sklearn.linear_model import LinearRegression, LogisticRegression, Ridge, Lasso\n",
    "from sklearn.impute import SimpleImputer\n",
    "from sklearn.pipeline import Pipeline\n",
    "from sklearn.preprocessing import StandardScaler\n",
    "\n",
    "# suppress warnings\n",
    "import warnings\n",
    "warnings.filterwarnings('ignore')"
   ]
  },
  {
   "cell_type": "code",
   "execution_count": 55,
   "id": "e4dabae5",
   "metadata": {},
   "outputs": [
    {
     "data": {
      "application/vnd.microsoft.datawrangler.viewer.v0+json": {
       "columns": [
        {
         "name": "index",
         "rawType": "int64",
         "type": "integer"
        },
        {
         "name": "employee_id",
         "rawType": "int64",
         "type": "integer"
        },
        {
         "name": "age",
         "rawType": "float64",
         "type": "float"
        },
        {
         "name": "gender",
         "rawType": "object",
         "type": "unknown"
        },
        {
         "name": "department",
         "rawType": "object",
         "type": "unknown"
        },
        {
         "name": "years_of_experience",
         "rawType": "float64",
         "type": "float"
        },
        {
         "name": "salary",
         "rawType": "float64",
         "type": "float"
        },
        {
         "name": "performance_score",
         "rawType": "float64",
         "type": "float"
        },
        {
         "name": "training_hours",
         "rawType": "float64",
         "type": "float"
        },
        {
         "name": "job_satisfaction",
         "rawType": "float64",
         "type": "float"
        },
        {
         "name": "last_promotion",
         "rawType": "float64",
         "type": "float"
        }
       ],
       "ref": "f8728fc6-25b4-4eec-ae56-14a414a76e99",
       "rows": [
        [
         "0",
         "1",
         "56.0",
         null,
         "Marketing",
         null,
         "58195.0",
         "4.0",
         "14.0",
         null,
         "10.0"
        ],
        [
         "1",
         "2",
         "46.0",
         "Male",
         "Sales",
         null,
         "96192.0",
         "7.0",
         "30.0",
         "3.0",
         "0.0"
        ],
        [
         "2",
         "3",
         "32.0",
         "Female",
         "HR",
         "12.0",
         "45609.0",
         "1.0",
         null,
         "5.0",
         "3.0"
        ],
        [
         "3",
         "4",
         "60.0",
         "Female",
         "Sales",
         "12.0",
         "49535.0",
         "1.0",
         "12.0",
         "2.0",
         "6.0"
        ],
        [
         "4",
         "5",
         "25.0",
         "Female",
         null,
         "4.0",
         "34110.0",
         "9.0",
         null,
         "1.0",
         "3.0"
        ]
       ],
       "shape": {
        "columns": 10,
        "rows": 5
       }
      },
      "text/html": [
       "<div>\n",
       "<style scoped>\n",
       "    .dataframe tbody tr th:only-of-type {\n",
       "        vertical-align: middle;\n",
       "    }\n",
       "\n",
       "    .dataframe tbody tr th {\n",
       "        vertical-align: top;\n",
       "    }\n",
       "\n",
       "    .dataframe thead th {\n",
       "        text-align: right;\n",
       "    }\n",
       "</style>\n",
       "<table border=\"1\" class=\"dataframe\">\n",
       "  <thead>\n",
       "    <tr style=\"text-align: right;\">\n",
       "      <th></th>\n",
       "      <th>employee_id</th>\n",
       "      <th>age</th>\n",
       "      <th>gender</th>\n",
       "      <th>department</th>\n",
       "      <th>years_of_experience</th>\n",
       "      <th>salary</th>\n",
       "      <th>performance_score</th>\n",
       "      <th>training_hours</th>\n",
       "      <th>job_satisfaction</th>\n",
       "      <th>last_promotion</th>\n",
       "    </tr>\n",
       "  </thead>\n",
       "  <tbody>\n",
       "    <tr>\n",
       "      <th>0</th>\n",
       "      <td>1</td>\n",
       "      <td>56.0</td>\n",
       "      <td>NaN</td>\n",
       "      <td>Marketing</td>\n",
       "      <td>NaN</td>\n",
       "      <td>58195.0</td>\n",
       "      <td>4.0</td>\n",
       "      <td>14.0</td>\n",
       "      <td>NaN</td>\n",
       "      <td>10.0</td>\n",
       "    </tr>\n",
       "    <tr>\n",
       "      <th>1</th>\n",
       "      <td>2</td>\n",
       "      <td>46.0</td>\n",
       "      <td>Male</td>\n",
       "      <td>Sales</td>\n",
       "      <td>NaN</td>\n",
       "      <td>96192.0</td>\n",
       "      <td>7.0</td>\n",
       "      <td>30.0</td>\n",
       "      <td>3.0</td>\n",
       "      <td>0.0</td>\n",
       "    </tr>\n",
       "    <tr>\n",
       "      <th>2</th>\n",
       "      <td>3</td>\n",
       "      <td>32.0</td>\n",
       "      <td>Female</td>\n",
       "      <td>HR</td>\n",
       "      <td>12.0</td>\n",
       "      <td>45609.0</td>\n",
       "      <td>1.0</td>\n",
       "      <td>NaN</td>\n",
       "      <td>5.0</td>\n",
       "      <td>3.0</td>\n",
       "    </tr>\n",
       "    <tr>\n",
       "      <th>3</th>\n",
       "      <td>4</td>\n",
       "      <td>60.0</td>\n",
       "      <td>Female</td>\n",
       "      <td>Sales</td>\n",
       "      <td>12.0</td>\n",
       "      <td>49535.0</td>\n",
       "      <td>1.0</td>\n",
       "      <td>12.0</td>\n",
       "      <td>2.0</td>\n",
       "      <td>6.0</td>\n",
       "    </tr>\n",
       "    <tr>\n",
       "      <th>4</th>\n",
       "      <td>5</td>\n",
       "      <td>25.0</td>\n",
       "      <td>Female</td>\n",
       "      <td>NaN</td>\n",
       "      <td>4.0</td>\n",
       "      <td>34110.0</td>\n",
       "      <td>9.0</td>\n",
       "      <td>NaN</td>\n",
       "      <td>1.0</td>\n",
       "      <td>3.0</td>\n",
       "    </tr>\n",
       "  </tbody>\n",
       "</table>\n",
       "</div>"
      ],
      "text/plain": [
       "   employee_id   age  gender department  years_of_experience   salary  \\\n",
       "0            1  56.0     NaN  Marketing                  NaN  58195.0   \n",
       "1            2  46.0    Male      Sales                  NaN  96192.0   \n",
       "2            3  32.0  Female         HR                 12.0  45609.0   \n",
       "3            4  60.0  Female      Sales                 12.0  49535.0   \n",
       "4            5  25.0  Female        NaN                  4.0  34110.0   \n",
       "\n",
       "   performance_score  training_hours  job_satisfaction  last_promotion  \n",
       "0                4.0            14.0               NaN            10.0  \n",
       "1                7.0            30.0               3.0             0.0  \n",
       "2                1.0             NaN               5.0             3.0  \n",
       "3                1.0            12.0               2.0             6.0  \n",
       "4                9.0             NaN               1.0             3.0  "
      ]
     },
     "execution_count": 55,
     "metadata": {},
     "output_type": "execute_result"
    }
   ],
   "source": [
    "df = pd.read_csv(\"employee_data.csv\")\n",
    "df.head()"
   ]
  },
  {
   "cell_type": "code",
   "execution_count": 56,
   "id": "6136d584",
   "metadata": {},
   "outputs": [
    {
     "data": {
      "application/vnd.microsoft.datawrangler.viewer.v0+json": {
       "columns": [
        {
         "name": "index",
         "rawType": "object",
         "type": "string"
        },
        {
         "name": "employee_id",
         "rawType": "float64",
         "type": "float"
        },
        {
         "name": "age",
         "rawType": "float64",
         "type": "float"
        },
        {
         "name": "years_of_experience",
         "rawType": "float64",
         "type": "float"
        },
        {
         "name": "salary",
         "rawType": "float64",
         "type": "float"
        },
        {
         "name": "performance_score",
         "rawType": "float64",
         "type": "float"
        },
        {
         "name": "training_hours",
         "rawType": "float64",
         "type": "float"
        },
        {
         "name": "job_satisfaction",
         "rawType": "float64",
         "type": "float"
        },
        {
         "name": "last_promotion",
         "rawType": "float64",
         "type": "float"
        }
       ],
       "ref": "260c9c57-b37a-4e05-8a81-581fc7749bcf",
       "rows": [
        [
         "count",
         "10000.0",
         "9500.0",
         "9000.0",
         "9300.0",
         "9500.0",
         "8500.0",
         "9000.0",
         "8000.0"
        ],
        [
         "mean",
         "5000.5",
         "41.60263157894737",
         "10.068",
         "89700.18247311829",
         "5.530421052631579",
         "20.159882352941178",
         "2.9932222222222222",
         "4.98325"
        ],
        [
         "std",
         "2886.8956799071675",
         "13.773172376562691",
         "6.006926253760164",
         "34628.70645684013",
         "2.8552511323749186",
         "11.728353147268676",
         "1.4124282286212932",
         "3.179423379974526"
        ],
        [
         "min",
         "1.0",
         "18.0",
         "0.0",
         "30005.0",
         "1.0",
         "0.0",
         "1.0",
         "0.0"
        ],
        [
         "25%",
         "2500.75",
         "30.0",
         "5.0",
         "59310.25",
         "3.0",
         "10.0",
         "2.0",
         "2.0"
        ],
        [
         "50%",
         "5000.5",
         "42.0",
         "10.0",
         "89744.0",
         "6.0",
         "20.0",
         "3.0",
         "5.0"
        ],
        [
         "75%",
         "7500.25",
         "53.0",
         "15.0",
         "119943.25",
         "8.0",
         "30.0",
         "4.0",
         "8.0"
        ],
        [
         "max",
         "10000.0",
         "65.0",
         "20.0",
         "149998.0",
         "10.0",
         "40.0",
         "5.0",
         "10.0"
        ]
       ],
       "shape": {
        "columns": 8,
        "rows": 8
       }
      },
      "text/html": [
       "<div>\n",
       "<style scoped>\n",
       "    .dataframe tbody tr th:only-of-type {\n",
       "        vertical-align: middle;\n",
       "    }\n",
       "\n",
       "    .dataframe tbody tr th {\n",
       "        vertical-align: top;\n",
       "    }\n",
       "\n",
       "    .dataframe thead th {\n",
       "        text-align: right;\n",
       "    }\n",
       "</style>\n",
       "<table border=\"1\" class=\"dataframe\">\n",
       "  <thead>\n",
       "    <tr style=\"text-align: right;\">\n",
       "      <th></th>\n",
       "      <th>employee_id</th>\n",
       "      <th>age</th>\n",
       "      <th>years_of_experience</th>\n",
       "      <th>salary</th>\n",
       "      <th>performance_score</th>\n",
       "      <th>training_hours</th>\n",
       "      <th>job_satisfaction</th>\n",
       "      <th>last_promotion</th>\n",
       "    </tr>\n",
       "  </thead>\n",
       "  <tbody>\n",
       "    <tr>\n",
       "      <th>count</th>\n",
       "      <td>10000.00000</td>\n",
       "      <td>9500.000000</td>\n",
       "      <td>9000.000000</td>\n",
       "      <td>9300.000000</td>\n",
       "      <td>9500.000000</td>\n",
       "      <td>8500.000000</td>\n",
       "      <td>9000.000000</td>\n",
       "      <td>8000.000000</td>\n",
       "    </tr>\n",
       "    <tr>\n",
       "      <th>mean</th>\n",
       "      <td>5000.50000</td>\n",
       "      <td>41.602632</td>\n",
       "      <td>10.068000</td>\n",
       "      <td>89700.182473</td>\n",
       "      <td>5.530421</td>\n",
       "      <td>20.159882</td>\n",
       "      <td>2.993222</td>\n",
       "      <td>4.983250</td>\n",
       "    </tr>\n",
       "    <tr>\n",
       "      <th>std</th>\n",
       "      <td>2886.89568</td>\n",
       "      <td>13.773172</td>\n",
       "      <td>6.006926</td>\n",
       "      <td>34628.706457</td>\n",
       "      <td>2.855251</td>\n",
       "      <td>11.728353</td>\n",
       "      <td>1.412428</td>\n",
       "      <td>3.179423</td>\n",
       "    </tr>\n",
       "    <tr>\n",
       "      <th>min</th>\n",
       "      <td>1.00000</td>\n",
       "      <td>18.000000</td>\n",
       "      <td>0.000000</td>\n",
       "      <td>30005.000000</td>\n",
       "      <td>1.000000</td>\n",
       "      <td>0.000000</td>\n",
       "      <td>1.000000</td>\n",
       "      <td>0.000000</td>\n",
       "    </tr>\n",
       "    <tr>\n",
       "      <th>25%</th>\n",
       "      <td>2500.75000</td>\n",
       "      <td>30.000000</td>\n",
       "      <td>5.000000</td>\n",
       "      <td>59310.250000</td>\n",
       "      <td>3.000000</td>\n",
       "      <td>10.000000</td>\n",
       "      <td>2.000000</td>\n",
       "      <td>2.000000</td>\n",
       "    </tr>\n",
       "    <tr>\n",
       "      <th>50%</th>\n",
       "      <td>5000.50000</td>\n",
       "      <td>42.000000</td>\n",
       "      <td>10.000000</td>\n",
       "      <td>89744.000000</td>\n",
       "      <td>6.000000</td>\n",
       "      <td>20.000000</td>\n",
       "      <td>3.000000</td>\n",
       "      <td>5.000000</td>\n",
       "    </tr>\n",
       "    <tr>\n",
       "      <th>75%</th>\n",
       "      <td>7500.25000</td>\n",
       "      <td>53.000000</td>\n",
       "      <td>15.000000</td>\n",
       "      <td>119943.250000</td>\n",
       "      <td>8.000000</td>\n",
       "      <td>30.000000</td>\n",
       "      <td>4.000000</td>\n",
       "      <td>8.000000</td>\n",
       "    </tr>\n",
       "    <tr>\n",
       "      <th>max</th>\n",
       "      <td>10000.00000</td>\n",
       "      <td>65.000000</td>\n",
       "      <td>20.000000</td>\n",
       "      <td>149998.000000</td>\n",
       "      <td>10.000000</td>\n",
       "      <td>40.000000</td>\n",
       "      <td>5.000000</td>\n",
       "      <td>10.000000</td>\n",
       "    </tr>\n",
       "  </tbody>\n",
       "</table>\n",
       "</div>"
      ],
      "text/plain": [
       "       employee_id          age  years_of_experience         salary  \\\n",
       "count  10000.00000  9500.000000          9000.000000    9300.000000   \n",
       "mean    5000.50000    41.602632            10.068000   89700.182473   \n",
       "std     2886.89568    13.773172             6.006926   34628.706457   \n",
       "min        1.00000    18.000000             0.000000   30005.000000   \n",
       "25%     2500.75000    30.000000             5.000000   59310.250000   \n",
       "50%     5000.50000    42.000000            10.000000   89744.000000   \n",
       "75%     7500.25000    53.000000            15.000000  119943.250000   \n",
       "max    10000.00000    65.000000            20.000000  149998.000000   \n",
       "\n",
       "       performance_score  training_hours  job_satisfaction  last_promotion  \n",
       "count        9500.000000     8500.000000       9000.000000     8000.000000  \n",
       "mean            5.530421       20.159882          2.993222        4.983250  \n",
       "std             2.855251       11.728353          1.412428        3.179423  \n",
       "min             1.000000        0.000000          1.000000        0.000000  \n",
       "25%             3.000000       10.000000          2.000000        2.000000  \n",
       "50%             6.000000       20.000000          3.000000        5.000000  \n",
       "75%             8.000000       30.000000          4.000000        8.000000  \n",
       "max            10.000000       40.000000          5.000000       10.000000  "
      ]
     },
     "execution_count": 56,
     "metadata": {},
     "output_type": "execute_result"
    }
   ],
   "source": [
    "# Summary statistics\n",
    "df.describe()"
   ]
  },
  {
   "cell_type": "code",
   "execution_count": 57,
   "id": "d4ae731c",
   "metadata": {},
   "outputs": [
    {
     "name": "stdout",
     "output_type": "stream",
     "text": [
      "<class 'pandas.core.frame.DataFrame'>\n",
      "RangeIndex: 10000 entries, 0 to 9999\n",
      "Data columns (total 10 columns):\n",
      " #   Column               Non-Null Count  Dtype  \n",
      "---  ------               --------------  -----  \n",
      " 0   employee_id          10000 non-null  int64  \n",
      " 1   age                  9500 non-null   float64\n",
      " 2   gender               9700 non-null   object \n",
      " 3   department           9200 non-null   object \n",
      " 4   years_of_experience  9000 non-null   float64\n",
      " 5   salary               9300 non-null   float64\n",
      " 6   performance_score    9500 non-null   float64\n",
      " 7   training_hours       8500 non-null   float64\n",
      " 8   job_satisfaction     9000 non-null   float64\n",
      " 9   last_promotion       8000 non-null   float64\n",
      "dtypes: float64(7), int64(1), object(2)\n",
      "memory usage: 781.4+ KB\n"
     ]
    }
   ],
   "source": [
    "# Dataset summary\n",
    "df.info()"
   ]
  },
  {
   "cell_type": "code",
   "execution_count": 58,
   "id": "30b250aa",
   "metadata": {},
   "outputs": [
    {
     "data": {
      "text/plain": [
       "(10000, 10)"
      ]
     },
     "execution_count": 58,
     "metadata": {},
     "output_type": "execute_result"
    }
   ],
   "source": [
    "# Shape\n",
    "df.shape"
   ]
  },
  {
   "cell_type": "code",
   "execution_count": 59,
   "id": "a8a9bce2",
   "metadata": {},
   "outputs": [
    {
     "data": {
      "text/plain": [
       "np.False_"
      ]
     },
     "execution_count": 59,
     "metadata": {},
     "output_type": "execute_result"
    }
   ],
   "source": [
    "# check for duplicates\n",
    "df.duplicated().any()"
   ]
  },
  {
   "cell_type": "code",
   "execution_count": 60,
   "id": "c1e1539e",
   "metadata": {},
   "outputs": [
    {
     "data": {
      "application/vnd.microsoft.datawrangler.viewer.v0+json": {
       "columns": [
        {
         "name": "index",
         "rawType": "object",
         "type": "string"
        },
        {
         "name": "0",
         "rawType": "int64",
         "type": "integer"
        }
       ],
       "ref": "593f54bc-cc2b-4d74-9236-75a3bf1cba9f",
       "rows": [
        [
         "employee_id",
         "0"
        ],
        [
         "age",
         "500"
        ],
        [
         "gender",
         "300"
        ],
        [
         "department",
         "800"
        ],
        [
         "years_of_experience",
         "1000"
        ],
        [
         "salary",
         "700"
        ],
        [
         "performance_score",
         "500"
        ],
        [
         "training_hours",
         "1500"
        ],
        [
         "job_satisfaction",
         "1000"
        ],
        [
         "last_promotion",
         "2000"
        ]
       ],
       "shape": {
        "columns": 1,
        "rows": 10
       }
      },
      "text/plain": [
       "employee_id               0\n",
       "age                     500\n",
       "gender                  300\n",
       "department              800\n",
       "years_of_experience    1000\n",
       "salary                  700\n",
       "performance_score       500\n",
       "training_hours         1500\n",
       "job_satisfaction       1000\n",
       "last_promotion         2000\n",
       "dtype: int64"
      ]
     },
     "execution_count": 60,
     "metadata": {},
     "output_type": "execute_result"
    }
   ],
   "source": [
    "# check for missing values\n",
    "df.isnull().sum()"
   ]
  },
  {
   "cell_type": "code",
   "execution_count": 61,
   "id": "b1dc8725",
   "metadata": {},
   "outputs": [
    {
     "data": {
      "application/vnd.microsoft.datawrangler.viewer.v0+json": {
       "columns": [
        {
         "name": "index",
         "rawType": "object",
         "type": "string"
        },
        {
         "name": "0",
         "rawType": "float64",
         "type": "float"
        }
       ],
       "ref": "b497ae31-5a4c-4403-a4ef-082837fbe75a",
       "rows": [
        [
         "employee_id",
         "0.0"
        ],
        [
         "age",
         "5.0"
        ],
        [
         "gender",
         "3.0"
        ],
        [
         "department",
         "8.0"
        ],
        [
         "years_of_experience",
         "10.0"
        ],
        [
         "salary",
         "7.0"
        ],
        [
         "performance_score",
         "5.0"
        ],
        [
         "training_hours",
         "15.0"
        ],
        [
         "job_satisfaction",
         "10.0"
        ],
        [
         "last_promotion",
         "20.0"
        ]
       ],
       "shape": {
        "columns": 1,
        "rows": 10
       }
      },
      "text/plain": [
       "employee_id             0.0\n",
       "age                     5.0\n",
       "gender                  3.0\n",
       "department              8.0\n",
       "years_of_experience    10.0\n",
       "salary                  7.0\n",
       "performance_score       5.0\n",
       "training_hours         15.0\n",
       "job_satisfaction       10.0\n",
       "last_promotion         20.0\n",
       "dtype: float64"
      ]
     },
     "execution_count": 61,
     "metadata": {},
     "output_type": "execute_result"
    }
   ],
   "source": [
    "# missing value threshold\n",
    "thresh = df.isnull().sum() * 100 / len(df)\n",
    "thresh"
   ]
  },
  {
   "cell_type": "code",
   "execution_count": 62,
   "id": "9daff2ee",
   "metadata": {},
   "outputs": [
    {
     "data": {
      "application/vnd.microsoft.datawrangler.viewer.v0+json": {
       "columns": [
        {
         "name": "index",
         "rawType": "object",
         "type": "string"
        },
        {
         "name": "0",
         "rawType": "float64",
         "type": "float"
        }
       ],
       "ref": "01f999c8-82de-41ff-8871-18fd22e28109",
       "rows": [
        [
         "employee_id",
         "0.0"
        ],
        [
         "age",
         "0.05"
        ],
        [
         "gender",
         "0.03"
        ],
        [
         "department",
         "0.08"
        ],
        [
         "years_of_experience",
         "0.1"
        ],
        [
         "salary",
         "0.07"
        ],
        [
         "performance_score",
         "0.05"
        ],
        [
         "training_hours",
         "0.15"
        ],
        [
         "job_satisfaction",
         "0.1"
        ],
        [
         "last_promotion",
         "0.2"
        ]
       ],
       "shape": {
        "columns": 1,
        "rows": 10
       }
      },
      "text/plain": [
       "employee_id            0.00\n",
       "age                    0.05\n",
       "gender                 0.03\n",
       "department             0.08\n",
       "years_of_experience    0.10\n",
       "salary                 0.07\n",
       "performance_score      0.05\n",
       "training_hours         0.15\n",
       "job_satisfaction       0.10\n",
       "last_promotion         0.20\n",
       "dtype: float64"
      ]
     },
     "execution_count": 62,
     "metadata": {},
     "output_type": "execute_result"
    }
   ],
   "source": [
    "# Step 1: Calculate missing value percentage per column\n",
    "missing_percent = df.isnull().mean()\n",
    "missing_percent"
   ]
  },
  {
   "cell_type": "code",
   "execution_count": 63,
   "id": "cfb36513",
   "metadata": {},
   "outputs": [
    {
     "data": {
      "text/plain": [
       "Index(['employee_id', 'age', 'gender', 'performance_score'], dtype='object')"
      ]
     },
     "execution_count": 63,
     "metadata": {},
     "output_type": "execute_result"
    }
   ],
   "source": [
    "# column with 5% missing values\n",
    "columns_to_clean = missing_percent[missing_percent <= 0.05].index\n",
    "columns_to_clean"
   ]
  },
  {
   "cell_type": "code",
   "execution_count": 64,
   "id": "4c9fd9e0",
   "metadata": {},
   "outputs": [
    {
     "data": {
      "application/vnd.microsoft.datawrangler.viewer.v0+json": {
       "columns": [
        {
         "name": "index",
         "rawType": "int64",
         "type": "integer"
        },
        {
         "name": "employee_id",
         "rawType": "int64",
         "type": "integer"
        },
        {
         "name": "age",
         "rawType": "float64",
         "type": "float"
        },
        {
         "name": "gender",
         "rawType": "object",
         "type": "string"
        },
        {
         "name": "department",
         "rawType": "object",
         "type": "unknown"
        },
        {
         "name": "years_of_experience",
         "rawType": "float64",
         "type": "float"
        },
        {
         "name": "salary",
         "rawType": "float64",
         "type": "float"
        },
        {
         "name": "performance_score",
         "rawType": "float64",
         "type": "float"
        },
        {
         "name": "training_hours",
         "rawType": "float64",
         "type": "float"
        },
        {
         "name": "job_satisfaction",
         "rawType": "float64",
         "type": "float"
        },
        {
         "name": "last_promotion",
         "rawType": "float64",
         "type": "float"
        }
       ],
       "ref": "168ad92c-b2f4-4259-b1ad-7a606af48318",
       "rows": [
        [
         "1",
         "2",
         "46.0",
         "Male",
         "Sales",
         null,
         "96192.0",
         "7.0",
         "30.0",
         "3.0",
         "0.0"
        ],
        [
         "2",
         "3",
         "32.0",
         "Female",
         "HR",
         "12.0",
         "45609.0",
         "1.0",
         null,
         "5.0",
         "3.0"
        ],
        [
         "3",
         "4",
         "60.0",
         "Female",
         "Sales",
         "12.0",
         "49535.0",
         "1.0",
         "12.0",
         "2.0",
         "6.0"
        ],
        [
         "4",
         "5",
         "25.0",
         "Female",
         null,
         "4.0",
         "34110.0",
         "9.0",
         null,
         "1.0",
         "3.0"
        ],
        [
         "5",
         "6",
         "38.0",
         "Female",
         "Finance",
         "11.0",
         "139518.0",
         "6.0",
         "20.0",
         "3.0",
         "7.0"
        ],
        [
         "7",
         "8",
         "36.0",
         "Male",
         "IT",
         "13.0",
         "92544.0",
         "2.0",
         "14.0",
         "2.0",
         "4.0"
        ],
        [
         "8",
         "9",
         "40.0",
         "Male",
         "Marketing",
         "7.0",
         "78637.0",
         "2.0",
         "20.0",
         "2.0",
         "9.0"
        ],
        [
         "9",
         "10",
         "28.0",
         "Female",
         "HR",
         "7.0",
         "63074.0",
         "7.0",
         "7.0",
         "4.0",
         "3.0"
        ],
        [
         "10",
         "11",
         "28.0",
         "Female",
         "Finance",
         "6.0",
         "71664.0",
         "6.0",
         "30.0",
         "4.0",
         "7.0"
        ],
        [
         "11",
         "12",
         "41.0",
         "Female",
         "IT",
         "16.0",
         "116412.0",
         "8.0",
         "9.0",
         null,
         null
        ],
        [
         "12",
         "13",
         "53.0",
         "Male",
         null,
         "20.0",
         "104405.0",
         "3.0",
         "20.0",
         "1.0",
         null
        ],
        [
         "13",
         "14",
         "57.0",
         "Male",
         "HR",
         "10.0",
         "127225.0",
         "3.0",
         "16.0",
         "5.0",
         "4.0"
        ],
        [
         "14",
         "15",
         "41.0",
         "Male",
         null,
         "9.0",
         "73872.0",
         "5.0",
         "4.0",
         "1.0",
         null
        ],
        [
         "15",
         "16",
         "20.0",
         "Male",
         "IT",
         null,
         "42185.0",
         "10.0",
         null,
         "1.0",
         null
        ],
        [
         "16",
         "17",
         "39.0",
         "Male",
         null,
         "9.0",
         "136706.0",
         "4.0",
         "20.0",
         "5.0",
         "8.0"
        ],
        [
         "18",
         "19",
         "41.0",
         "Male",
         "HR",
         "13.0",
         "31396.0",
         "6.0",
         "24.0",
         "3.0",
         "4.0"
        ],
        [
         "19",
         "20",
         "61.0",
         "Female",
         null,
         "8.0",
         "33460.0",
         "8.0",
         "27.0",
         "4.0",
         null
        ],
        [
         "20",
         "21",
         "47.0",
         "Male",
         "HR",
         null,
         "132657.0",
         "7.0",
         "1.0",
         "2.0",
         "1.0"
        ],
        [
         "21",
         "22",
         "55.0",
         "Female",
         "Finance",
         "6.0",
         "81314.0",
         "2.0",
         "20.0",
         "5.0",
         "5.0"
        ],
        [
         "22",
         "23",
         "19.0",
         "Male",
         "IT",
         "17.0",
         "75389.0",
         "9.0",
         "40.0",
         "1.0",
         "5.0"
        ],
        [
         "23",
         "24",
         "38.0",
         "Male",
         "IT",
         "15.0",
         "124556.0",
         "6.0",
         "21.0",
         "2.0",
         "3.0"
        ],
        [
         "24",
         "25",
         "50.0",
         "Male",
         "Marketing",
         "7.0",
         "138776.0",
         "6.0",
         "1.0",
         null,
         "1.0"
        ],
        [
         "25",
         "26",
         "29.0",
         "Other",
         "Finance",
         null,
         "37676.0",
         "2.0",
         "29.0",
         "1.0",
         "7.0"
        ],
        [
         "26",
         "27",
         "39.0",
         "Female",
         "Marketing",
         "18.0",
         "67312.0",
         "9.0",
         "0.0",
         "1.0",
         "7.0"
        ],
        [
         "27",
         "28",
         "61.0",
         "Male",
         "Marketing",
         "14.0",
         "33148.0",
         "1.0",
         "12.0",
         "1.0",
         null
        ],
        [
         "28",
         "29",
         "42.0",
         "Male",
         "Sales",
         "14.0",
         "42272.0",
         "6.0",
         "2.0",
         "3.0",
         "1.0"
        ],
        [
         "29",
         "30",
         "44.0",
         "Female",
         "Finance",
         "5.0",
         "96363.0",
         "8.0",
         "19.0",
         "4.0",
         "3.0"
        ],
        [
         "30",
         "31",
         "59.0",
         "Male",
         "IT",
         "8.0",
         "32655.0",
         "2.0",
         "4.0",
         "2.0",
         "0.0"
        ],
        [
         "31",
         "32",
         "45.0",
         "Male",
         "Finance",
         "14.0",
         "73105.0",
         "3.0",
         "1.0",
         "1.0",
         "5.0"
        ],
        [
         "32",
         "33",
         "33.0",
         "Female",
         "Sales",
         "6.0",
         "85863.0",
         "10.0",
         "25.0",
         null,
         "10.0"
        ],
        [
         "33",
         "34",
         "32.0",
         "Female",
         "Finance",
         "7.0",
         "91045.0",
         "10.0",
         null,
         null,
         "1.0"
        ],
        [
         "34",
         "35",
         "64.0",
         "Male",
         "Finance",
         "17.0",
         "75517.0",
         "7.0",
         "17.0",
         "3.0",
         "2.0"
        ],
        [
         "35",
         "36",
         "61.0",
         "Male",
         "Marketing",
         "20.0",
         "104227.0",
         "1.0",
         null,
         "2.0",
         "10.0"
        ],
        [
         "36",
         "37",
         "20.0",
         "Female",
         "Finance",
         "15.0",
         "73638.0",
         "5.0",
         "21.0",
         "2.0",
         "8.0"
        ],
        [
         "37",
         "38",
         "54.0",
         "Male",
         "Marketing",
         "14.0",
         "104789.0",
         "6.0",
         "27.0",
         "1.0",
         "6.0"
        ],
        [
         "38",
         "39",
         "24.0",
         "Male",
         "Marketing",
         "2.0",
         null,
         "10.0",
         "11.0",
         "1.0",
         "3.0"
        ],
        [
         "41",
         "42",
         "56.0",
         "Male",
         "Marketing",
         "11.0",
         null,
         "10.0",
         "33.0",
         "1.0",
         "3.0"
        ],
        [
         "42",
         "43",
         "35.0",
         "Other",
         null,
         "8.0",
         "34222.0",
         "7.0",
         "2.0",
         "3.0",
         "9.0"
        ],
        [
         "43",
         "44",
         "21.0",
         "Female",
         "Marketing",
         "1.0",
         "121238.0",
         "3.0",
         "4.0",
         "4.0",
         "5.0"
        ],
        [
         "45",
         "46",
         "31.0",
         "Other",
         "Marketing",
         "7.0",
         "40716.0",
         "1.0",
         "12.0",
         "3.0",
         "10.0"
        ],
        [
         "46",
         "47",
         "26.0",
         "Male",
         "IT",
         "4.0",
         "90644.0",
         "4.0",
         "23.0",
         "5.0",
         "8.0"
        ],
        [
         "47",
         "48",
         "43.0",
         "Male",
         "IT",
         "12.0",
         "118499.0",
         "7.0",
         "27.0",
         "5.0",
         "3.0"
        ],
        [
         "48",
         "49",
         "19.0",
         "Female",
         null,
         "1.0",
         "117424.0",
         "7.0",
         "16.0",
         "5.0",
         "5.0"
        ],
        [
         "50",
         "51",
         "45.0",
         "Male",
         "HR",
         "5.0",
         "31382.0",
         "1.0",
         "26.0",
         "1.0",
         null
        ],
        [
         "51",
         "52",
         "64.0",
         "Male",
         "Marketing",
         "6.0",
         "92225.0",
         "8.0",
         "28.0",
         "5.0",
         "5.0"
        ],
        [
         "52",
         "53",
         "24.0",
         "Male",
         "HR",
         "2.0",
         "109898.0",
         "4.0",
         "11.0",
         "5.0",
         "8.0"
        ],
        [
         "53",
         "54",
         "61.0",
         "Female",
         "Finance",
         "13.0",
         "94347.0",
         "2.0",
         null,
         "4.0",
         "2.0"
        ],
        [
         "54",
         "55",
         "25.0",
         "Female",
         "Sales",
         "15.0",
         "34167.0",
         "4.0",
         "4.0",
         null,
         null
        ],
        [
         "55",
         "56",
         "64.0",
         "Other",
         "HR",
         null,
         "147854.0",
         "8.0",
         null,
         "2.0",
         "10.0"
        ],
        [
         "56",
         "57",
         "52.0",
         "Male",
         "IT",
         "7.0",
         "147323.0",
         "8.0",
         "10.0",
         "2.0",
         "8.0"
        ]
       ],
       "shape": {
        "columns": 10,
        "rows": 8749
       }
      },
      "text/html": [
       "<div>\n",
       "<style scoped>\n",
       "    .dataframe tbody tr th:only-of-type {\n",
       "        vertical-align: middle;\n",
       "    }\n",
       "\n",
       "    .dataframe tbody tr th {\n",
       "        vertical-align: top;\n",
       "    }\n",
       "\n",
       "    .dataframe thead th {\n",
       "        text-align: right;\n",
       "    }\n",
       "</style>\n",
       "<table border=\"1\" class=\"dataframe\">\n",
       "  <thead>\n",
       "    <tr style=\"text-align: right;\">\n",
       "      <th></th>\n",
       "      <th>employee_id</th>\n",
       "      <th>age</th>\n",
       "      <th>gender</th>\n",
       "      <th>department</th>\n",
       "      <th>years_of_experience</th>\n",
       "      <th>salary</th>\n",
       "      <th>performance_score</th>\n",
       "      <th>training_hours</th>\n",
       "      <th>job_satisfaction</th>\n",
       "      <th>last_promotion</th>\n",
       "    </tr>\n",
       "  </thead>\n",
       "  <tbody>\n",
       "    <tr>\n",
       "      <th>1</th>\n",
       "      <td>2</td>\n",
       "      <td>46.0</td>\n",
       "      <td>Male</td>\n",
       "      <td>Sales</td>\n",
       "      <td>NaN</td>\n",
       "      <td>96192.0</td>\n",
       "      <td>7.0</td>\n",
       "      <td>30.0</td>\n",
       "      <td>3.0</td>\n",
       "      <td>0.0</td>\n",
       "    </tr>\n",
       "    <tr>\n",
       "      <th>2</th>\n",
       "      <td>3</td>\n",
       "      <td>32.0</td>\n",
       "      <td>Female</td>\n",
       "      <td>HR</td>\n",
       "      <td>12.0</td>\n",
       "      <td>45609.0</td>\n",
       "      <td>1.0</td>\n",
       "      <td>NaN</td>\n",
       "      <td>5.0</td>\n",
       "      <td>3.0</td>\n",
       "    </tr>\n",
       "    <tr>\n",
       "      <th>3</th>\n",
       "      <td>4</td>\n",
       "      <td>60.0</td>\n",
       "      <td>Female</td>\n",
       "      <td>Sales</td>\n",
       "      <td>12.0</td>\n",
       "      <td>49535.0</td>\n",
       "      <td>1.0</td>\n",
       "      <td>12.0</td>\n",
       "      <td>2.0</td>\n",
       "      <td>6.0</td>\n",
       "    </tr>\n",
       "    <tr>\n",
       "      <th>4</th>\n",
       "      <td>5</td>\n",
       "      <td>25.0</td>\n",
       "      <td>Female</td>\n",
       "      <td>NaN</td>\n",
       "      <td>4.0</td>\n",
       "      <td>34110.0</td>\n",
       "      <td>9.0</td>\n",
       "      <td>NaN</td>\n",
       "      <td>1.0</td>\n",
       "      <td>3.0</td>\n",
       "    </tr>\n",
       "    <tr>\n",
       "      <th>5</th>\n",
       "      <td>6</td>\n",
       "      <td>38.0</td>\n",
       "      <td>Female</td>\n",
       "      <td>Finance</td>\n",
       "      <td>11.0</td>\n",
       "      <td>139518.0</td>\n",
       "      <td>6.0</td>\n",
       "      <td>20.0</td>\n",
       "      <td>3.0</td>\n",
       "      <td>7.0</td>\n",
       "    </tr>\n",
       "    <tr>\n",
       "      <th>...</th>\n",
       "      <td>...</td>\n",
       "      <td>...</td>\n",
       "      <td>...</td>\n",
       "      <td>...</td>\n",
       "      <td>...</td>\n",
       "      <td>...</td>\n",
       "      <td>...</td>\n",
       "      <td>...</td>\n",
       "      <td>...</td>\n",
       "      <td>...</td>\n",
       "    </tr>\n",
       "    <tr>\n",
       "      <th>9994</th>\n",
       "      <td>9995</td>\n",
       "      <td>19.0</td>\n",
       "      <td>Female</td>\n",
       "      <td>Sales</td>\n",
       "      <td>1.0</td>\n",
       "      <td>94770.0</td>\n",
       "      <td>10.0</td>\n",
       "      <td>NaN</td>\n",
       "      <td>5.0</td>\n",
       "      <td>NaN</td>\n",
       "    </tr>\n",
       "    <tr>\n",
       "      <th>9995</th>\n",
       "      <td>9996</td>\n",
       "      <td>34.0</td>\n",
       "      <td>Female</td>\n",
       "      <td>Marketing</td>\n",
       "      <td>5.0</td>\n",
       "      <td>124380.0</td>\n",
       "      <td>1.0</td>\n",
       "      <td>15.0</td>\n",
       "      <td>4.0</td>\n",
       "      <td>NaN</td>\n",
       "    </tr>\n",
       "    <tr>\n",
       "      <th>9996</th>\n",
       "      <td>9997</td>\n",
       "      <td>47.0</td>\n",
       "      <td>Male</td>\n",
       "      <td>HR</td>\n",
       "      <td>7.0</td>\n",
       "      <td>31740.0</td>\n",
       "      <td>7.0</td>\n",
       "      <td>30.0</td>\n",
       "      <td>3.0</td>\n",
       "      <td>NaN</td>\n",
       "    </tr>\n",
       "    <tr>\n",
       "      <th>9998</th>\n",
       "      <td>9999</td>\n",
       "      <td>24.0</td>\n",
       "      <td>Male</td>\n",
       "      <td>NaN</td>\n",
       "      <td>20.0</td>\n",
       "      <td>98354.0</td>\n",
       "      <td>6.0</td>\n",
       "      <td>32.0</td>\n",
       "      <td>2.0</td>\n",
       "      <td>4.0</td>\n",
       "    </tr>\n",
       "    <tr>\n",
       "      <th>9999</th>\n",
       "      <td>10000</td>\n",
       "      <td>44.0</td>\n",
       "      <td>Male</td>\n",
       "      <td>NaN</td>\n",
       "      <td>16.0</td>\n",
       "      <td>113273.0</td>\n",
       "      <td>9.0</td>\n",
       "      <td>19.0</td>\n",
       "      <td>1.0</td>\n",
       "      <td>5.0</td>\n",
       "    </tr>\n",
       "  </tbody>\n",
       "</table>\n",
       "<p>8749 rows × 10 columns</p>\n",
       "</div>"
      ],
      "text/plain": [
       "      employee_id   age  gender department  years_of_experience    salary  \\\n",
       "1               2  46.0    Male      Sales                  NaN   96192.0   \n",
       "2               3  32.0  Female         HR                 12.0   45609.0   \n",
       "3               4  60.0  Female      Sales                 12.0   49535.0   \n",
       "4               5  25.0  Female        NaN                  4.0   34110.0   \n",
       "5               6  38.0  Female    Finance                 11.0  139518.0   \n",
       "...           ...   ...     ...        ...                  ...       ...   \n",
       "9994         9995  19.0  Female      Sales                  1.0   94770.0   \n",
       "9995         9996  34.0  Female  Marketing                  5.0  124380.0   \n",
       "9996         9997  47.0    Male         HR                  7.0   31740.0   \n",
       "9998         9999  24.0    Male        NaN                 20.0   98354.0   \n",
       "9999        10000  44.0    Male        NaN                 16.0  113273.0   \n",
       "\n",
       "      performance_score  training_hours  job_satisfaction  last_promotion  \n",
       "1                   7.0            30.0               3.0             0.0  \n",
       "2                   1.0             NaN               5.0             3.0  \n",
       "3                   1.0            12.0               2.0             6.0  \n",
       "4                   9.0             NaN               1.0             3.0  \n",
       "5                   6.0            20.0               3.0             7.0  \n",
       "...                 ...             ...               ...             ...  \n",
       "9994               10.0             NaN               5.0             NaN  \n",
       "9995                1.0            15.0               4.0             NaN  \n",
       "9996                7.0            30.0               3.0             NaN  \n",
       "9998                6.0            32.0               2.0             4.0  \n",
       "9999                9.0            19.0               1.0             5.0  \n",
       "\n",
       "[8749 rows x 10 columns]"
      ]
     },
     "execution_count": 64,
     "metadata": {},
     "output_type": "execute_result"
    }
   ],
   "source": [
    "# Drop rows with missing values in those columns\n",
    "df = df.dropna(subset=columns_to_clean)\n",
    "df"
   ]
  },
  {
   "cell_type": "code",
   "execution_count": 65,
   "id": "29c53e64",
   "metadata": {},
   "outputs": [
    {
     "data": {
      "application/vnd.microsoft.datawrangler.viewer.v0+json": {
       "columns": [
        {
         "name": "index",
         "rawType": "object",
         "type": "string"
        },
        {
         "name": "0",
         "rawType": "int64",
         "type": "integer"
        }
       ],
       "ref": "7d8937fd-5bc3-4220-bb54-3f36394eb6b7",
       "rows": [
        [
         "employee_id",
         "0"
        ],
        [
         "age",
         "0"
        ],
        [
         "gender",
         "0"
        ],
        [
         "department",
         "692"
        ],
        [
         "years_of_experience",
         "851"
        ],
        [
         "salary",
         "613"
        ],
        [
         "performance_score",
         "0"
        ],
        [
         "training_hours",
         "1327"
        ],
        [
         "job_satisfaction",
         "889"
        ],
        [
         "last_promotion",
         "1763"
        ]
       ],
       "shape": {
        "columns": 1,
        "rows": 10
       }
      },
      "text/plain": [
       "employee_id               0\n",
       "age                       0\n",
       "gender                    0\n",
       "department              692\n",
       "years_of_experience     851\n",
       "salary                  613\n",
       "performance_score         0\n",
       "training_hours         1327\n",
       "job_satisfaction        889\n",
       "last_promotion         1763\n",
       "dtype: int64"
      ]
     },
     "execution_count": 65,
     "metadata": {},
     "output_type": "execute_result"
    }
   ],
   "source": [
    "df.isnull().sum()"
   ]
  },
  {
   "cell_type": "code",
   "execution_count": 66,
   "id": "67a6af75",
   "metadata": {},
   "outputs": [
    {
     "data": {
      "application/vnd.microsoft.datawrangler.viewer.v0+json": {
       "columns": [
        {
         "name": "index",
         "rawType": "int64",
         "type": "integer"
        },
        {
         "name": "age",
         "rawType": "float64",
         "type": "float"
        },
        {
         "name": "gender",
         "rawType": "object",
         "type": "string"
        },
        {
         "name": "department",
         "rawType": "object",
         "type": "unknown"
        },
        {
         "name": "years_of_experience",
         "rawType": "float64",
         "type": "float"
        },
        {
         "name": "salary",
         "rawType": "float64",
         "type": "float"
        },
        {
         "name": "performance_score",
         "rawType": "float64",
         "type": "float"
        },
        {
         "name": "training_hours",
         "rawType": "float64",
         "type": "float"
        },
        {
         "name": "job_satisfaction",
         "rawType": "float64",
         "type": "float"
        },
        {
         "name": "last_promotion",
         "rawType": "float64",
         "type": "float"
        }
       ],
       "ref": "1ba1606b-a76a-407e-8c00-f3ea30e81603",
       "rows": [
        [
         "1",
         "46.0",
         "Male",
         "Sales",
         null,
         "96192.0",
         "7.0",
         "30.0",
         "3.0",
         "0.0"
        ],
        [
         "2",
         "32.0",
         "Female",
         "HR",
         "12.0",
         "45609.0",
         "1.0",
         null,
         "5.0",
         "3.0"
        ],
        [
         "3",
         "60.0",
         "Female",
         "Sales",
         "12.0",
         "49535.0",
         "1.0",
         "12.0",
         "2.0",
         "6.0"
        ],
        [
         "4",
         "25.0",
         "Female",
         null,
         "4.0",
         "34110.0",
         "9.0",
         null,
         "1.0",
         "3.0"
        ],
        [
         "5",
         "38.0",
         "Female",
         "Finance",
         "11.0",
         "139518.0",
         "6.0",
         "20.0",
         "3.0",
         "7.0"
        ],
        [
         "7",
         "36.0",
         "Male",
         "IT",
         "13.0",
         "92544.0",
         "2.0",
         "14.0",
         "2.0",
         "4.0"
        ],
        [
         "8",
         "40.0",
         "Male",
         "Marketing",
         "7.0",
         "78637.0",
         "2.0",
         "20.0",
         "2.0",
         "9.0"
        ],
        [
         "9",
         "28.0",
         "Female",
         "HR",
         "7.0",
         "63074.0",
         "7.0",
         "7.0",
         "4.0",
         "3.0"
        ],
        [
         "10",
         "28.0",
         "Female",
         "Finance",
         "6.0",
         "71664.0",
         "6.0",
         "30.0",
         "4.0",
         "7.0"
        ],
        [
         "11",
         "41.0",
         "Female",
         "IT",
         "16.0",
         "116412.0",
         "8.0",
         "9.0",
         null,
         null
        ],
        [
         "12",
         "53.0",
         "Male",
         null,
         "20.0",
         "104405.0",
         "3.0",
         "20.0",
         "1.0",
         null
        ],
        [
         "13",
         "57.0",
         "Male",
         "HR",
         "10.0",
         "127225.0",
         "3.0",
         "16.0",
         "5.0",
         "4.0"
        ],
        [
         "14",
         "41.0",
         "Male",
         null,
         "9.0",
         "73872.0",
         "5.0",
         "4.0",
         "1.0",
         null
        ],
        [
         "15",
         "20.0",
         "Male",
         "IT",
         null,
         "42185.0",
         "10.0",
         null,
         "1.0",
         null
        ],
        [
         "16",
         "39.0",
         "Male",
         null,
         "9.0",
         "136706.0",
         "4.0",
         "20.0",
         "5.0",
         "8.0"
        ],
        [
         "18",
         "41.0",
         "Male",
         "HR",
         "13.0",
         "31396.0",
         "6.0",
         "24.0",
         "3.0",
         "4.0"
        ],
        [
         "19",
         "61.0",
         "Female",
         null,
         "8.0",
         "33460.0",
         "8.0",
         "27.0",
         "4.0",
         null
        ],
        [
         "20",
         "47.0",
         "Male",
         "HR",
         null,
         "132657.0",
         "7.0",
         "1.0",
         "2.0",
         "1.0"
        ],
        [
         "21",
         "55.0",
         "Female",
         "Finance",
         "6.0",
         "81314.0",
         "2.0",
         "20.0",
         "5.0",
         "5.0"
        ],
        [
         "22",
         "19.0",
         "Male",
         "IT",
         "17.0",
         "75389.0",
         "9.0",
         "40.0",
         "1.0",
         "5.0"
        ],
        [
         "23",
         "38.0",
         "Male",
         "IT",
         "15.0",
         "124556.0",
         "6.0",
         "21.0",
         "2.0",
         "3.0"
        ],
        [
         "24",
         "50.0",
         "Male",
         "Marketing",
         "7.0",
         "138776.0",
         "6.0",
         "1.0",
         null,
         "1.0"
        ],
        [
         "25",
         "29.0",
         "Other",
         "Finance",
         null,
         "37676.0",
         "2.0",
         "29.0",
         "1.0",
         "7.0"
        ],
        [
         "26",
         "39.0",
         "Female",
         "Marketing",
         "18.0",
         "67312.0",
         "9.0",
         "0.0",
         "1.0",
         "7.0"
        ],
        [
         "27",
         "61.0",
         "Male",
         "Marketing",
         "14.0",
         "33148.0",
         "1.0",
         "12.0",
         "1.0",
         null
        ],
        [
         "28",
         "42.0",
         "Male",
         "Sales",
         "14.0",
         "42272.0",
         "6.0",
         "2.0",
         "3.0",
         "1.0"
        ],
        [
         "29",
         "44.0",
         "Female",
         "Finance",
         "5.0",
         "96363.0",
         "8.0",
         "19.0",
         "4.0",
         "3.0"
        ],
        [
         "30",
         "59.0",
         "Male",
         "IT",
         "8.0",
         "32655.0",
         "2.0",
         "4.0",
         "2.0",
         "0.0"
        ],
        [
         "31",
         "45.0",
         "Male",
         "Finance",
         "14.0",
         "73105.0",
         "3.0",
         "1.0",
         "1.0",
         "5.0"
        ],
        [
         "32",
         "33.0",
         "Female",
         "Sales",
         "6.0",
         "85863.0",
         "10.0",
         "25.0",
         null,
         "10.0"
        ],
        [
         "33",
         "32.0",
         "Female",
         "Finance",
         "7.0",
         "91045.0",
         "10.0",
         null,
         null,
         "1.0"
        ],
        [
         "34",
         "64.0",
         "Male",
         "Finance",
         "17.0",
         "75517.0",
         "7.0",
         "17.0",
         "3.0",
         "2.0"
        ],
        [
         "35",
         "61.0",
         "Male",
         "Marketing",
         "20.0",
         "104227.0",
         "1.0",
         null,
         "2.0",
         "10.0"
        ],
        [
         "36",
         "20.0",
         "Female",
         "Finance",
         "15.0",
         "73638.0",
         "5.0",
         "21.0",
         "2.0",
         "8.0"
        ],
        [
         "37",
         "54.0",
         "Male",
         "Marketing",
         "14.0",
         "104789.0",
         "6.0",
         "27.0",
         "1.0",
         "6.0"
        ],
        [
         "38",
         "24.0",
         "Male",
         "Marketing",
         "2.0",
         null,
         "10.0",
         "11.0",
         "1.0",
         "3.0"
        ],
        [
         "41",
         "56.0",
         "Male",
         "Marketing",
         "11.0",
         null,
         "10.0",
         "33.0",
         "1.0",
         "3.0"
        ],
        [
         "42",
         "35.0",
         "Other",
         null,
         "8.0",
         "34222.0",
         "7.0",
         "2.0",
         "3.0",
         "9.0"
        ],
        [
         "43",
         "21.0",
         "Female",
         "Marketing",
         "1.0",
         "121238.0",
         "3.0",
         "4.0",
         "4.0",
         "5.0"
        ],
        [
         "45",
         "31.0",
         "Other",
         "Marketing",
         "7.0",
         "40716.0",
         "1.0",
         "12.0",
         "3.0",
         "10.0"
        ],
        [
         "46",
         "26.0",
         "Male",
         "IT",
         "4.0",
         "90644.0",
         "4.0",
         "23.0",
         "5.0",
         "8.0"
        ],
        [
         "47",
         "43.0",
         "Male",
         "IT",
         "12.0",
         "118499.0",
         "7.0",
         "27.0",
         "5.0",
         "3.0"
        ],
        [
         "48",
         "19.0",
         "Female",
         null,
         "1.0",
         "117424.0",
         "7.0",
         "16.0",
         "5.0",
         "5.0"
        ],
        [
         "50",
         "45.0",
         "Male",
         "HR",
         "5.0",
         "31382.0",
         "1.0",
         "26.0",
         "1.0",
         null
        ],
        [
         "51",
         "64.0",
         "Male",
         "Marketing",
         "6.0",
         "92225.0",
         "8.0",
         "28.0",
         "5.0",
         "5.0"
        ],
        [
         "52",
         "24.0",
         "Male",
         "HR",
         "2.0",
         "109898.0",
         "4.0",
         "11.0",
         "5.0",
         "8.0"
        ],
        [
         "53",
         "61.0",
         "Female",
         "Finance",
         "13.0",
         "94347.0",
         "2.0",
         null,
         "4.0",
         "2.0"
        ],
        [
         "54",
         "25.0",
         "Female",
         "Sales",
         "15.0",
         "34167.0",
         "4.0",
         "4.0",
         null,
         null
        ],
        [
         "55",
         "64.0",
         "Other",
         "HR",
         null,
         "147854.0",
         "8.0",
         null,
         "2.0",
         "10.0"
        ],
        [
         "56",
         "52.0",
         "Male",
         "IT",
         "7.0",
         "147323.0",
         "8.0",
         "10.0",
         "2.0",
         "8.0"
        ]
       ],
       "shape": {
        "columns": 9,
        "rows": 8749
       }
      },
      "text/html": [
       "<div>\n",
       "<style scoped>\n",
       "    .dataframe tbody tr th:only-of-type {\n",
       "        vertical-align: middle;\n",
       "    }\n",
       "\n",
       "    .dataframe tbody tr th {\n",
       "        vertical-align: top;\n",
       "    }\n",
       "\n",
       "    .dataframe thead th {\n",
       "        text-align: right;\n",
       "    }\n",
       "</style>\n",
       "<table border=\"1\" class=\"dataframe\">\n",
       "  <thead>\n",
       "    <tr style=\"text-align: right;\">\n",
       "      <th></th>\n",
       "      <th>age</th>\n",
       "      <th>gender</th>\n",
       "      <th>department</th>\n",
       "      <th>years_of_experience</th>\n",
       "      <th>salary</th>\n",
       "      <th>performance_score</th>\n",
       "      <th>training_hours</th>\n",
       "      <th>job_satisfaction</th>\n",
       "      <th>last_promotion</th>\n",
       "    </tr>\n",
       "  </thead>\n",
       "  <tbody>\n",
       "    <tr>\n",
       "      <th>1</th>\n",
       "      <td>46.0</td>\n",
       "      <td>Male</td>\n",
       "      <td>Sales</td>\n",
       "      <td>NaN</td>\n",
       "      <td>96192.0</td>\n",
       "      <td>7.0</td>\n",
       "      <td>30.0</td>\n",
       "      <td>3.0</td>\n",
       "      <td>0.0</td>\n",
       "    </tr>\n",
       "    <tr>\n",
       "      <th>2</th>\n",
       "      <td>32.0</td>\n",
       "      <td>Female</td>\n",
       "      <td>HR</td>\n",
       "      <td>12.0</td>\n",
       "      <td>45609.0</td>\n",
       "      <td>1.0</td>\n",
       "      <td>NaN</td>\n",
       "      <td>5.0</td>\n",
       "      <td>3.0</td>\n",
       "    </tr>\n",
       "    <tr>\n",
       "      <th>3</th>\n",
       "      <td>60.0</td>\n",
       "      <td>Female</td>\n",
       "      <td>Sales</td>\n",
       "      <td>12.0</td>\n",
       "      <td>49535.0</td>\n",
       "      <td>1.0</td>\n",
       "      <td>12.0</td>\n",
       "      <td>2.0</td>\n",
       "      <td>6.0</td>\n",
       "    </tr>\n",
       "    <tr>\n",
       "      <th>4</th>\n",
       "      <td>25.0</td>\n",
       "      <td>Female</td>\n",
       "      <td>NaN</td>\n",
       "      <td>4.0</td>\n",
       "      <td>34110.0</td>\n",
       "      <td>9.0</td>\n",
       "      <td>NaN</td>\n",
       "      <td>1.0</td>\n",
       "      <td>3.0</td>\n",
       "    </tr>\n",
       "    <tr>\n",
       "      <th>5</th>\n",
       "      <td>38.0</td>\n",
       "      <td>Female</td>\n",
       "      <td>Finance</td>\n",
       "      <td>11.0</td>\n",
       "      <td>139518.0</td>\n",
       "      <td>6.0</td>\n",
       "      <td>20.0</td>\n",
       "      <td>3.0</td>\n",
       "      <td>7.0</td>\n",
       "    </tr>\n",
       "    <tr>\n",
       "      <th>...</th>\n",
       "      <td>...</td>\n",
       "      <td>...</td>\n",
       "      <td>...</td>\n",
       "      <td>...</td>\n",
       "      <td>...</td>\n",
       "      <td>...</td>\n",
       "      <td>...</td>\n",
       "      <td>...</td>\n",
       "      <td>...</td>\n",
       "    </tr>\n",
       "    <tr>\n",
       "      <th>9994</th>\n",
       "      <td>19.0</td>\n",
       "      <td>Female</td>\n",
       "      <td>Sales</td>\n",
       "      <td>1.0</td>\n",
       "      <td>94770.0</td>\n",
       "      <td>10.0</td>\n",
       "      <td>NaN</td>\n",
       "      <td>5.0</td>\n",
       "      <td>NaN</td>\n",
       "    </tr>\n",
       "    <tr>\n",
       "      <th>9995</th>\n",
       "      <td>34.0</td>\n",
       "      <td>Female</td>\n",
       "      <td>Marketing</td>\n",
       "      <td>5.0</td>\n",
       "      <td>124380.0</td>\n",
       "      <td>1.0</td>\n",
       "      <td>15.0</td>\n",
       "      <td>4.0</td>\n",
       "      <td>NaN</td>\n",
       "    </tr>\n",
       "    <tr>\n",
       "      <th>9996</th>\n",
       "      <td>47.0</td>\n",
       "      <td>Male</td>\n",
       "      <td>HR</td>\n",
       "      <td>7.0</td>\n",
       "      <td>31740.0</td>\n",
       "      <td>7.0</td>\n",
       "      <td>30.0</td>\n",
       "      <td>3.0</td>\n",
       "      <td>NaN</td>\n",
       "    </tr>\n",
       "    <tr>\n",
       "      <th>9998</th>\n",
       "      <td>24.0</td>\n",
       "      <td>Male</td>\n",
       "      <td>NaN</td>\n",
       "      <td>20.0</td>\n",
       "      <td>98354.0</td>\n",
       "      <td>6.0</td>\n",
       "      <td>32.0</td>\n",
       "      <td>2.0</td>\n",
       "      <td>4.0</td>\n",
       "    </tr>\n",
       "    <tr>\n",
       "      <th>9999</th>\n",
       "      <td>44.0</td>\n",
       "      <td>Male</td>\n",
       "      <td>NaN</td>\n",
       "      <td>16.0</td>\n",
       "      <td>113273.0</td>\n",
       "      <td>9.0</td>\n",
       "      <td>19.0</td>\n",
       "      <td>1.0</td>\n",
       "      <td>5.0</td>\n",
       "    </tr>\n",
       "  </tbody>\n",
       "</table>\n",
       "<p>8749 rows × 9 columns</p>\n",
       "</div>"
      ],
      "text/plain": [
       "       age  gender department  years_of_experience    salary  \\\n",
       "1     46.0    Male      Sales                  NaN   96192.0   \n",
       "2     32.0  Female         HR                 12.0   45609.0   \n",
       "3     60.0  Female      Sales                 12.0   49535.0   \n",
       "4     25.0  Female        NaN                  4.0   34110.0   \n",
       "5     38.0  Female    Finance                 11.0  139518.0   \n",
       "...    ...     ...        ...                  ...       ...   \n",
       "9994  19.0  Female      Sales                  1.0   94770.0   \n",
       "9995  34.0  Female  Marketing                  5.0  124380.0   \n",
       "9996  47.0    Male         HR                  7.0   31740.0   \n",
       "9998  24.0    Male        NaN                 20.0   98354.0   \n",
       "9999  44.0    Male        NaN                 16.0  113273.0   \n",
       "\n",
       "      performance_score  training_hours  job_satisfaction  last_promotion  \n",
       "1                   7.0            30.0               3.0             0.0  \n",
       "2                   1.0             NaN               5.0             3.0  \n",
       "3                   1.0            12.0               2.0             6.0  \n",
       "4                   9.0             NaN               1.0             3.0  \n",
       "5                   6.0            20.0               3.0             7.0  \n",
       "...                 ...             ...               ...             ...  \n",
       "9994               10.0             NaN               5.0             NaN  \n",
       "9995                1.0            15.0               4.0             NaN  \n",
       "9996                7.0            30.0               3.0             NaN  \n",
       "9998                6.0            32.0               2.0             4.0  \n",
       "9999                9.0            19.0               1.0             5.0  \n",
       "\n",
       "[8749 rows x 9 columns]"
      ]
     },
     "execution_count": 66,
     "metadata": {},
     "output_type": "execute_result"
    }
   ],
   "source": [
    "# drop ID column\n",
    "df = df.drop(['employee_id'], axis=1)\n",
    "df"
   ]
  },
  {
   "cell_type": "code",
   "execution_count": 67,
   "id": "8811ee46",
   "metadata": {},
   "outputs": [],
   "source": [
    "# convert gender and department to categorical variables\n",
    "df['gender'] = df['gender'].astype('category')\n",
    "df['department'] = df['department'].astype('category')"
   ]
  },
  {
   "cell_type": "code",
   "execution_count": 68,
   "id": "a3cdef32",
   "metadata": {},
   "outputs": [
    {
     "data": {
      "application/vnd.microsoft.datawrangler.viewer.v0+json": {
       "columns": [
        {
         "name": "index",
         "rawType": "int64",
         "type": "integer"
        },
        {
         "name": "age",
         "rawType": "float64",
         "type": "float"
        },
        {
         "name": "gender",
         "rawType": "int8",
         "type": "integer"
        },
        {
         "name": "department",
         "rawType": "int8",
         "type": "integer"
        },
        {
         "name": "years_of_experience",
         "rawType": "float64",
         "type": "float"
        },
        {
         "name": "salary",
         "rawType": "float64",
         "type": "float"
        },
        {
         "name": "performance_score",
         "rawType": "float64",
         "type": "float"
        },
        {
         "name": "training_hours",
         "rawType": "float64",
         "type": "float"
        },
        {
         "name": "job_satisfaction",
         "rawType": "float64",
         "type": "float"
        },
        {
         "name": "last_promotion",
         "rawType": "float64",
         "type": "float"
        }
       ],
       "ref": "5af3ffa4-808b-41c8-8e63-a9dbb8fc6029",
       "rows": [
        [
         "1",
         "46.0",
         "1",
         "4",
         null,
         "96192.0",
         "7.0",
         "30.0",
         "3.0",
         "0.0"
        ],
        [
         "2",
         "32.0",
         "0",
         "1",
         "12.0",
         "45609.0",
         "1.0",
         null,
         "5.0",
         "3.0"
        ],
        [
         "3",
         "60.0",
         "0",
         "4",
         "12.0",
         "49535.0",
         "1.0",
         "12.0",
         "2.0",
         "6.0"
        ],
        [
         "4",
         "25.0",
         "0",
         "-1",
         "4.0",
         "34110.0",
         "9.0",
         null,
         "1.0",
         "3.0"
        ],
        [
         "5",
         "38.0",
         "0",
         "0",
         "11.0",
         "139518.0",
         "6.0",
         "20.0",
         "3.0",
         "7.0"
        ]
       ],
       "shape": {
        "columns": 9,
        "rows": 5
       }
      },
      "text/html": [
       "<div>\n",
       "<style scoped>\n",
       "    .dataframe tbody tr th:only-of-type {\n",
       "        vertical-align: middle;\n",
       "    }\n",
       "\n",
       "    .dataframe tbody tr th {\n",
       "        vertical-align: top;\n",
       "    }\n",
       "\n",
       "    .dataframe thead th {\n",
       "        text-align: right;\n",
       "    }\n",
       "</style>\n",
       "<table border=\"1\" class=\"dataframe\">\n",
       "  <thead>\n",
       "    <tr style=\"text-align: right;\">\n",
       "      <th></th>\n",
       "      <th>age</th>\n",
       "      <th>gender</th>\n",
       "      <th>department</th>\n",
       "      <th>years_of_experience</th>\n",
       "      <th>salary</th>\n",
       "      <th>performance_score</th>\n",
       "      <th>training_hours</th>\n",
       "      <th>job_satisfaction</th>\n",
       "      <th>last_promotion</th>\n",
       "    </tr>\n",
       "  </thead>\n",
       "  <tbody>\n",
       "    <tr>\n",
       "      <th>1</th>\n",
       "      <td>46.0</td>\n",
       "      <td>1</td>\n",
       "      <td>4</td>\n",
       "      <td>NaN</td>\n",
       "      <td>96192.0</td>\n",
       "      <td>7.0</td>\n",
       "      <td>30.0</td>\n",
       "      <td>3.0</td>\n",
       "      <td>0.0</td>\n",
       "    </tr>\n",
       "    <tr>\n",
       "      <th>2</th>\n",
       "      <td>32.0</td>\n",
       "      <td>0</td>\n",
       "      <td>1</td>\n",
       "      <td>12.0</td>\n",
       "      <td>45609.0</td>\n",
       "      <td>1.0</td>\n",
       "      <td>NaN</td>\n",
       "      <td>5.0</td>\n",
       "      <td>3.0</td>\n",
       "    </tr>\n",
       "    <tr>\n",
       "      <th>3</th>\n",
       "      <td>60.0</td>\n",
       "      <td>0</td>\n",
       "      <td>4</td>\n",
       "      <td>12.0</td>\n",
       "      <td>49535.0</td>\n",
       "      <td>1.0</td>\n",
       "      <td>12.0</td>\n",
       "      <td>2.0</td>\n",
       "      <td>6.0</td>\n",
       "    </tr>\n",
       "    <tr>\n",
       "      <th>4</th>\n",
       "      <td>25.0</td>\n",
       "      <td>0</td>\n",
       "      <td>-1</td>\n",
       "      <td>4.0</td>\n",
       "      <td>34110.0</td>\n",
       "      <td>9.0</td>\n",
       "      <td>NaN</td>\n",
       "      <td>1.0</td>\n",
       "      <td>3.0</td>\n",
       "    </tr>\n",
       "    <tr>\n",
       "      <th>5</th>\n",
       "      <td>38.0</td>\n",
       "      <td>0</td>\n",
       "      <td>0</td>\n",
       "      <td>11.0</td>\n",
       "      <td>139518.0</td>\n",
       "      <td>6.0</td>\n",
       "      <td>20.0</td>\n",
       "      <td>3.0</td>\n",
       "      <td>7.0</td>\n",
       "    </tr>\n",
       "  </tbody>\n",
       "</table>\n",
       "</div>"
      ],
      "text/plain": [
       "    age  gender  department  years_of_experience    salary  performance_score  \\\n",
       "1  46.0       1           4                  NaN   96192.0                7.0   \n",
       "2  32.0       0           1                 12.0   45609.0                1.0   \n",
       "3  60.0       0           4                 12.0   49535.0                1.0   \n",
       "4  25.0       0          -1                  4.0   34110.0                9.0   \n",
       "5  38.0       0           0                 11.0  139518.0                6.0   \n",
       "\n",
       "   training_hours  job_satisfaction  last_promotion  \n",
       "1            30.0               3.0             0.0  \n",
       "2             NaN               5.0             3.0  \n",
       "3            12.0               2.0             6.0  \n",
       "4             NaN               1.0             3.0  \n",
       "5            20.0               3.0             7.0  "
      ]
     },
     "execution_count": 68,
     "metadata": {},
     "output_type": "execute_result"
    }
   ],
   "source": [
    "# Convert categorical variables to numeric\n",
    "df['gender'] = df['gender'].cat.codes\n",
    "df['department'] = df['department'].cat.codes\n",
    "df.head()"
   ]
  },
  {
   "cell_type": "code",
   "execution_count": 69,
   "id": "64a25800",
   "metadata": {},
   "outputs": [],
   "source": [
    "# Split the data into training and testing sets\n",
    "X_num = df.drop(['performance_score','gender','department'], axis=1).values\n",
    "X_cat = df[['gender','department']].values\n",
    "y = df['performance_score'].values"
   ]
  },
  {
   "cell_type": "code",
   "execution_count": 70,
   "id": "67b46c8f",
   "metadata": {},
   "outputs": [],
   "source": [
    "# split to test and train\n",
    "# Numerical\n",
    "X_train_num, X_test_num, y_train, y_test = train_test_split(X_num, y, test_size=0.2, random_state=42)\n",
    "\n",
    "# Categorical\n",
    "X_train_cat, X_test_cat, y_train, y_test = train_test_split(X_cat, y, test_size=0.2, random_state=42)"
   ]
  },
  {
   "cell_type": "code",
   "execution_count": 71,
   "id": "d7576463",
   "metadata": {},
   "outputs": [],
   "source": [
    "# Simple Imputer for numerical data\n",
    "imp_num = SimpleImputer(strategy='mean')\n",
    "X_train_num = imp_num.fit_transform(X_train_num)\n",
    "X_test_num = imp_num.transform(X_test_num)"
   ]
  },
  {
   "cell_type": "code",
   "execution_count": 72,
   "id": "bde69742",
   "metadata": {},
   "outputs": [],
   "source": [
    "# Simple Imputer for categorical data\n",
    "imp_cat = SimpleImputer(strategy='most_frequent')\n",
    "X_train_cat= imp_cat.fit_transform(X_train_cat)\n",
    "X_test_cat = imp_cat.transform(X_test_cat)"
   ]
  },
  {
   "cell_type": "code",
   "execution_count": 73,
   "id": "31a78c27",
   "metadata": {},
   "outputs": [],
   "source": [
    "# Concat the transformed numerical and categorical data\n",
    "X_train = np.concatenate((X_train_num, X_train_cat), axis=1)\n",
    "X_test = np.concatenate((X_test_num, X_test_cat), axis=1)"
   ]
  },
  {
   "cell_type": "markdown",
   "id": "f4128043",
   "metadata": {},
   "source": [
    "Imputing within a pipeline"
   ]
  },
  {
   "cell_type": "code",
   "execution_count": 74,
   "id": "055c43d5",
   "metadata": {},
   "outputs": [],
   "source": [
    "df['gender'] = np.where(df['gender'] == 'Male', 1, 0)\n",
    "df['department'] = np.where(df['department'] == 'Sales', 1, 0)"
   ]
  },
  {
   "cell_type": "code",
   "execution_count": 75,
   "id": "c4e58e4d",
   "metadata": {},
   "outputs": [],
   "source": [
    "# create X and Y\n",
    "X = df.drop(['performance_score'], axis=1).values\n",
    "y = df['performance_score'].values"
   ]
  },
  {
   "cell_type": "code",
   "execution_count": 76,
   "id": "5b3a0f00",
   "metadata": {},
   "outputs": [],
   "source": [
    "# Build a pipeline\n",
    "steps = [('imputer', SimpleImputer(),\n",
    "         ('model', LogisticRegression()))]\n",
    "pipeline = Pipeline(steps)"
   ]
  },
  {
   "cell_type": "code",
   "execution_count": 78,
   "id": "8501c489",
   "metadata": {},
   "outputs": [
    {
     "ename": "ValueError",
     "evalue": "too many values to unpack (expected 2)",
     "output_type": "error",
     "traceback": [
      "\u001b[1;31m---------------------------------------------------------------------------\u001b[0m",
      "\u001b[1;31mValueError\u001b[0m                                Traceback (most recent call last)",
      "Cell \u001b[1;32mIn[78], line 5\u001b[0m\n\u001b[0;32m      2\u001b[0m X_train, X_test, y_train, y_test \u001b[38;5;241m=\u001b[39m train_test_split(X, y, test_size\u001b[38;5;241m=\u001b[39m\u001b[38;5;241m0.2\u001b[39m, random_state\u001b[38;5;241m=\u001b[39m\u001b[38;5;241m42\u001b[39m)\n\u001b[0;32m      4\u001b[0m \u001b[38;5;66;03m# fit the pipeline model\u001b[39;00m\n\u001b[1;32m----> 5\u001b[0m \u001b[43mpipeline\u001b[49m\u001b[38;5;241;43m.\u001b[39;49m\u001b[43mfit\u001b[49m\u001b[43m(\u001b[49m\u001b[43mX_train\u001b[49m\u001b[43m,\u001b[49m\u001b[43m \u001b[49m\u001b[43my_train\u001b[49m\u001b[43m)\u001b[49m\n\u001b[0;32m      7\u001b[0m \u001b[38;5;66;03m# score the model\u001b[39;00m\n\u001b[0;32m      8\u001b[0m pipeline\u001b[38;5;241m.\u001b[39mscore(X_test, y_test)\n",
      "File \u001b[1;32mc:\\Users\\PC\\AppData\\Local\\Programs\\Python\\Python313\\Lib\\site-packages\\sklearn\\base.py:1389\u001b[0m, in \u001b[0;36m_fit_context.<locals>.decorator.<locals>.wrapper\u001b[1;34m(estimator, *args, **kwargs)\u001b[0m\n\u001b[0;32m   1382\u001b[0m     estimator\u001b[38;5;241m.\u001b[39m_validate_params()\n\u001b[0;32m   1384\u001b[0m \u001b[38;5;28;01mwith\u001b[39;00m config_context(\n\u001b[0;32m   1385\u001b[0m     skip_parameter_validation\u001b[38;5;241m=\u001b[39m(\n\u001b[0;32m   1386\u001b[0m         prefer_skip_nested_validation \u001b[38;5;129;01mor\u001b[39;00m global_skip_validation\n\u001b[0;32m   1387\u001b[0m     )\n\u001b[0;32m   1388\u001b[0m ):\n\u001b[1;32m-> 1389\u001b[0m     \u001b[38;5;28;01mreturn\u001b[39;00m \u001b[43mfit_method\u001b[49m\u001b[43m(\u001b[49m\u001b[43mestimator\u001b[49m\u001b[43m,\u001b[49m\u001b[43m \u001b[49m\u001b[38;5;241;43m*\u001b[39;49m\u001b[43margs\u001b[49m\u001b[43m,\u001b[49m\u001b[43m \u001b[49m\u001b[38;5;241;43m*\u001b[39;49m\u001b[38;5;241;43m*\u001b[39;49m\u001b[43mkwargs\u001b[49m\u001b[43m)\u001b[49m\n",
      "File \u001b[1;32mc:\\Users\\PC\\AppData\\Local\\Programs\\Python\\Python313\\Lib\\site-packages\\sklearn\\pipeline.py:651\u001b[0m, in \u001b[0;36mPipeline.fit\u001b[1;34m(self, X, y, **params)\u001b[0m\n\u001b[0;32m    644\u001b[0m \u001b[38;5;28;01mif\u001b[39;00m \u001b[38;5;129;01mnot\u001b[39;00m _routing_enabled() \u001b[38;5;129;01mand\u001b[39;00m \u001b[38;5;28mself\u001b[39m\u001b[38;5;241m.\u001b[39mtransform_input \u001b[38;5;129;01mis\u001b[39;00m \u001b[38;5;129;01mnot\u001b[39;00m \u001b[38;5;28;01mNone\u001b[39;00m:\n\u001b[0;32m    645\u001b[0m     \u001b[38;5;28;01mraise\u001b[39;00m \u001b[38;5;167;01mValueError\u001b[39;00m(\n\u001b[0;32m    646\u001b[0m         \u001b[38;5;124m\"\u001b[39m\u001b[38;5;124mThe `transform_input` parameter can only be set if metadata \u001b[39m\u001b[38;5;124m\"\u001b[39m\n\u001b[0;32m    647\u001b[0m         \u001b[38;5;124m\"\u001b[39m\u001b[38;5;124mrouting is enabled. You can enable metadata routing using \u001b[39m\u001b[38;5;124m\"\u001b[39m\n\u001b[0;32m    648\u001b[0m         \u001b[38;5;124m\"\u001b[39m\u001b[38;5;124m`sklearn.set_config(enable_metadata_routing=True)`.\u001b[39m\u001b[38;5;124m\"\u001b[39m\n\u001b[0;32m    649\u001b[0m     )\n\u001b[1;32m--> 651\u001b[0m routed_params \u001b[38;5;241m=\u001b[39m \u001b[38;5;28;43mself\u001b[39;49m\u001b[38;5;241;43m.\u001b[39;49m\u001b[43m_check_method_params\u001b[49m\u001b[43m(\u001b[49m\u001b[43mmethod\u001b[49m\u001b[38;5;241;43m=\u001b[39;49m\u001b[38;5;124;43m\"\u001b[39;49m\u001b[38;5;124;43mfit\u001b[39;49m\u001b[38;5;124;43m\"\u001b[39;49m\u001b[43m,\u001b[49m\u001b[43m \u001b[49m\u001b[43mprops\u001b[49m\u001b[38;5;241;43m=\u001b[39;49m\u001b[43mparams\u001b[49m\u001b[43m)\u001b[49m\n\u001b[0;32m    652\u001b[0m Xt \u001b[38;5;241m=\u001b[39m \u001b[38;5;28mself\u001b[39m\u001b[38;5;241m.\u001b[39m_fit(X, y, routed_params, raw_params\u001b[38;5;241m=\u001b[39mparams)\n\u001b[0;32m    653\u001b[0m \u001b[38;5;28;01mwith\u001b[39;00m _print_elapsed_time(\u001b[38;5;124m\"\u001b[39m\u001b[38;5;124mPipeline\u001b[39m\u001b[38;5;124m\"\u001b[39m, \u001b[38;5;28mself\u001b[39m\u001b[38;5;241m.\u001b[39m_log_message(\u001b[38;5;28mlen\u001b[39m(\u001b[38;5;28mself\u001b[39m\u001b[38;5;241m.\u001b[39msteps) \u001b[38;5;241m-\u001b[39m \u001b[38;5;241m1\u001b[39m)):\n",
      "File \u001b[1;32mc:\\Users\\PC\\AppData\\Local\\Programs\\Python\\Python313\\Lib\\site-packages\\sklearn\\pipeline.py:451\u001b[0m, in \u001b[0;36mPipeline._check_method_params\u001b[1;34m(self, method, props, **kwargs)\u001b[0m\n\u001b[0;32m    446\u001b[0m     \u001b[38;5;28;01mreturn\u001b[39;00m routed_params\n\u001b[0;32m    447\u001b[0m \u001b[38;5;28;01melse\u001b[39;00m:\n\u001b[0;32m    448\u001b[0m     fit_params_steps \u001b[38;5;241m=\u001b[39m Bunch(\n\u001b[0;32m    449\u001b[0m         \u001b[38;5;241m*\u001b[39m\u001b[38;5;241m*\u001b[39m{\n\u001b[0;32m    450\u001b[0m             name: Bunch(\u001b[38;5;241m*\u001b[39m\u001b[38;5;241m*\u001b[39m{method: {} \u001b[38;5;28;01mfor\u001b[39;00m method \u001b[38;5;129;01min\u001b[39;00m METHODS})\n\u001b[1;32m--> 451\u001b[0m             \u001b[38;5;28;01mfor\u001b[39;00m name, step \u001b[38;5;129;01min\u001b[39;00m \u001b[38;5;28mself\u001b[39m\u001b[38;5;241m.\u001b[39msteps\n\u001b[0;32m    452\u001b[0m             \u001b[38;5;28;01mif\u001b[39;00m step \u001b[38;5;129;01mis\u001b[39;00m \u001b[38;5;129;01mnot\u001b[39;00m \u001b[38;5;28;01mNone\u001b[39;00m\n\u001b[0;32m    453\u001b[0m         }\n\u001b[0;32m    454\u001b[0m     )\n\u001b[0;32m    455\u001b[0m     \u001b[38;5;28;01mfor\u001b[39;00m pname, pval \u001b[38;5;129;01min\u001b[39;00m props\u001b[38;5;241m.\u001b[39mitems():\n\u001b[0;32m    456\u001b[0m         \u001b[38;5;28;01mif\u001b[39;00m \u001b[38;5;124m\"\u001b[39m\u001b[38;5;124m__\u001b[39m\u001b[38;5;124m\"\u001b[39m \u001b[38;5;129;01mnot\u001b[39;00m \u001b[38;5;129;01min\u001b[39;00m pname:\n",
      "\u001b[1;31mValueError\u001b[0m: too many values to unpack (expected 2)"
     ]
    }
   ],
   "source": [
    "# Split data\n",
    "X_train, X_test, y_train, y_test = train_test_split(X, y, test_size=0.2, random_state=42)\n",
    "\n",
    "# fit the pipeline model\n",
    "pipeline.fit(X_train, y_train)\n",
    "\n",
    "# score the model\n",
    "pipeline.score(X_test, y_test)"
   ]
  }
 ],
 "metadata": {
  "kernelspec": {
   "display_name": "Python 3",
   "language": "python",
   "name": "python3"
  },
  "language_info": {
   "codemirror_mode": {
    "name": "ipython",
    "version": 3
   },
   "file_extension": ".py",
   "mimetype": "text/x-python",
   "name": "python",
   "nbconvert_exporter": "python",
   "pygments_lexer": "ipython3",
   "version": "3.13.5"
  }
 },
 "nbformat": 4,
 "nbformat_minor": 5
}
