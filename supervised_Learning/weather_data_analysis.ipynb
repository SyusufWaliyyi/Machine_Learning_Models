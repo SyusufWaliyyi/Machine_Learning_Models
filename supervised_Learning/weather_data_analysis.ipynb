{
 "cells": [
  {
   "cell_type": "markdown",
   "id": "5e0051e5",
   "metadata": {},
   "source": [
    "__Centering and Scaling__"
   ]
  },
  {
   "cell_type": "code",
   "execution_count": 18,
   "id": "e94e5878",
   "metadata": {},
   "outputs": [],
   "source": [
    "# import libraries\n",
    "import pandas as pd\n",
    "import numpy as np\n",
    "import matplotlib.pyplot as plt\n",
    "import seaborn as sns\n",
    "from sklearn.model_selection import train_test_split, cross_val_score, KFold\n",
    "from sklearn.linear_model import LinearRegression, LogisticRegression, Ridge, Lasso\n",
    "from sklearn.impute import SimpleImputer\n",
    "from sklearn.pipeline import Pipeline\n",
    "from sklearn.preprocessing import StandardScaler\n",
    "\n",
    "# suppress warnings\n",
    "import warnings\n",
    "warnings.filterwarnings('ignore')"
   ]
  },
  {
   "cell_type": "code",
   "execution_count": 19,
   "id": "6050d1eb",
   "metadata": {},
   "outputs": [
    {
     "data": {
      "application/vnd.microsoft.datawrangler.viewer.v0+json": {
       "columns": [
        {
         "name": "index",
         "rawType": "int64",
         "type": "integer"
        },
        {
         "name": "Day",
         "rawType": "int64",
         "type": "integer"
        },
        {
         "name": "Temperature_C",
         "rawType": "float64",
         "type": "float"
        },
        {
         "name": "Humidity_pct",
         "rawType": "float64",
         "type": "float"
        },
        {
         "name": "Rainfall_mm",
         "rawType": "float64",
         "type": "float"
        }
       ],
       "ref": "8d9137e2-9391-4c90-a840-a965076fc593",
       "rows": [
        [
         "0",
         "1",
         "18.2",
         "65.0",
         "0.0"
        ],
        [
         "1",
         "2",
         "18.3",
         "64.9",
         "0.0"
        ],
        [
         "2",
         "3",
         "18.4",
         "64.8",
         "0.0"
        ],
        [
         "3",
         "4",
         "18.5",
         "64.7",
         "0.0"
        ],
        [
         "4",
         "5",
         "18.6",
         "64.6",
         "0.0"
        ]
       ],
       "shape": {
        "columns": 4,
        "rows": 5
       }
      },
      "text/html": [
       "<div>\n",
       "<style scoped>\n",
       "    .dataframe tbody tr th:only-of-type {\n",
       "        vertical-align: middle;\n",
       "    }\n",
       "\n",
       "    .dataframe tbody tr th {\n",
       "        vertical-align: top;\n",
       "    }\n",
       "\n",
       "    .dataframe thead th {\n",
       "        text-align: right;\n",
       "    }\n",
       "</style>\n",
       "<table border=\"1\" class=\"dataframe\">\n",
       "  <thead>\n",
       "    <tr style=\"text-align: right;\">\n",
       "      <th></th>\n",
       "      <th>Day</th>\n",
       "      <th>Temperature_C</th>\n",
       "      <th>Humidity_pct</th>\n",
       "      <th>Rainfall_mm</th>\n",
       "    </tr>\n",
       "  </thead>\n",
       "  <tbody>\n",
       "    <tr>\n",
       "      <th>0</th>\n",
       "      <td>1</td>\n",
       "      <td>18.2</td>\n",
       "      <td>65.0</td>\n",
       "      <td>0.0</td>\n",
       "    </tr>\n",
       "    <tr>\n",
       "      <th>1</th>\n",
       "      <td>2</td>\n",
       "      <td>18.3</td>\n",
       "      <td>64.9</td>\n",
       "      <td>0.0</td>\n",
       "    </tr>\n",
       "    <tr>\n",
       "      <th>2</th>\n",
       "      <td>3</td>\n",
       "      <td>18.4</td>\n",
       "      <td>64.8</td>\n",
       "      <td>0.0</td>\n",
       "    </tr>\n",
       "    <tr>\n",
       "      <th>3</th>\n",
       "      <td>4</td>\n",
       "      <td>18.5</td>\n",
       "      <td>64.7</td>\n",
       "      <td>0.0</td>\n",
       "    </tr>\n",
       "    <tr>\n",
       "      <th>4</th>\n",
       "      <td>5</td>\n",
       "      <td>18.6</td>\n",
       "      <td>64.6</td>\n",
       "      <td>0.0</td>\n",
       "    </tr>\n",
       "  </tbody>\n",
       "</table>\n",
       "</div>"
      ],
      "text/plain": [
       "   Day  Temperature_C  Humidity_pct  Rainfall_mm\n",
       "0    1           18.2          65.0          0.0\n",
       "1    2           18.3          64.9          0.0\n",
       "2    3           18.4          64.8          0.0\n",
       "3    4           18.5          64.7          0.0\n",
       "4    5           18.6          64.6          0.0"
      ]
     },
     "execution_count": 19,
     "metadata": {},
     "output_type": "execute_result"
    }
   ],
   "source": [
    "# Load the dataset\n",
    "df = pd.read_csv(\"weather_data.csv\")\n",
    "df.head()"
   ]
  },
  {
   "cell_type": "code",
   "execution_count": 20,
   "id": "c7d3225b",
   "metadata": {},
   "outputs": [
    {
     "name": "stdout",
     "output_type": "stream",
     "text": [
      "<class 'pandas.core.frame.DataFrame'>\n",
      "RangeIndex: 200 entries, 0 to 199\n",
      "Data columns (total 4 columns):\n",
      " #   Column         Non-Null Count  Dtype  \n",
      "---  ------         --------------  -----  \n",
      " 0   Day            200 non-null    int64  \n",
      " 1   Temperature_C  200 non-null    float64\n",
      " 2   Humidity_pct   200 non-null    float64\n",
      " 3   Rainfall_mm    200 non-null    float64\n",
      "dtypes: float64(3), int64(1)\n",
      "memory usage: 6.4 KB\n"
     ]
    }
   ],
   "source": [
    "df.info()"
   ]
  },
  {
   "cell_type": "code",
   "execution_count": 21,
   "id": "c98d5eae",
   "metadata": {},
   "outputs": [],
   "source": [
    "# drop day column\n",
    "df = df.drop(\"Day\", axis=1)"
   ]
  },
  {
   "cell_type": "code",
   "execution_count": 22,
   "id": "17dd7b83",
   "metadata": {},
   "outputs": [
    {
     "data": {
      "application/vnd.microsoft.datawrangler.viewer.v0+json": {
       "columns": [
        {
         "name": "index",
         "rawType": "object",
         "type": "string"
        },
        {
         "name": "Temperature_C",
         "rawType": "float64",
         "type": "float"
        },
        {
         "name": "Humidity_pct",
         "rawType": "float64",
         "type": "float"
        },
        {
         "name": "Rainfall_mm",
         "rawType": "float64",
         "type": "float"
        }
       ],
       "ref": "3660e580-1487-463a-8d31-193f3d2cb7c7",
       "rows": [
        [
         "count",
         "200.0",
         "200.0",
         "200.0"
        ],
        [
         "mean",
         "28.15",
         "55.05",
         "0.0"
        ],
        [
         "std",
         "5.787918451395113",
         "5.787918451395113",
         "0.0"
        ],
        [
         "min",
         "18.2",
         "45.1",
         "0.0"
        ],
        [
         "25%",
         "23.175",
         "50.075",
         "0.0"
        ],
        [
         "50%",
         "28.15",
         "55.05",
         "0.0"
        ],
        [
         "75%",
         "33.125",
         "60.025",
         "0.0"
        ],
        [
         "max",
         "38.1",
         "65.0",
         "0.0"
        ]
       ],
       "shape": {
        "columns": 3,
        "rows": 8
       }
      },
      "text/html": [
       "<div>\n",
       "<style scoped>\n",
       "    .dataframe tbody tr th:only-of-type {\n",
       "        vertical-align: middle;\n",
       "    }\n",
       "\n",
       "    .dataframe tbody tr th {\n",
       "        vertical-align: top;\n",
       "    }\n",
       "\n",
       "    .dataframe thead th {\n",
       "        text-align: right;\n",
       "    }\n",
       "</style>\n",
       "<table border=\"1\" class=\"dataframe\">\n",
       "  <thead>\n",
       "    <tr style=\"text-align: right;\">\n",
       "      <th></th>\n",
       "      <th>Temperature_C</th>\n",
       "      <th>Humidity_pct</th>\n",
       "      <th>Rainfall_mm</th>\n",
       "    </tr>\n",
       "  </thead>\n",
       "  <tbody>\n",
       "    <tr>\n",
       "      <th>count</th>\n",
       "      <td>200.000000</td>\n",
       "      <td>200.000000</td>\n",
       "      <td>200.0</td>\n",
       "    </tr>\n",
       "    <tr>\n",
       "      <th>mean</th>\n",
       "      <td>28.150000</td>\n",
       "      <td>55.050000</td>\n",
       "      <td>0.0</td>\n",
       "    </tr>\n",
       "    <tr>\n",
       "      <th>std</th>\n",
       "      <td>5.787918</td>\n",
       "      <td>5.787918</td>\n",
       "      <td>0.0</td>\n",
       "    </tr>\n",
       "    <tr>\n",
       "      <th>min</th>\n",
       "      <td>18.200000</td>\n",
       "      <td>45.100000</td>\n",
       "      <td>0.0</td>\n",
       "    </tr>\n",
       "    <tr>\n",
       "      <th>25%</th>\n",
       "      <td>23.175000</td>\n",
       "      <td>50.075000</td>\n",
       "      <td>0.0</td>\n",
       "    </tr>\n",
       "    <tr>\n",
       "      <th>50%</th>\n",
       "      <td>28.150000</td>\n",
       "      <td>55.050000</td>\n",
       "      <td>0.0</td>\n",
       "    </tr>\n",
       "    <tr>\n",
       "      <th>75%</th>\n",
       "      <td>33.125000</td>\n",
       "      <td>60.025000</td>\n",
       "      <td>0.0</td>\n",
       "    </tr>\n",
       "    <tr>\n",
       "      <th>max</th>\n",
       "      <td>38.100000</td>\n",
       "      <td>65.000000</td>\n",
       "      <td>0.0</td>\n",
       "    </tr>\n",
       "  </tbody>\n",
       "</table>\n",
       "</div>"
      ],
      "text/plain": [
       "       Temperature_C  Humidity_pct  Rainfall_mm\n",
       "count     200.000000    200.000000        200.0\n",
       "mean       28.150000     55.050000          0.0\n",
       "std         5.787918      5.787918          0.0\n",
       "min        18.200000     45.100000          0.0\n",
       "25%        23.175000     50.075000          0.0\n",
       "50%        28.150000     55.050000          0.0\n",
       "75%        33.125000     60.025000          0.0\n",
       "max        38.100000     65.000000          0.0"
      ]
     },
     "execution_count": 22,
     "metadata": {},
     "output_type": "execute_result"
    }
   ],
   "source": [
    "# Statistical summary\n",
    "df.describe()"
   ]
  },
  {
   "cell_type": "markdown",
   "id": "26c6a8d9",
   "metadata": {},
   "source": [
    "Althought the values ranges are not much but looking at the column and translate them to real world is large. For exaple minimun temperature is 18.2 (quite freezing in sub-sahara it will hardlt rain) while the maximun temperature is 38.1 which is average tem to rain.\n",
    "\n",
    "\n",
    "__Why scale the data__\n",
    "1. Most models use some form of dista ce to inform them\n",
    "2. Feartures on large scales can disproportionately infuence the model\n",
    "\n",
    "__How to scale data__\n",
    "1. Subtract the mean and divide by the variance (standardization)\n",
    "2. Subtract the minimum and divide by the range (max 1 and min 0)\n",
    "3. Normalize data to make it ranges from -1 to +1"
   ]
  },
  {
   "cell_type": "code",
   "execution_count": 23,
   "id": "67762a3b",
   "metadata": {},
   "outputs": [],
   "source": [
    "# Split the data\n",
    "X = df.drop(\"Rainfall_mm\", axis=1)\n",
    "y = df[\"Rainfall_mm\"]"
   ]
  },
  {
   "cell_type": "code",
   "execution_count": 24,
   "id": "8b85476b",
   "metadata": {},
   "outputs": [],
   "source": [
    "# Split the data to train and test\n",
    "X_train, X_test, y_train, y_test = train_test_split(X, y, test_size=0.2, random_state=42)"
   ]
  },
  {
   "cell_type": "code",
   "execution_count": 25,
   "id": "eab67ffe",
   "metadata": {},
   "outputs": [
    {
     "name": "stdout",
     "output_type": "stream",
     "text": [
      "Mean_scaled: -1.1352030426792225e-15 Sdt_scaled: 1.0\n",
      "Mean: Temperature_C    5.787918\n",
      "Humidity_pct     5.787918\n",
      "dtype: float64 Std: Temperature_C    5.787918\n",
      "Humidity_pct     5.787918\n",
      "dtype: float64\n"
     ]
    }
   ],
   "source": [
    "# Instantiate scaler\n",
    "scaler = StandardScaler()\n",
    "\n",
    "# Fit and transform \n",
    "X_train_scaled = scaler.fit_transform(X_train)\n",
    "X_test_scaled = scaler.transform(X_test)\n",
    "\n",
    "# mean and standard deviation\n",
    "print(f\"Mean_scaled: {X_train_scaled.mean()} Sdt_scaled: {X_train_scaled.std()}\")\n",
    "print(f\"Mean: {X.std()} Std: {X.std()}\")"
   ]
  }
 ],
 "metadata": {
  "kernelspec": {
   "display_name": "Python 3",
   "language": "python",
   "name": "python3"
  },
  "language_info": {
   "codemirror_mode": {
    "name": "ipython",
    "version": 3
   },
   "file_extension": ".py",
   "mimetype": "text/x-python",
   "name": "python",
   "nbconvert_exporter": "python",
   "pygments_lexer": "ipython3",
   "version": "3.13.5"
  }
 },
 "nbformat": 4,
 "nbformat_minor": 5
}
