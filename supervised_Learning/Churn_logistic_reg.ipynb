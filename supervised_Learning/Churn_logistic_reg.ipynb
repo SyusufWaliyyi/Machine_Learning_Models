{
 "cells": [
  {
   "cell_type": "markdown",
   "id": "a42ee9ba",
   "metadata": {},
   "source": [
    "Logistic regression: Despite its name it is used for classification problems.\n",
    "\n",
    "The output of logistic regression is probabilities."
   ]
  },
  {
   "cell_type": "markdown",
   "id": "b1dd9837",
   "metadata": {},
   "source": [
    "Import libraries"
   ]
  },
  {
   "cell_type": "code",
   "execution_count": 11,
   "id": "b15cb827",
   "metadata": {},
   "outputs": [],
   "source": [
    "import pandas as pd\n",
    "import numpy as np\n",
    "import matplotlib.pyplot as plt\n",
    "import seaborn as sns\n",
    "from sklearn.linear_model import LogisticRegression,Ridge\n",
    "from sklearn.model_selection import train_test_split, GridSearchCV, RandomizedSearchCV ,KFold\n",
    "from sklearn.metrics import roc_curve, roc_auc_score\n",
    "\n",
    "# warnings\n",
    "import warnings\n",
    "warnings.filterwarnings('ignore')"
   ]
  },
  {
   "cell_type": "code",
   "execution_count": 12,
   "id": "d900d0f1",
   "metadata": {},
   "outputs": [
    {
     "data": {
      "application/vnd.microsoft.datawrangler.viewer.v0+json": {
       "columns": [
        {
         "name": "index",
         "rawType": "int64",
         "type": "integer"
        },
        {
         "name": "CustomerID",
         "rawType": "int64",
         "type": "integer"
        },
        {
         "name": "Gender",
         "rawType": "object",
         "type": "string"
        },
        {
         "name": "SeniorCitizen",
         "rawType": "int64",
         "type": "integer"
        },
        {
         "name": "Tenure",
         "rawType": "int64",
         "type": "integer"
        },
        {
         "name": "MonthlyCharges",
         "rawType": "float64",
         "type": "float"
        },
        {
         "name": "Contract",
         "rawType": "object",
         "type": "string"
        },
        {
         "name": "PaymentMethod",
         "rawType": "object",
         "type": "string"
        },
        {
         "name": "Churn",
         "rawType": "int64",
         "type": "integer"
        },
        {
         "name": "TotalCharges",
         "rawType": "float64",
         "type": "float"
        }
       ],
       "ref": "4200beb0-f096-4cc5-b0b3-012c5e4f33f8",
       "rows": [
        [
         "0",
         "0",
         "Male",
         "0",
         "55",
         "111.88",
         "Two year",
         "Mailed check",
         "0",
         "6153.4"
        ],
        [
         "1",
         "1",
         "Female",
         "1",
         "36",
         "58.7",
         "Two year",
         "Electronic check",
         "0",
         "2113.2"
        ],
        [
         "2",
         "2",
         "Male",
         "0",
         "37",
         "118.86",
         "One year",
         "Electronic check",
         "0",
         "4397.82"
        ],
        [
         "3",
         "3",
         "Male",
         "1",
         "14",
         "96.14",
         "Month-to-month",
         "Mailed check",
         "1",
         "1345.96"
        ],
        [
         "4",
         "4",
         "Male",
         "1",
         "27",
         "28.05",
         "Two year",
         "Mailed check",
         "0",
         "757.35"
        ]
       ],
       "shape": {
        "columns": 9,
        "rows": 5
       }
      },
      "text/html": [
       "<div>\n",
       "<style scoped>\n",
       "    .dataframe tbody tr th:only-of-type {\n",
       "        vertical-align: middle;\n",
       "    }\n",
       "\n",
       "    .dataframe tbody tr th {\n",
       "        vertical-align: top;\n",
       "    }\n",
       "\n",
       "    .dataframe thead th {\n",
       "        text-align: right;\n",
       "    }\n",
       "</style>\n",
       "<table border=\"1\" class=\"dataframe\">\n",
       "  <thead>\n",
       "    <tr style=\"text-align: right;\">\n",
       "      <th></th>\n",
       "      <th>CustomerID</th>\n",
       "      <th>Gender</th>\n",
       "      <th>SeniorCitizen</th>\n",
       "      <th>Tenure</th>\n",
       "      <th>MonthlyCharges</th>\n",
       "      <th>Contract</th>\n",
       "      <th>PaymentMethod</th>\n",
       "      <th>Churn</th>\n",
       "      <th>TotalCharges</th>\n",
       "    </tr>\n",
       "  </thead>\n",
       "  <tbody>\n",
       "    <tr>\n",
       "      <th>0</th>\n",
       "      <td>0</td>\n",
       "      <td>Male</td>\n",
       "      <td>0</td>\n",
       "      <td>55</td>\n",
       "      <td>111.88</td>\n",
       "      <td>Two year</td>\n",
       "      <td>Mailed check</td>\n",
       "      <td>0</td>\n",
       "      <td>6153.40</td>\n",
       "    </tr>\n",
       "    <tr>\n",
       "      <th>1</th>\n",
       "      <td>1</td>\n",
       "      <td>Female</td>\n",
       "      <td>1</td>\n",
       "      <td>36</td>\n",
       "      <td>58.70</td>\n",
       "      <td>Two year</td>\n",
       "      <td>Electronic check</td>\n",
       "      <td>0</td>\n",
       "      <td>2113.20</td>\n",
       "    </tr>\n",
       "    <tr>\n",
       "      <th>2</th>\n",
       "      <td>2</td>\n",
       "      <td>Male</td>\n",
       "      <td>0</td>\n",
       "      <td>37</td>\n",
       "      <td>118.86</td>\n",
       "      <td>One year</td>\n",
       "      <td>Electronic check</td>\n",
       "      <td>0</td>\n",
       "      <td>4397.82</td>\n",
       "    </tr>\n",
       "    <tr>\n",
       "      <th>3</th>\n",
       "      <td>3</td>\n",
       "      <td>Male</td>\n",
       "      <td>1</td>\n",
       "      <td>14</td>\n",
       "      <td>96.14</td>\n",
       "      <td>Month-to-month</td>\n",
       "      <td>Mailed check</td>\n",
       "      <td>1</td>\n",
       "      <td>1345.96</td>\n",
       "    </tr>\n",
       "    <tr>\n",
       "      <th>4</th>\n",
       "      <td>4</td>\n",
       "      <td>Male</td>\n",
       "      <td>1</td>\n",
       "      <td>27</td>\n",
       "      <td>28.05</td>\n",
       "      <td>Two year</td>\n",
       "      <td>Mailed check</td>\n",
       "      <td>0</td>\n",
       "      <td>757.35</td>\n",
       "    </tr>\n",
       "  </tbody>\n",
       "</table>\n",
       "</div>"
      ],
      "text/plain": [
       "   CustomerID  Gender  SeniorCitizen  Tenure  MonthlyCharges        Contract  \\\n",
       "0           0    Male              0      55          111.88        Two year   \n",
       "1           1  Female              1      36           58.70        Two year   \n",
       "2           2    Male              0      37          118.86        One year   \n",
       "3           3    Male              1      14           96.14  Month-to-month   \n",
       "4           4    Male              1      27           28.05        Two year   \n",
       "\n",
       "      PaymentMethod  Churn  TotalCharges  \n",
       "0      Mailed check      0       6153.40  \n",
       "1  Electronic check      0       2113.20  \n",
       "2  Electronic check      0       4397.82  \n",
       "3      Mailed check      1       1345.96  \n",
       "4      Mailed check      0        757.35  "
      ]
     },
     "execution_count": 12,
     "metadata": {},
     "output_type": "execute_result"
    }
   ],
   "source": [
    "# Load the dataset\n",
    "df = pd.read_csv('churn.csv')\n",
    "df.head()"
   ]
  },
  {
   "cell_type": "code",
   "execution_count": 13,
   "id": "76484b07",
   "metadata": {},
   "outputs": [],
   "source": [
    "# One-hot encoding\n",
    "df = pd.get_dummies(df.drop('CustomerID', axis=1), drop_first=True)\n",
    "\n",
    "# Split features & target\n",
    "X = df.drop('Churn', axis=1)\n",
    "y = df['Churn']"
   ]
  },
  {
   "cell_type": "code",
   "execution_count": 14,
   "id": "205bf1fe",
   "metadata": {},
   "outputs": [],
   "source": [
    "# Fit the model\n",
    "model = LogisticRegression()\n",
    "\n",
    "X_train, X_test, y_train, y_test = train_test_split(X, y, test_size=0.3, random_state=42)\n",
    "model.fit(X_train, y_train)\n",
    "\n",
    "y_pred = model.predict(X_test)"
   ]
  },
  {
   "cell_type": "markdown",
   "id": "d5de5a75",
   "metadata": {},
   "source": [
    "Predicting Probabilities"
   ]
  },
  {
   "cell_type": "code",
   "execution_count": 15,
   "id": "a9362120",
   "metadata": {},
   "outputs": [
    {
     "name": "stdout",
     "output_type": "stream",
     "text": [
      "0.2693695717863464\n"
     ]
    }
   ],
   "source": [
    "# predic probabilities\n",
    "y_pred_probs = model.predict_proba(X_test)[:,1]\n",
    "# The second column is the probability of the positive class\n",
    "\n",
    "# Print the first five predicted probabilities\n",
    "print(y_pred_probs.mean())"
   ]
  },
  {
   "cell_type": "markdown",
   "id": "c5f41261",
   "metadata": {},
   "source": [
    "It can be seen base on the result the first observation has churned since the probablity is less than 0.5"
   ]
  },
  {
   "cell_type": "markdown",
   "id": "3f6e5ac2",
   "metadata": {},
   "source": [
    "Probability Threshold\n",
    "\n",
    "Default threshold is 0.5 and is applicable to other model.\n",
    "\n",
    "Effect of varying threshold can be observed using ROC Curve"
   ]
  },
  {
   "cell_type": "markdown",
   "id": "0cb9fc81",
   "metadata": {},
   "source": [
    "Recieve Operating Characteristic Curve (ROC)\n",
    "\n",
    "Is a plot of true positive rate (tpr) against the false positive rate (fpr).\n",
    "\n",
    "The ROC curve is use to understand the effect of variation in the threshold. If threshold is 0, it means the model predicted 1 for all observations and vice versa."
   ]
  },
  {
   "cell_type": "markdown",
   "id": "4c1ae6b7",
   "metadata": {},
   "source": [
    "Plot the ROC curve"
   ]
  },
  {
   "cell_type": "code",
   "execution_count": 16,
   "id": "6b7fd25a",
   "metadata": {},
   "outputs": [
    {
     "data": {
      "image/png": "[encoded data removed]",
      "text/plain": [
       "<Figure size 640x480 with 1 Axes>"
      ]
     },
     "metadata": {},
     "output_type": "display_data"
    }
   ],
   "source": [
    "# Plot the roc_curve\n",
    "fpr, tpr, thresholds = roc_curve(y_test, y_pred_probs)\n",
    "plt.plot([0, 1], [0, 1], 'k--')\n",
    "plt.plot(fpr, tpr) \n",
    "plt.xlabel('False Positive Rate')\n",
    "plt.ylabel('True Positive Rate')\n",
    "plt.title('Logistic Regression ROC Curve')\n",
    "plt.show()"
   ]
  },
  {
   "cell_type": "markdown",
   "id": "77a63c8b",
   "metadata": {},
   "source": [
    "ROC AUC (area under the curve) to measure the score of the model"
   ]
  },
  {
   "cell_type": "code",
   "execution_count": 17,
   "id": "84b9f6f8",
   "metadata": {},
   "outputs": [
    {
     "name": "stdout",
     "output_type": "stream",
     "text": [
      "0.486592951171242\n"
     ]
    }
   ],
   "source": [
    "print(roc_auc_score(y_test, y_pred_probs))"
   ]
  },
  {
   "cell_type": "markdown",
   "id": "72fe52bd",
   "metadata": {},
   "source": [
    "The model performance 48.66% which it perform worse than a model making random guesses."
   ]
  },
  {
   "cell_type": "markdown",
   "id": "7ac9850e",
   "metadata": {},
   "source": [
    "Hyperparameters Turning\n",
    "\n",
    "Process of choosing the parameters (alpha, n_neighbors) to produce optimized model.\n",
    "\n",
    "1. Grid search cross validation\n",
    "2. Randomized Search Cross Validation"
   ]
  },
  {
   "cell_type": "code",
   "execution_count": 18,
   "id": "f4d24c58",
   "metadata": {},
   "outputs": [
    {
     "name": "stdout",
     "output_type": "stream",
     "text": [
      "{'alpha': np.float64(0.001), 'solver': 'saga'} -0.0013490981294109084\n"
     ]
    }
   ],
   "source": [
    "# Grid search cross validation\n",
    "kf = KFold(n_splits=5, shuffle=True, random_state=42)\n",
    "grids = {'alpha':np.arange(0.001, 1, 100),\n",
    "        'solver':('liblinear', 'saga', 'newton-cg', 'lbfgs')}\n",
    "ridge = Ridge()\n",
    "grid_search = GridSearchCV(ridge, grids, cv=kf)\n",
    "grid_search.fit(X_train, y_train)\n",
    "\n",
    "print(grid_search.best_params_, grid_search.best_score_)"
   ]
  },
  {
   "cell_type": "markdown",
   "id": "6483bce9",
   "metadata": {},
   "source": [
    "Grid search has limitation of searching through each of the parameter range defined. Example for 5 fold cv, 1 hyperparameter and 10 values means 50 fits.\n",
    "\n",
    "To solve this a random search for the optimal value will be better"
   ]
  },
  {
   "cell_type": "code",
   "execution_count": 19,
   "id": "b4aa8f81",
   "metadata": {},
   "outputs": [
    {
     "name": "stdout",
     "output_type": "stream",
     "text": [
      "{'solver': 'saga', 'alpha': np.float64(0.001)} -0.0013490998145848422\n"
     ]
    }
   ],
   "source": [
    "# Randomized Search Cross Validation\n",
    "kf = KFold(n_splits=5, shuffle=True, random_state=42)\n",
    "grids = {'alpha':np.arange(0.001, 1, 100),\n",
    "        'solver':('liblinear', 'saga', 'newton-cg', 'lbfgs')}\n",
    "ridge = Ridge()\n",
    "grid_search = RandomizedSearchCV(ridge, grids, cv=kf, n_iter=3)\n",
    "grid_search.fit(X_train, y_train)\n",
    "\n",
    "print(grid_search.best_params_, grid_search.best_score_)"
   ]
  }
 ],
 "metadata": {
  "kernelspec": {
   "display_name": "Python 3",
   "language": "python",
   "name": "python3"
  },
  "language_info": {
   "codemirror_mode": {
    "name": "ipython",
    "version": 3
   },
   "file_extension": ".py",
   "mimetype": "text/x-python",
   "name": "python",
   "nbconvert_exporter": "python",
   "pygments_lexer": "ipython3",
   "version": "3.13.5"
  }
 },
 "nbformat": 4,
 "nbformat_minor": 5
}
