{
 "cells": [
  {
   "cell_type": "markdown",
   "id": "241902d3",
   "metadata": {},
   "source": [
    "__Data Pre_processing__\n",
    "\n",
    "scikit learn does not accept categorical features by default, the need to be converted into numerical values.\n",
    "\n",
    "This can be done by converting them into binary features called dummy variable.\n",
    "\n",
    "Let explore mental health data for student to understand this."
   ]
  },
  {
   "cell_type": "code",
   "execution_count": 118,
   "id": "46d2aef8",
   "metadata": {},
   "outputs": [],
   "source": [
    "# import libraries\n",
    "import pandas as pd\n",
    "import numpy as np\n",
    "import matplotlib.pyplot as plt\n",
    "import seaborn as sns\n",
    "from sklearn.model_selection import train_test_split, cross_val_score, KFold\n",
    "from sklearn.linear_model import LinearRegression, LogisticRegression, Ridge, Lasso"
   ]
  },
  {
   "cell_type": "code",
   "execution_count": 119,
   "id": "f73a6587",
   "metadata": {},
   "outputs": [
    {
     "data": {
      "application/vnd.microsoft.datawrangler.viewer.v0+json": {
       "columns": [
        {
         "name": "index",
         "rawType": "int64",
         "type": "integer"
        },
        {
         "name": "User_ID",
         "rawType": "object",
         "type": "string"
        },
        {
         "name": "Age",
         "rawType": "int64",
         "type": "integer"
        },
        {
         "name": "Gender",
         "rawType": "object",
         "type": "string"
        },
        {
         "name": "Technology_Usage_Hours",
         "rawType": "float64",
         "type": "float"
        },
        {
         "name": "Social_Media_Usage_Hours",
         "rawType": "float64",
         "type": "float"
        },
        {
         "name": "Gaming_Hours",
         "rawType": "float64",
         "type": "float"
        },
        {
         "name": "Screen_Time_Hours",
         "rawType": "float64",
         "type": "float"
        },
        {
         "name": "Mental_Health_Status",
         "rawType": "object",
         "type": "string"
        },
        {
         "name": "Stress_Level",
         "rawType": "object",
         "type": "string"
        },
        {
         "name": "Sleep_Hours",
         "rawType": "float64",
         "type": "float"
        },
        {
         "name": "Physical_Activity_Hours",
         "rawType": "float64",
         "type": "float"
        },
        {
         "name": "Support_Systems_Access",
         "rawType": "object",
         "type": "string"
        },
        {
         "name": "Work_Environment_Impact",
         "rawType": "object",
         "type": "string"
        },
        {
         "name": "Online_Support_Usage",
         "rawType": "object",
         "type": "string"
        }
       ],
       "ref": "2a278a6a-5895-4466-bb22-3782e06d67c2",
       "rows": [
        [
         "0",
         "USER-00001",
         "23",
         "Female",
         "6.57",
         "6.0",
         "0.68",
         "12.36",
         "Good",
         "Low",
         "8.01",
         "6.71",
         "No",
         "Negative",
         "Yes"
        ],
        [
         "1",
         "USER-00002",
         "21",
         "Male",
         "3.01",
         "2.57",
         "3.74",
         "7.61",
         "Poor",
         "High",
         "7.28",
         "5.88",
         "Yes",
         "Positive",
         "No"
        ],
        [
         "2",
         "USER-00003",
         "51",
         "Male",
         "3.04",
         "6.14",
         "1.26",
         "3.16",
         "Fair",
         "High",
         "8.04",
         "9.81",
         "No",
         "Negative",
         "No"
        ],
        [
         "3",
         "USER-00004",
         "25",
         "Female",
         "3.84",
         "4.48",
         "2.59",
         "13.08",
         "Excellent",
         "Medium",
         "5.62",
         "5.28",
         "Yes",
         "Negative",
         "Yes"
        ],
        [
         "4",
         "USER-00005",
         "53",
         "Male",
         "1.2",
         "0.56",
         "0.29",
         "12.63",
         "Good",
         "Low",
         "5.55",
         "4.0",
         "No",
         "Positive",
         "Yes"
        ]
       ],
       "shape": {
        "columns": 14,
        "rows": 5
       }
      },
      "text/html": [
       "<div>\n",
       "<style scoped>\n",
       "    .dataframe tbody tr th:only-of-type {\n",
       "        vertical-align: middle;\n",
       "    }\n",
       "\n",
       "    .dataframe tbody tr th {\n",
       "        vertical-align: top;\n",
       "    }\n",
       "\n",
       "    .dataframe thead th {\n",
       "        text-align: right;\n",
       "    }\n",
       "</style>\n",
       "<table border=\"1\" class=\"dataframe\">\n",
       "  <thead>\n",
       "    <tr style=\"text-align: right;\">\n",
       "      <th></th>\n",
       "      <th>User_ID</th>\n",
       "      <th>Age</th>\n",
       "      <th>Gender</th>\n",
       "      <th>Technology_Usage_Hours</th>\n",
       "      <th>Social_Media_Usage_Hours</th>\n",
       "      <th>Gaming_Hours</th>\n",
       "      <th>Screen_Time_Hours</th>\n",
       "      <th>Mental_Health_Status</th>\n",
       "      <th>Stress_Level</th>\n",
       "      <th>Sleep_Hours</th>\n",
       "      <th>Physical_Activity_Hours</th>\n",
       "      <th>Support_Systems_Access</th>\n",
       "      <th>Work_Environment_Impact</th>\n",
       "      <th>Online_Support_Usage</th>\n",
       "    </tr>\n",
       "  </thead>\n",
       "  <tbody>\n",
       "    <tr>\n",
       "      <th>0</th>\n",
       "      <td>USER-00001</td>\n",
       "      <td>23</td>\n",
       "      <td>Female</td>\n",
       "      <td>6.57</td>\n",
       "      <td>6.00</td>\n",
       "      <td>0.68</td>\n",
       "      <td>12.36</td>\n",
       "      <td>Good</td>\n",
       "      <td>Low</td>\n",
       "      <td>8.01</td>\n",
       "      <td>6.71</td>\n",
       "      <td>No</td>\n",
       "      <td>Negative</td>\n",
       "      <td>Yes</td>\n",
       "    </tr>\n",
       "    <tr>\n",
       "      <th>1</th>\n",
       "      <td>USER-00002</td>\n",
       "      <td>21</td>\n",
       "      <td>Male</td>\n",
       "      <td>3.01</td>\n",
       "      <td>2.57</td>\n",
       "      <td>3.74</td>\n",
       "      <td>7.61</td>\n",
       "      <td>Poor</td>\n",
       "      <td>High</td>\n",
       "      <td>7.28</td>\n",
       "      <td>5.88</td>\n",
       "      <td>Yes</td>\n",
       "      <td>Positive</td>\n",
       "      <td>No</td>\n",
       "    </tr>\n",
       "    <tr>\n",
       "      <th>2</th>\n",
       "      <td>USER-00003</td>\n",
       "      <td>51</td>\n",
       "      <td>Male</td>\n",
       "      <td>3.04</td>\n",
       "      <td>6.14</td>\n",
       "      <td>1.26</td>\n",
       "      <td>3.16</td>\n",
       "      <td>Fair</td>\n",
       "      <td>High</td>\n",
       "      <td>8.04</td>\n",
       "      <td>9.81</td>\n",
       "      <td>No</td>\n",
       "      <td>Negative</td>\n",
       "      <td>No</td>\n",
       "    </tr>\n",
       "    <tr>\n",
       "      <th>3</th>\n",
       "      <td>USER-00004</td>\n",
       "      <td>25</td>\n",
       "      <td>Female</td>\n",
       "      <td>3.84</td>\n",
       "      <td>4.48</td>\n",
       "      <td>2.59</td>\n",
       "      <td>13.08</td>\n",
       "      <td>Excellent</td>\n",
       "      <td>Medium</td>\n",
       "      <td>5.62</td>\n",
       "      <td>5.28</td>\n",
       "      <td>Yes</td>\n",
       "      <td>Negative</td>\n",
       "      <td>Yes</td>\n",
       "    </tr>\n",
       "    <tr>\n",
       "      <th>4</th>\n",
       "      <td>USER-00005</td>\n",
       "      <td>53</td>\n",
       "      <td>Male</td>\n",
       "      <td>1.20</td>\n",
       "      <td>0.56</td>\n",
       "      <td>0.29</td>\n",
       "      <td>12.63</td>\n",
       "      <td>Good</td>\n",
       "      <td>Low</td>\n",
       "      <td>5.55</td>\n",
       "      <td>4.00</td>\n",
       "      <td>No</td>\n",
       "      <td>Positive</td>\n",
       "      <td>Yes</td>\n",
       "    </tr>\n",
       "  </tbody>\n",
       "</table>\n",
       "</div>"
      ],
      "text/plain": [
       "      User_ID  Age  Gender  Technology_Usage_Hours  Social_Media_Usage_Hours  \\\n",
       "0  USER-00001   23  Female                    6.57                      6.00   \n",
       "1  USER-00002   21    Male                    3.01                      2.57   \n",
       "2  USER-00003   51    Male                    3.04                      6.14   \n",
       "3  USER-00004   25  Female                    3.84                      4.48   \n",
       "4  USER-00005   53    Male                    1.20                      0.56   \n",
       "\n",
       "   Gaming_Hours  Screen_Time_Hours Mental_Health_Status Stress_Level  \\\n",
       "0          0.68              12.36                 Good          Low   \n",
       "1          3.74               7.61                 Poor         High   \n",
       "2          1.26               3.16                 Fair         High   \n",
       "3          2.59              13.08            Excellent       Medium   \n",
       "4          0.29              12.63                 Good          Low   \n",
       "\n",
       "   Sleep_Hours  Physical_Activity_Hours Support_Systems_Access  \\\n",
       "0         8.01                     6.71                     No   \n",
       "1         7.28                     5.88                    Yes   \n",
       "2         8.04                     9.81                     No   \n",
       "3         5.62                     5.28                    Yes   \n",
       "4         5.55                     4.00                     No   \n",
       "\n",
       "  Work_Environment_Impact Online_Support_Usage  \n",
       "0                Negative                  Yes  \n",
       "1                Positive                   No  \n",
       "2                Negative                   No  \n",
       "3                Negative                  Yes  \n",
       "4                Positive                  Yes  "
      ]
     },
     "execution_count": 119,
     "metadata": {},
     "output_type": "execute_result"
    }
   ],
   "source": [
    "# Load the dataset\n",
    "df = pd.read_csv('mental_health_and_technology_usage_2024.csv')\n",
    "df.head()"
   ]
  },
  {
   "cell_type": "code",
   "execution_count": 120,
   "id": "822f9d9d",
   "metadata": {},
   "outputs": [
    {
     "name": "stdout",
     "output_type": "stream",
     "text": [
      "<class 'pandas.core.frame.DataFrame'>\n",
      "RangeIndex: 10000 entries, 0 to 9999\n",
      "Data columns (total 14 columns):\n",
      " #   Column                    Non-Null Count  Dtype  \n",
      "---  ------                    --------------  -----  \n",
      " 0   User_ID                   10000 non-null  object \n",
      " 1   Age                       10000 non-null  int64  \n",
      " 2   Gender                    10000 non-null  object \n",
      " 3   Technology_Usage_Hours    10000 non-null  float64\n",
      " 4   Social_Media_Usage_Hours  10000 non-null  float64\n",
      " 5   Gaming_Hours              10000 non-null  float64\n",
      " 6   Screen_Time_Hours         10000 non-null  float64\n",
      " 7   Mental_Health_Status      10000 non-null  object \n",
      " 8   Stress_Level              10000 non-null  object \n",
      " 9   Sleep_Hours               10000 non-null  float64\n",
      " 10  Physical_Activity_Hours   10000 non-null  float64\n",
      " 11  Support_Systems_Access    10000 non-null  object \n",
      " 12  Work_Environment_Impact   10000 non-null  object \n",
      " 13  Online_Support_Usage      10000 non-null  object \n",
      "dtypes: float64(6), int64(1), object(7)\n",
      "memory usage: 1.1+ MB\n"
     ]
    }
   ],
   "source": [
    "df.info()"
   ]
  },
  {
   "cell_type": "markdown",
   "id": "b1dfb37f",
   "metadata": {},
   "source": [
    "from the dataset imformation, it is clear that Gender, Mental_Health_Status, Stress_Level, Support_Systems_Access, Work_Environment_Impact and Online_Support_Usage are categorical variables. But before then, the studentID column will be dropped as it has no effect on the data "
   ]
  },
  {
   "cell_type": "code",
   "execution_count": 121,
   "id": "491a9c48",
   "metadata": {},
   "outputs": [
    {
     "data": {
      "application/vnd.microsoft.datawrangler.viewer.v0+json": {
       "columns": [
        {
         "name": "index",
         "rawType": "object",
         "type": "string"
        },
        {
         "name": "0",
         "rawType": "int64",
         "type": "integer"
        }
       ],
       "ref": "89e86127-6eba-449d-8906-572beef91023",
       "rows": [
        [
         "User_ID",
         "0"
        ],
        [
         "Age",
         "0"
        ],
        [
         "Gender",
         "0"
        ],
        [
         "Technology_Usage_Hours",
         "0"
        ],
        [
         "Social_Media_Usage_Hours",
         "0"
        ],
        [
         "Gaming_Hours",
         "0"
        ],
        [
         "Screen_Time_Hours",
         "0"
        ],
        [
         "Mental_Health_Status",
         "0"
        ],
        [
         "Stress_Level",
         "0"
        ],
        [
         "Sleep_Hours",
         "0"
        ],
        [
         "Physical_Activity_Hours",
         "0"
        ],
        [
         "Support_Systems_Access",
         "0"
        ],
        [
         "Work_Environment_Impact",
         "0"
        ],
        [
         "Online_Support_Usage",
         "0"
        ]
       ],
       "shape": {
        "columns": 1,
        "rows": 14
       }
      },
      "text/plain": [
       "User_ID                     0\n",
       "Age                         0\n",
       "Gender                      0\n",
       "Technology_Usage_Hours      0\n",
       "Social_Media_Usage_Hours    0\n",
       "Gaming_Hours                0\n",
       "Screen_Time_Hours           0\n",
       "Mental_Health_Status        0\n",
       "Stress_Level                0\n",
       "Sleep_Hours                 0\n",
       "Physical_Activity_Hours     0\n",
       "Support_Systems_Access      0\n",
       "Work_Environment_Impact     0\n",
       "Online_Support_Usage        0\n",
       "dtype: int64"
      ]
     },
     "execution_count": 121,
     "metadata": {},
     "output_type": "execute_result"
    }
   ],
   "source": [
    "# check for missing values\n",
    "df.isnull().sum().sort_values(ascending=False)"
   ]
  },
  {
   "cell_type": "markdown",
   "id": "1390066e",
   "metadata": {},
   "source": [
    "No missing values"
   ]
  },
  {
   "cell_type": "code",
   "execution_count": 122,
   "id": "88f86cc9",
   "metadata": {},
   "outputs": [
    {
     "data": {
      "application/vnd.microsoft.datawrangler.viewer.v0+json": {
       "columns": [
        {
         "name": "index",
         "rawType": "int64",
         "type": "integer"
        },
        {
         "name": "Age",
         "rawType": "int64",
         "type": "integer"
        },
        {
         "name": "Gender",
         "rawType": "object",
         "type": "string"
        },
        {
         "name": "Technology_Usage_Hours",
         "rawType": "float64",
         "type": "float"
        },
        {
         "name": "Social_Media_Usage_Hours",
         "rawType": "float64",
         "type": "float"
        },
        {
         "name": "Gaming_Hours",
         "rawType": "float64",
         "type": "float"
        },
        {
         "name": "Screen_Time_Hours",
         "rawType": "float64",
         "type": "float"
        },
        {
         "name": "Mental_Health_Status",
         "rawType": "object",
         "type": "string"
        },
        {
         "name": "Stress_Level",
         "rawType": "object",
         "type": "string"
        },
        {
         "name": "Sleep_Hours",
         "rawType": "float64",
         "type": "float"
        },
        {
         "name": "Physical_Activity_Hours",
         "rawType": "float64",
         "type": "float"
        },
        {
         "name": "Support_Systems_Access",
         "rawType": "object",
         "type": "string"
        },
        {
         "name": "Work_Environment_Impact",
         "rawType": "object",
         "type": "string"
        },
        {
         "name": "Online_Support_Usage",
         "rawType": "object",
         "type": "string"
        }
       ],
       "ref": "f8469e9c-b6c3-4f22-b614-8b2822007ae6",
       "rows": [
        [
         "0",
         "23",
         "Female",
         "6.57",
         "6.0",
         "0.68",
         "12.36",
         "Good",
         "Low",
         "8.01",
         "6.71",
         "No",
         "Negative",
         "Yes"
        ],
        [
         "1",
         "21",
         "Male",
         "3.01",
         "2.57",
         "3.74",
         "7.61",
         "Poor",
         "High",
         "7.28",
         "5.88",
         "Yes",
         "Positive",
         "No"
        ],
        [
         "2",
         "51",
         "Male",
         "3.04",
         "6.14",
         "1.26",
         "3.16",
         "Fair",
         "High",
         "8.04",
         "9.81",
         "No",
         "Negative",
         "No"
        ],
        [
         "3",
         "25",
         "Female",
         "3.84",
         "4.48",
         "2.59",
         "13.08",
         "Excellent",
         "Medium",
         "5.62",
         "5.28",
         "Yes",
         "Negative",
         "Yes"
        ],
        [
         "4",
         "53",
         "Male",
         "1.2",
         "0.56",
         "0.29",
         "12.63",
         "Good",
         "Low",
         "5.55",
         "4.0",
         "No",
         "Positive",
         "Yes"
        ]
       ],
       "shape": {
        "columns": 13,
        "rows": 5
       }
      },
      "text/html": [
       "<div>\n",
       "<style scoped>\n",
       "    .dataframe tbody tr th:only-of-type {\n",
       "        vertical-align: middle;\n",
       "    }\n",
       "\n",
       "    .dataframe tbody tr th {\n",
       "        vertical-align: top;\n",
       "    }\n",
       "\n",
       "    .dataframe thead th {\n",
       "        text-align: right;\n",
       "    }\n",
       "</style>\n",
       "<table border=\"1\" class=\"dataframe\">\n",
       "  <thead>\n",
       "    <tr style=\"text-align: right;\">\n",
       "      <th></th>\n",
       "      <th>Age</th>\n",
       "      <th>Gender</th>\n",
       "      <th>Technology_Usage_Hours</th>\n",
       "      <th>Social_Media_Usage_Hours</th>\n",
       "      <th>Gaming_Hours</th>\n",
       "      <th>Screen_Time_Hours</th>\n",
       "      <th>Mental_Health_Status</th>\n",
       "      <th>Stress_Level</th>\n",
       "      <th>Sleep_Hours</th>\n",
       "      <th>Physical_Activity_Hours</th>\n",
       "      <th>Support_Systems_Access</th>\n",
       "      <th>Work_Environment_Impact</th>\n",
       "      <th>Online_Support_Usage</th>\n",
       "    </tr>\n",
       "  </thead>\n",
       "  <tbody>\n",
       "    <tr>\n",
       "      <th>0</th>\n",
       "      <td>23</td>\n",
       "      <td>Female</td>\n",
       "      <td>6.57</td>\n",
       "      <td>6.00</td>\n",
       "      <td>0.68</td>\n",
       "      <td>12.36</td>\n",
       "      <td>Good</td>\n",
       "      <td>Low</td>\n",
       "      <td>8.01</td>\n",
       "      <td>6.71</td>\n",
       "      <td>No</td>\n",
       "      <td>Negative</td>\n",
       "      <td>Yes</td>\n",
       "    </tr>\n",
       "    <tr>\n",
       "      <th>1</th>\n",
       "      <td>21</td>\n",
       "      <td>Male</td>\n",
       "      <td>3.01</td>\n",
       "      <td>2.57</td>\n",
       "      <td>3.74</td>\n",
       "      <td>7.61</td>\n",
       "      <td>Poor</td>\n",
       "      <td>High</td>\n",
       "      <td>7.28</td>\n",
       "      <td>5.88</td>\n",
       "      <td>Yes</td>\n",
       "      <td>Positive</td>\n",
       "      <td>No</td>\n",
       "    </tr>\n",
       "    <tr>\n",
       "      <th>2</th>\n",
       "      <td>51</td>\n",
       "      <td>Male</td>\n",
       "      <td>3.04</td>\n",
       "      <td>6.14</td>\n",
       "      <td>1.26</td>\n",
       "      <td>3.16</td>\n",
       "      <td>Fair</td>\n",
       "      <td>High</td>\n",
       "      <td>8.04</td>\n",
       "      <td>9.81</td>\n",
       "      <td>No</td>\n",
       "      <td>Negative</td>\n",
       "      <td>No</td>\n",
       "    </tr>\n",
       "    <tr>\n",
       "      <th>3</th>\n",
       "      <td>25</td>\n",
       "      <td>Female</td>\n",
       "      <td>3.84</td>\n",
       "      <td>4.48</td>\n",
       "      <td>2.59</td>\n",
       "      <td>13.08</td>\n",
       "      <td>Excellent</td>\n",
       "      <td>Medium</td>\n",
       "      <td>5.62</td>\n",
       "      <td>5.28</td>\n",
       "      <td>Yes</td>\n",
       "      <td>Negative</td>\n",
       "      <td>Yes</td>\n",
       "    </tr>\n",
       "    <tr>\n",
       "      <th>4</th>\n",
       "      <td>53</td>\n",
       "      <td>Male</td>\n",
       "      <td>1.20</td>\n",
       "      <td>0.56</td>\n",
       "      <td>0.29</td>\n",
       "      <td>12.63</td>\n",
       "      <td>Good</td>\n",
       "      <td>Low</td>\n",
       "      <td>5.55</td>\n",
       "      <td>4.00</td>\n",
       "      <td>No</td>\n",
       "      <td>Positive</td>\n",
       "      <td>Yes</td>\n",
       "    </tr>\n",
       "  </tbody>\n",
       "</table>\n",
       "</div>"
      ],
      "text/plain": [
       "   Age  Gender  Technology_Usage_Hours  Social_Media_Usage_Hours  \\\n",
       "0   23  Female                    6.57                      6.00   \n",
       "1   21    Male                    3.01                      2.57   \n",
       "2   51    Male                    3.04                      6.14   \n",
       "3   25  Female                    3.84                      4.48   \n",
       "4   53    Male                    1.20                      0.56   \n",
       "\n",
       "   Gaming_Hours  Screen_Time_Hours Mental_Health_Status Stress_Level  \\\n",
       "0          0.68              12.36                 Good          Low   \n",
       "1          3.74               7.61                 Poor         High   \n",
       "2          1.26               3.16                 Fair         High   \n",
       "3          2.59              13.08            Excellent       Medium   \n",
       "4          0.29              12.63                 Good          Low   \n",
       "\n",
       "   Sleep_Hours  Physical_Activity_Hours Support_Systems_Access  \\\n",
       "0         8.01                     6.71                     No   \n",
       "1         7.28                     5.88                    Yes   \n",
       "2         8.04                     9.81                     No   \n",
       "3         5.62                     5.28                    Yes   \n",
       "4         5.55                     4.00                     No   \n",
       "\n",
       "  Work_Environment_Impact Online_Support_Usage  \n",
       "0                Negative                  Yes  \n",
       "1                Positive                   No  \n",
       "2                Negative                   No  \n",
       "3                Negative                  Yes  \n",
       "4                Positive                  Yes  "
      ]
     },
     "execution_count": 122,
     "metadata": {},
     "output_type": "execute_result"
    }
   ],
   "source": [
    "# drop the User_ID column\n",
    "df = df.drop('User_ID', axis=1)\n",
    "df.head()"
   ]
  },
  {
   "cell_type": "code",
   "execution_count": 123,
   "id": "945bab53",
   "metadata": {},
   "outputs": [],
   "source": [
    "# Convert categorical columns to categorical data type\n",
    "categorical_columns = ['Gender', 'Mental_Health_Status', 'Stress_Level', 'Support_Systems_Access', 'Work_Environment_Impact', 'Online_Support_Usage']\n",
    "# convert categorical columns to categorical data type\n",
    "for col in categorical_columns:\n",
    "    df[col] = df[col].astype('category')"
   ]
  },
  {
   "cell_type": "markdown",
   "id": "13d00e0b",
   "metadata": {},
   "source": [
    "Check the data type"
   ]
  },
  {
   "cell_type": "code",
   "execution_count": 124,
   "id": "6453efea",
   "metadata": {},
   "outputs": [
    {
     "data": {
      "application/vnd.microsoft.datawrangler.viewer.v0+json": {
       "columns": [
        {
         "name": "index",
         "rawType": "object",
         "type": "string"
        },
        {
         "name": "0",
         "rawType": "object",
         "type": "unknown"
        }
       ],
       "ref": "cb357a78-f255-462c-87c0-c33bfb47e67d",
       "rows": [
        [
         "Age",
         "int64"
        ],
        [
         "Gender",
         "category"
        ],
        [
         "Technology_Usage_Hours",
         "float64"
        ],
        [
         "Social_Media_Usage_Hours",
         "float64"
        ],
        [
         "Gaming_Hours",
         "float64"
        ],
        [
         "Screen_Time_Hours",
         "float64"
        ],
        [
         "Mental_Health_Status",
         "category"
        ],
        [
         "Stress_Level",
         "category"
        ],
        [
         "Sleep_Hours",
         "float64"
        ],
        [
         "Physical_Activity_Hours",
         "float64"
        ],
        [
         "Support_Systems_Access",
         "category"
        ],
        [
         "Work_Environment_Impact",
         "category"
        ],
        [
         "Online_Support_Usage",
         "category"
        ]
       ],
       "shape": {
        "columns": 1,
        "rows": 13
       }
      },
      "text/plain": [
       "Age                            int64\n",
       "Gender                      category\n",
       "Technology_Usage_Hours       float64\n",
       "Social_Media_Usage_Hours     float64\n",
       "Gaming_Hours                 float64\n",
       "Screen_Time_Hours            float64\n",
       "Mental_Health_Status        category\n",
       "Stress_Level                category\n",
       "Sleep_Hours                  float64\n",
       "Physical_Activity_Hours      float64\n",
       "Support_Systems_Access      category\n",
       "Work_Environment_Impact     category\n",
       "Online_Support_Usage        category\n",
       "dtype: object"
      ]
     },
     "execution_count": 124,
     "metadata": {},
     "output_type": "execute_result"
    }
   ],
   "source": [
    "# check the dtypes\n",
    "df.dtypes"
   ]
  },
  {
   "cell_type": "code",
   "execution_count": 125,
   "id": "26525f09",
   "metadata": {},
   "outputs": [
    {
     "data": {
      "image/png": "[encoded data removed]",
      "text/plain": [
       "<Figure size 640x480 with 1 Axes>"
      ]
     },
     "metadata": {},
     "output_type": "display_data"
    }
   ],
   "source": [
    "sns.boxplot(data=df, x='Mental_Health_Status', y='Technology_Usage_Hours')\n",
    "plt.show()"
   ]
  },
  {
   "cell_type": "code",
   "execution_count": 126,
   "id": "f95fa07f",
   "metadata": {},
   "outputs": [
    {
     "data": {
      "image/png": "[encoded data removed]",
      "text/plain": [
       "<Figure size 640x480 with 1 Axes>"
      ]
     },
     "metadata": {},
     "output_type": "display_data"
    }
   ],
   "source": [
    "# Barplot\n",
    "df['Mental_Health_Status'].value_counts().plot(kind='bar')  \n",
    "plt.show()"
   ]
  },
  {
   "cell_type": "code",
   "execution_count": 127,
   "id": "32b65c23",
   "metadata": {},
   "outputs": [
    {
     "data": {
      "application/vnd.microsoft.datawrangler.viewer.v0+json": {
       "columns": [
        {
         "name": "index",
         "rawType": "int64",
         "type": "integer"
        },
        {
         "name": "Age",
         "rawType": "int64",
         "type": "integer"
        },
        {
         "name": "Gender",
         "rawType": "int8",
         "type": "integer"
        },
        {
         "name": "Technology_Usage_Hours",
         "rawType": "float64",
         "type": "float"
        },
        {
         "name": "Social_Media_Usage_Hours",
         "rawType": "float64",
         "type": "float"
        },
        {
         "name": "Gaming_Hours",
         "rawType": "float64",
         "type": "float"
        },
        {
         "name": "Screen_Time_Hours",
         "rawType": "float64",
         "type": "float"
        },
        {
         "name": "Mental_Health_Status",
         "rawType": "int8",
         "type": "integer"
        },
        {
         "name": "Stress_Level",
         "rawType": "int8",
         "type": "integer"
        },
        {
         "name": "Sleep_Hours",
         "rawType": "float64",
         "type": "float"
        },
        {
         "name": "Physical_Activity_Hours",
         "rawType": "float64",
         "type": "float"
        },
        {
         "name": "Support_Systems_Access",
         "rawType": "int8",
         "type": "integer"
        },
        {
         "name": "Work_Environment_Impact",
         "rawType": "int8",
         "type": "integer"
        },
        {
         "name": "Online_Support_Usage",
         "rawType": "int8",
         "type": "integer"
        }
       ],
       "ref": "a511c907-878c-485e-8952-797f01bd8c1f",
       "rows": [
        [
         "0",
         "23",
         "0",
         "6.57",
         "6.0",
         "0.68",
         "12.36",
         "2",
         "1",
         "8.01",
         "6.71",
         "0",
         "0",
         "1"
        ],
        [
         "1",
         "21",
         "1",
         "3.01",
         "2.57",
         "3.74",
         "7.61",
         "3",
         "0",
         "7.28",
         "5.88",
         "1",
         "2",
         "0"
        ],
        [
         "2",
         "51",
         "1",
         "3.04",
         "6.14",
         "1.26",
         "3.16",
         "1",
         "0",
         "8.04",
         "9.81",
         "0",
         "0",
         "0"
        ],
        [
         "3",
         "25",
         "0",
         "3.84",
         "4.48",
         "2.59",
         "13.08",
         "0",
         "2",
         "5.62",
         "5.28",
         "1",
         "0",
         "1"
        ],
        [
         "4",
         "53",
         "1",
         "1.2",
         "0.56",
         "0.29",
         "12.63",
         "2",
         "1",
         "5.55",
         "4.0",
         "0",
         "2",
         "1"
        ]
       ],
       "shape": {
        "columns": 13,
        "rows": 5
       }
      },
      "text/html": [
       "<div>\n",
       "<style scoped>\n",
       "    .dataframe tbody tr th:only-of-type {\n",
       "        vertical-align: middle;\n",
       "    }\n",
       "\n",
       "    .dataframe tbody tr th {\n",
       "        vertical-align: top;\n",
       "    }\n",
       "\n",
       "    .dataframe thead th {\n",
       "        text-align: right;\n",
       "    }\n",
       "</style>\n",
       "<table border=\"1\" class=\"dataframe\">\n",
       "  <thead>\n",
       "    <tr style=\"text-align: right;\">\n",
       "      <th></th>\n",
       "      <th>Age</th>\n",
       "      <th>Gender</th>\n",
       "      <th>Technology_Usage_Hours</th>\n",
       "      <th>Social_Media_Usage_Hours</th>\n",
       "      <th>Gaming_Hours</th>\n",
       "      <th>Screen_Time_Hours</th>\n",
       "      <th>Mental_Health_Status</th>\n",
       "      <th>Stress_Level</th>\n",
       "      <th>Sleep_Hours</th>\n",
       "      <th>Physical_Activity_Hours</th>\n",
       "      <th>Support_Systems_Access</th>\n",
       "      <th>Work_Environment_Impact</th>\n",
       "      <th>Online_Support_Usage</th>\n",
       "    </tr>\n",
       "  </thead>\n",
       "  <tbody>\n",
       "    <tr>\n",
       "      <th>0</th>\n",
       "      <td>23</td>\n",
       "      <td>0</td>\n",
       "      <td>6.57</td>\n",
       "      <td>6.00</td>\n",
       "      <td>0.68</td>\n",
       "      <td>12.36</td>\n",
       "      <td>2</td>\n",
       "      <td>1</td>\n",
       "      <td>8.01</td>\n",
       "      <td>6.71</td>\n",
       "      <td>0</td>\n",
       "      <td>0</td>\n",
       "      <td>1</td>\n",
       "    </tr>\n",
       "    <tr>\n",
       "      <th>1</th>\n",
       "      <td>21</td>\n",
       "      <td>1</td>\n",
       "      <td>3.01</td>\n",
       "      <td>2.57</td>\n",
       "      <td>3.74</td>\n",
       "      <td>7.61</td>\n",
       "      <td>3</td>\n",
       "      <td>0</td>\n",
       "      <td>7.28</td>\n",
       "      <td>5.88</td>\n",
       "      <td>1</td>\n",
       "      <td>2</td>\n",
       "      <td>0</td>\n",
       "    </tr>\n",
       "    <tr>\n",
       "      <th>2</th>\n",
       "      <td>51</td>\n",
       "      <td>1</td>\n",
       "      <td>3.04</td>\n",
       "      <td>6.14</td>\n",
       "      <td>1.26</td>\n",
       "      <td>3.16</td>\n",
       "      <td>1</td>\n",
       "      <td>0</td>\n",
       "      <td>8.04</td>\n",
       "      <td>9.81</td>\n",
       "      <td>0</td>\n",
       "      <td>0</td>\n",
       "      <td>0</td>\n",
       "    </tr>\n",
       "    <tr>\n",
       "      <th>3</th>\n",
       "      <td>25</td>\n",
       "      <td>0</td>\n",
       "      <td>3.84</td>\n",
       "      <td>4.48</td>\n",
       "      <td>2.59</td>\n",
       "      <td>13.08</td>\n",
       "      <td>0</td>\n",
       "      <td>2</td>\n",
       "      <td>5.62</td>\n",
       "      <td>5.28</td>\n",
       "      <td>1</td>\n",
       "      <td>0</td>\n",
       "      <td>1</td>\n",
       "    </tr>\n",
       "    <tr>\n",
       "      <th>4</th>\n",
       "      <td>53</td>\n",
       "      <td>1</td>\n",
       "      <td>1.20</td>\n",
       "      <td>0.56</td>\n",
       "      <td>0.29</td>\n",
       "      <td>12.63</td>\n",
       "      <td>2</td>\n",
       "      <td>1</td>\n",
       "      <td>5.55</td>\n",
       "      <td>4.00</td>\n",
       "      <td>0</td>\n",
       "      <td>2</td>\n",
       "      <td>1</td>\n",
       "    </tr>\n",
       "  </tbody>\n",
       "</table>\n",
       "</div>"
      ],
      "text/plain": [
       "   Age  Gender  Technology_Usage_Hours  Social_Media_Usage_Hours  \\\n",
       "0   23       0                    6.57                      6.00   \n",
       "1   21       1                    3.01                      2.57   \n",
       "2   51       1                    3.04                      6.14   \n",
       "3   25       0                    3.84                      4.48   \n",
       "4   53       1                    1.20                      0.56   \n",
       "\n",
       "   Gaming_Hours  Screen_Time_Hours  Mental_Health_Status  Stress_Level  \\\n",
       "0          0.68              12.36                     2             1   \n",
       "1          3.74               7.61                     3             0   \n",
       "2          1.26               3.16                     1             0   \n",
       "3          2.59              13.08                     0             2   \n",
       "4          0.29              12.63                     2             1   \n",
       "\n",
       "   Sleep_Hours  Physical_Activity_Hours  Support_Systems_Access  \\\n",
       "0         8.01                     6.71                       0   \n",
       "1         7.28                     5.88                       1   \n",
       "2         8.04                     9.81                       0   \n",
       "3         5.62                     5.28                       1   \n",
       "4         5.55                     4.00                       0   \n",
       "\n",
       "   Work_Environment_Impact  Online_Support_Usage  \n",
       "0                        0                     1  \n",
       "1                        2                     0  \n",
       "2                        0                     0  \n",
       "3                        0                     1  \n",
       "4                        2                     1  "
      ]
     },
     "execution_count": 127,
     "metadata": {},
     "output_type": "execute_result"
    }
   ],
   "source": [
    "# convert the categories to numerical values\n",
    "df['Gender'] = df['Gender'].cat.codes\n",
    "df['Mental_Health_Status'] = df['Mental_Health_Status'].cat.codes\n",
    "df['Stress_Level'] = df['Stress_Level'].cat.codes\n",
    "df['Support_Systems_Access'] = df['Support_Systems_Access'].cat.codes\n",
    "df['Work_Environment_Impact'] = df['Work_Environment_Impact'].cat.codes\n",
    "df['Online_Support_Usage'] = df['Online_Support_Usage'].cat.codes\n",
    "\n",
    "df.head()"
   ]
  },
  {
   "cell_type": "code",
   "execution_count": 128,
   "id": "a72f95e1",
   "metadata": {},
   "outputs": [],
   "source": [
    "# split the data into train and test sets\n",
    "X = df.drop('Mental_Health_Status', axis=1)\n",
    "y = df['Mental_Health_Status']\n",
    "X_train, X_test, y_train, y_test = train_test_split(X, y, test_size=0.2, random_state=42)"
   ]
  },
  {
   "cell_type": "code",
   "execution_count": 129,
   "id": "d26858de",
   "metadata": {},
   "outputs": [
    {
     "name": "stdout",
     "output_type": "stream",
     "text": [
      "Root Mean squared error: [1.1148205  1.13059942 1.10052589 1.13083956 1.11795351]\n"
     ]
    }
   ],
   "source": [
    "# K-fold cross-validation\n",
    "kfold = KFold(n_splits=5, shuffle=True, random_state=42)\n",
    "# create a linear regression model\n",
    "model = LinearRegression()\n",
    "\n",
    "# train the model using cross-validation\n",
    "scores = cross_val_score(model, X, y, cv=kfold,\n",
    "                         scoring='neg_mean_squared_error')\n",
    "\n",
    "# calculate the mean squared error\n",
    "rmse = np.sqrt(-scores)\n",
    "print('Root Mean squared error:', rmse)"
   ]
  },
  {
   "cell_type": "code",
   "execution_count": 130,
   "id": "84d6d259",
   "metadata": {},
   "outputs": [
    {
     "name": "stdout",
     "output_type": "stream",
     "text": [
      "RMSE_ridge = [1.11482044 1.1305993  1.10052586 1.13083959 1.11795346]\n"
     ]
    }
   ],
   "source": [
    "# K-fold cross-validation\n",
    "kf = KFold(n_splits=5, shuffle=True, random_state=42)\n",
    "\n",
    "# Instantiate a ridge model\n",
    "ridge = Ridge(alpha=0.2)\n",
    "\n",
    "# Perform cross-validation\n",
    "ridge_scores = cross_val_score(ridge, X, y, cv=kf, scoring='neg_mean_squared_error')\n",
    "\n",
    "# Calculate RMSE\n",
    "ridge_rmse = np.sqrt(-ridge_scores)\n",
    "print(f\"RMSE_ridge = {ridge_rmse}\")"
   ]
  },
  {
   "cell_type": "code",
   "execution_count": 131,
   "id": "c5ea897b",
   "metadata": {},
   "outputs": [
    {
     "name": "stdout",
     "output_type": "stream",
     "text": [
      "RMSE = [1.11311615 1.12959164 1.10047121 1.13135865 1.11650731]\n"
     ]
    }
   ],
   "source": [
    "# K-fold cross-validation\n",
    "kf_lasso = KFold(n_splits=5, shuffle=True, random_state=42)\n",
    "\n",
    "# Instantiate a ridge model\n",
    "lasso = Lasso(alpha=0.3)\n",
    "\n",
    "# Perform cross-validation\n",
    "lasso_scores = cross_val_score(lasso, X, y, cv=kf_lasso, scoring='neg_mean_squared_error')\n",
    "\n",
    "# Calculate RMSE\n",
    "lasso_rmse = np.sqrt(-lasso_scores)\n",
    "print(f\"RMSE = {lasso_rmse}\")"
   ]
  }
 ],
 "metadata": {
  "kernelspec": {
   "display_name": "Python 3",
   "language": "python",
   "name": "python3"
  },
  "language_info": {
   "codemirror_mode": {
    "name": "ipython",
    "version": 3
   },
   "file_extension": ".py",
   "mimetype": "text/x-python",
   "name": "python",
   "nbconvert_exporter": "python",
   "pygments_lexer": "ipython3",
   "version": "3.13.5"
  }
 },
 "nbformat": 4,
 "nbformat_minor": 5
}
