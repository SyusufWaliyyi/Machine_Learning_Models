{
 "cells": [
  {
   "cell_type": "code",
   "execution_count": 310,
   "id": "3c769823",
   "metadata": {},
   "outputs": [],
   "source": [
    "# import libraries\n",
    "import seaborn as sns\n",
    "import pandas as pd\n",
    "import matplotlib.pyplot as plt\n",
    "from sklearn.cluster import KMeans\n",
    "from sklearn.preprocessing import StandardScaler, Normalizer, RobustScaler, MaxAbsScaler\n",
    "import numpy as np\n",
    "from sklearn.pipeline import make_pipeline"
   ]
  },
  {
   "cell_type": "code",
   "execution_count": 311,
   "id": "5dfb2c4b",
   "metadata": {},
   "outputs": [
    {
     "data": {
      "application/vnd.microsoft.datawrangler.viewer.v0+json": {
       "columns": [
        {
         "name": "index",
         "rawType": "int64",
         "type": "integer"
        },
        {
         "name": "Unnamed: 0",
         "rawType": "int64",
         "type": "integer"
        },
        {
         "name": "EmployeeID",
         "rawType": "int64",
         "type": "integer"
        },
        {
         "name": "Name",
         "rawType": "object",
         "type": "string"
        },
        {
         "name": "Age",
         "rawType": "int64",
         "type": "integer"
        },
        {
         "name": "Gender",
         "rawType": "object",
         "type": "string"
        },
        {
         "name": "Department",
         "rawType": "object",
         "type": "string"
        },
        {
         "name": "JobTitle",
         "rawType": "object",
         "type": "string"
        },
        {
         "name": "Salary",
         "rawType": "float64",
         "type": "float"
        },
        {
         "name": "YearsAtCompany",
         "rawType": "int64",
         "type": "integer"
        },
        {
         "name": "PerformanceRating",
         "rawType": "int64",
         "type": "integer"
        },
        {
         "name": "EducationLevel",
         "rawType": "int64",
         "type": "integer"
        }
       ],
       "ref": "41696c52-39bb-4d22-b01e-d625a80f3157",
       "rows": [
        [
         "0",
         "0",
         "1",
         "Julie Rodriguez",
         "51",
         "Female",
         "HR",
         "Coordinator",
         "69329.59",
         "27",
         "2",
         "3"
        ],
        [
         "1",
         "1",
         "2",
         "Cole Valenzuela",
         "58",
         "Male",
         "IT",
         "Analyst",
         "81490.38",
         "23",
         "3",
         "4"
        ],
        [
         "2",
         "2",
         "3",
         "Brian Hampton",
         "26",
         "Female",
         "IT",
         "Consultant",
         "58526.86",
         "13",
         "4",
         "4"
        ],
        [
         "3",
         "3",
         "4",
         "Christian Leonard",
         "51",
         "Female",
         "Finance",
         "Manager",
         "61573.58",
         "19",
         "5",
         "2"
        ],
        [
         "4",
         "4",
         "5",
         "Nancy Nash",
         "62",
         "Female",
         "Marketing",
         "Engineer",
         "44924.45",
         "20",
         "1",
         "2"
        ]
       ],
       "shape": {
        "columns": 11,
        "rows": 5
       }
      },
      "text/html": [
       "<div>\n",
       "<style scoped>\n",
       "    .dataframe tbody tr th:only-of-type {\n",
       "        vertical-align: middle;\n",
       "    }\n",
       "\n",
       "    .dataframe tbody tr th {\n",
       "        vertical-align: top;\n",
       "    }\n",
       "\n",
       "    .dataframe thead th {\n",
       "        text-align: right;\n",
       "    }\n",
       "</style>\n",
       "<table border=\"1\" class=\"dataframe\">\n",
       "  <thead>\n",
       "    <tr style=\"text-align: right;\">\n",
       "      <th></th>\n",
       "      <th>Unnamed: 0</th>\n",
       "      <th>EmployeeID</th>\n",
       "      <th>Name</th>\n",
       "      <th>Age</th>\n",
       "      <th>Gender</th>\n",
       "      <th>Department</th>\n",
       "      <th>JobTitle</th>\n",
       "      <th>Salary</th>\n",
       "      <th>YearsAtCompany</th>\n",
       "      <th>PerformanceRating</th>\n",
       "      <th>EducationLevel</th>\n",
       "    </tr>\n",
       "  </thead>\n",
       "  <tbody>\n",
       "    <tr>\n",
       "      <th>0</th>\n",
       "      <td>0</td>\n",
       "      <td>1</td>\n",
       "      <td>Julie Rodriguez</td>\n",
       "      <td>51</td>\n",
       "      <td>Female</td>\n",
       "      <td>HR</td>\n",
       "      <td>Coordinator</td>\n",
       "      <td>69329.59</td>\n",
       "      <td>27</td>\n",
       "      <td>2</td>\n",
       "      <td>3</td>\n",
       "    </tr>\n",
       "    <tr>\n",
       "      <th>1</th>\n",
       "      <td>1</td>\n",
       "      <td>2</td>\n",
       "      <td>Cole Valenzuela</td>\n",
       "      <td>58</td>\n",
       "      <td>Male</td>\n",
       "      <td>IT</td>\n",
       "      <td>Analyst</td>\n",
       "      <td>81490.38</td>\n",
       "      <td>23</td>\n",
       "      <td>3</td>\n",
       "      <td>4</td>\n",
       "    </tr>\n",
       "    <tr>\n",
       "      <th>2</th>\n",
       "      <td>2</td>\n",
       "      <td>3</td>\n",
       "      <td>Brian Hampton</td>\n",
       "      <td>26</td>\n",
       "      <td>Female</td>\n",
       "      <td>IT</td>\n",
       "      <td>Consultant</td>\n",
       "      <td>58526.86</td>\n",
       "      <td>13</td>\n",
       "      <td>4</td>\n",
       "      <td>4</td>\n",
       "    </tr>\n",
       "    <tr>\n",
       "      <th>3</th>\n",
       "      <td>3</td>\n",
       "      <td>4</td>\n",
       "      <td>Christian Leonard</td>\n",
       "      <td>51</td>\n",
       "      <td>Female</td>\n",
       "      <td>Finance</td>\n",
       "      <td>Manager</td>\n",
       "      <td>61573.58</td>\n",
       "      <td>19</td>\n",
       "      <td>5</td>\n",
       "      <td>2</td>\n",
       "    </tr>\n",
       "    <tr>\n",
       "      <th>4</th>\n",
       "      <td>4</td>\n",
       "      <td>5</td>\n",
       "      <td>Nancy Nash</td>\n",
       "      <td>62</td>\n",
       "      <td>Female</td>\n",
       "      <td>Marketing</td>\n",
       "      <td>Engineer</td>\n",
       "      <td>44924.45</td>\n",
       "      <td>20</td>\n",
       "      <td>1</td>\n",
       "      <td>2</td>\n",
       "    </tr>\n",
       "  </tbody>\n",
       "</table>\n",
       "</div>"
      ],
      "text/plain": [
       "   Unnamed: 0  EmployeeID               Name  Age  Gender Department  \\\n",
       "0           0           1    Julie Rodriguez   51  Female         HR   \n",
       "1           1           2    Cole Valenzuela   58    Male         IT   \n",
       "2           2           3      Brian Hampton   26  Female         IT   \n",
       "3           3           4  Christian Leonard   51  Female    Finance   \n",
       "4           4           5         Nancy Nash   62  Female  Marketing   \n",
       "\n",
       "      JobTitle    Salary  YearsAtCompany  PerformanceRating  EducationLevel  \n",
       "0  Coordinator  69329.59              27                  2               3  \n",
       "1      Analyst  81490.38              23                  3               4  \n",
       "2   Consultant  58526.86              13                  4               4  \n",
       "3      Manager  61573.58              19                  5               2  \n",
       "4     Engineer  44924.45              20                  1               2  "
      ]
     },
     "execution_count": 311,
     "metadata": {},
     "output_type": "execute_result"
    }
   ],
   "source": [
    "# Load the dataset\n",
    "df = pd.read_csv('employee_data.csv')\n",
    "df.head()"
   ]
  },
  {
   "cell_type": "code",
   "execution_count": 312,
   "id": "3a2a9c92",
   "metadata": {},
   "outputs": [],
   "source": [
    "# drop non-numeric columns\n",
    "df_numeric = df.drop(columns=['Unnamed: 0', 'EmployeeID', 'Name', 'Gender', 'Department', 'JobTitle'], axis=1)"
   ]
  },
  {
   "cell_type": "code",
   "execution_count": 313,
   "id": "a2f10db1",
   "metadata": {},
   "outputs": [
    {
     "data": {
      "text/plain": [
       "6"
      ]
     },
     "execution_count": 313,
     "metadata": {},
     "output_type": "execute_result"
    }
   ],
   "source": [
    "n_clusters = len(df['JobTitle'].unique())\n",
    "n_clusters"
   ]
  },
  {
   "cell_type": "code",
   "execution_count": 314,
   "id": "21ab288f",
   "metadata": {},
   "outputs": [],
   "source": [
    "# fit to kmeans\n",
    "kmeans = KMeans(n_clusters=n_clusters, random_state=0)\n",
    "clusters = kmeans.fit_predict(df_numeric)"
   ]
  },
  {
   "cell_type": "code",
   "execution_count": 315,
   "id": "0ecf2d42",
   "metadata": {},
   "outputs": [
    {
     "data": {
      "application/vnd.microsoft.datawrangler.viewer.v0+json": {
       "columns": [
        {
         "name": "index",
         "rawType": "int64",
         "type": "integer"
        },
        {
         "name": "Unnamed: 0",
         "rawType": "int64",
         "type": "integer"
        },
        {
         "name": "EmployeeID",
         "rawType": "int64",
         "type": "integer"
        },
        {
         "name": "Name",
         "rawType": "object",
         "type": "string"
        },
        {
         "name": "Age",
         "rawType": "int64",
         "type": "integer"
        },
        {
         "name": "Gender",
         "rawType": "object",
         "type": "string"
        },
        {
         "name": "Department",
         "rawType": "object",
         "type": "string"
        },
        {
         "name": "JobTitle",
         "rawType": "object",
         "type": "string"
        },
        {
         "name": "Salary",
         "rawType": "float64",
         "type": "float"
        },
        {
         "name": "YearsAtCompany",
         "rawType": "int64",
         "type": "integer"
        },
        {
         "name": "PerformanceRating",
         "rawType": "int64",
         "type": "integer"
        },
        {
         "name": "EducationLevel",
         "rawType": "int64",
         "type": "integer"
        },
        {
         "name": "clusters",
         "rawType": "int32",
         "type": "integer"
        }
       ],
       "ref": "0cada8ae-2393-47ab-b80d-b51c5fc9520f",
       "rows": [
        [
         "0",
         "0",
         "1",
         "Julie Rodriguez",
         "51",
         "Female",
         "HR",
         "Coordinator",
         "69329.59",
         "27",
         "2",
         "3",
         "1"
        ],
        [
         "1",
         "1",
         "2",
         "Cole Valenzuela",
         "58",
         "Male",
         "IT",
         "Analyst",
         "81490.38",
         "23",
         "3",
         "4",
         "5"
        ],
        [
         "2",
         "2",
         "3",
         "Brian Hampton",
         "26",
         "Female",
         "IT",
         "Consultant",
         "58526.86",
         "13",
         "4",
         "4",
         "2"
        ],
        [
         "3",
         "3",
         "4",
         "Christian Leonard",
         "51",
         "Female",
         "Finance",
         "Manager",
         "61573.58",
         "19",
         "5",
         "2",
         "1"
        ],
        [
         "4",
         "4",
         "5",
         "Nancy Nash",
         "62",
         "Female",
         "Marketing",
         "Engineer",
         "44924.45",
         "20",
         "1",
         "2",
         "0"
        ]
       ],
       "shape": {
        "columns": 12,
        "rows": 5
       }
      },
      "text/html": [
       "<div>\n",
       "<style scoped>\n",
       "    .dataframe tbody tr th:only-of-type {\n",
       "        vertical-align: middle;\n",
       "    }\n",
       "\n",
       "    .dataframe tbody tr th {\n",
       "        vertical-align: top;\n",
       "    }\n",
       "\n",
       "    .dataframe thead th {\n",
       "        text-align: right;\n",
       "    }\n",
       "</style>\n",
       "<table border=\"1\" class=\"dataframe\">\n",
       "  <thead>\n",
       "    <tr style=\"text-align: right;\">\n",
       "      <th></th>\n",
       "      <th>Unnamed: 0</th>\n",
       "      <th>EmployeeID</th>\n",
       "      <th>Name</th>\n",
       "      <th>Age</th>\n",
       "      <th>Gender</th>\n",
       "      <th>Department</th>\n",
       "      <th>JobTitle</th>\n",
       "      <th>Salary</th>\n",
       "      <th>YearsAtCompany</th>\n",
       "      <th>PerformanceRating</th>\n",
       "      <th>EducationLevel</th>\n",
       "      <th>clusters</th>\n",
       "    </tr>\n",
       "  </thead>\n",
       "  <tbody>\n",
       "    <tr>\n",
       "      <th>0</th>\n",
       "      <td>0</td>\n",
       "      <td>1</td>\n",
       "      <td>Julie Rodriguez</td>\n",
       "      <td>51</td>\n",
       "      <td>Female</td>\n",
       "      <td>HR</td>\n",
       "      <td>Coordinator</td>\n",
       "      <td>69329.59</td>\n",
       "      <td>27</td>\n",
       "      <td>2</td>\n",
       "      <td>3</td>\n",
       "      <td>1</td>\n",
       "    </tr>\n",
       "    <tr>\n",
       "      <th>1</th>\n",
       "      <td>1</td>\n",
       "      <td>2</td>\n",
       "      <td>Cole Valenzuela</td>\n",
       "      <td>58</td>\n",
       "      <td>Male</td>\n",
       "      <td>IT</td>\n",
       "      <td>Analyst</td>\n",
       "      <td>81490.38</td>\n",
       "      <td>23</td>\n",
       "      <td>3</td>\n",
       "      <td>4</td>\n",
       "      <td>5</td>\n",
       "    </tr>\n",
       "    <tr>\n",
       "      <th>2</th>\n",
       "      <td>2</td>\n",
       "      <td>3</td>\n",
       "      <td>Brian Hampton</td>\n",
       "      <td>26</td>\n",
       "      <td>Female</td>\n",
       "      <td>IT</td>\n",
       "      <td>Consultant</td>\n",
       "      <td>58526.86</td>\n",
       "      <td>13</td>\n",
       "      <td>4</td>\n",
       "      <td>4</td>\n",
       "      <td>2</td>\n",
       "    </tr>\n",
       "    <tr>\n",
       "      <th>3</th>\n",
       "      <td>3</td>\n",
       "      <td>4</td>\n",
       "      <td>Christian Leonard</td>\n",
       "      <td>51</td>\n",
       "      <td>Female</td>\n",
       "      <td>Finance</td>\n",
       "      <td>Manager</td>\n",
       "      <td>61573.58</td>\n",
       "      <td>19</td>\n",
       "      <td>5</td>\n",
       "      <td>2</td>\n",
       "      <td>1</td>\n",
       "    </tr>\n",
       "    <tr>\n",
       "      <th>4</th>\n",
       "      <td>4</td>\n",
       "      <td>5</td>\n",
       "      <td>Nancy Nash</td>\n",
       "      <td>62</td>\n",
       "      <td>Female</td>\n",
       "      <td>Marketing</td>\n",
       "      <td>Engineer</td>\n",
       "      <td>44924.45</td>\n",
       "      <td>20</td>\n",
       "      <td>1</td>\n",
       "      <td>2</td>\n",
       "      <td>0</td>\n",
       "    </tr>\n",
       "  </tbody>\n",
       "</table>\n",
       "</div>"
      ],
      "text/plain": [
       "   Unnamed: 0  EmployeeID               Name  Age  Gender Department  \\\n",
       "0           0           1    Julie Rodriguez   51  Female         HR   \n",
       "1           1           2    Cole Valenzuela   58    Male         IT   \n",
       "2           2           3      Brian Hampton   26  Female         IT   \n",
       "3           3           4  Christian Leonard   51  Female    Finance   \n",
       "4           4           5         Nancy Nash   62  Female  Marketing   \n",
       "\n",
       "      JobTitle    Salary  YearsAtCompany  PerformanceRating  EducationLevel  \\\n",
       "0  Coordinator  69329.59              27                  2               3   \n",
       "1      Analyst  81490.38              23                  3               4   \n",
       "2   Consultant  58526.86              13                  4               4   \n",
       "3      Manager  61573.58              19                  5               2   \n",
       "4     Engineer  44924.45              20                  1               2   \n",
       "\n",
       "   clusters  \n",
       "0         1  \n",
       "1         5  \n",
       "2         2  \n",
       "3         1  \n",
       "4         0  "
      ]
     },
     "execution_count": 315,
     "metadata": {},
     "output_type": "execute_result"
    }
   ],
   "source": [
    "# Add the cluster labels to the dataframe\n",
    "df['clusters'] = clusters\n",
    "df.head()"
   ]
  },
  {
   "cell_type": "code",
   "execution_count": 316,
   "id": "1953c735",
   "metadata": {},
   "outputs": [
    {
     "data": {
      "application/vnd.microsoft.datawrangler.viewer.v0+json": {
       "columns": [
        {
         "name": "index",
         "rawType": "int64",
         "type": "integer"
        },
        {
         "name": "JobTitle",
         "rawType": "object",
         "type": "string"
        },
        {
         "name": "clusters",
         "rawType": "int32",
         "type": "integer"
        }
       ],
       "ref": "805059a2-05c0-4524-a228-f2b879459175",
       "rows": [
        [
         "0",
         "Coordinator",
         "1"
        ],
        [
         "1",
         "Analyst",
         "5"
        ],
        [
         "2",
         "Consultant",
         "2"
        ],
        [
         "3",
         "Manager",
         "1"
        ],
        [
         "4",
         "Engineer",
         "0"
        ]
       ],
       "shape": {
        "columns": 2,
        "rows": 5
       }
      },
      "text/html": [
       "<div>\n",
       "<style scoped>\n",
       "    .dataframe tbody tr th:only-of-type {\n",
       "        vertical-align: middle;\n",
       "    }\n",
       "\n",
       "    .dataframe tbody tr th {\n",
       "        vertical-align: top;\n",
       "    }\n",
       "\n",
       "    .dataframe thead th {\n",
       "        text-align: right;\n",
       "    }\n",
       "</style>\n",
       "<table border=\"1\" class=\"dataframe\">\n",
       "  <thead>\n",
       "    <tr style=\"text-align: right;\">\n",
       "      <th></th>\n",
       "      <th>JobTitle</th>\n",
       "      <th>clusters</th>\n",
       "    </tr>\n",
       "  </thead>\n",
       "  <tbody>\n",
       "    <tr>\n",
       "      <th>0</th>\n",
       "      <td>Coordinator</td>\n",
       "      <td>1</td>\n",
       "    </tr>\n",
       "    <tr>\n",
       "      <th>1</th>\n",
       "      <td>Analyst</td>\n",
       "      <td>5</td>\n",
       "    </tr>\n",
       "    <tr>\n",
       "      <th>2</th>\n",
       "      <td>Consultant</td>\n",
       "      <td>2</td>\n",
       "    </tr>\n",
       "    <tr>\n",
       "      <th>3</th>\n",
       "      <td>Manager</td>\n",
       "      <td>1</td>\n",
       "    </tr>\n",
       "    <tr>\n",
       "      <th>4</th>\n",
       "      <td>Engineer</td>\n",
       "      <td>0</td>\n",
       "    </tr>\n",
       "  </tbody>\n",
       "</table>\n",
       "</div>"
      ],
      "text/plain": [
       "      JobTitle  clusters\n",
       "0  Coordinator         1\n",
       "1      Analyst         5\n",
       "2   Consultant         2\n",
       "3      Manager         1\n",
       "4     Engineer         0"
      ]
     },
     "execution_count": 316,
     "metadata": {},
     "output_type": "execute_result"
    }
   ],
   "source": [
    "# Use label and country to create a dataframe\n",
    "df_dt = pd.DataFrame({'JobTitle': df['JobTitle'], 'clusters': df['clusters']})\n",
    "df_dt.head()"
   ]
  },
  {
   "cell_type": "code",
   "execution_count": 317,
   "id": "c3d3782b",
   "metadata": {},
   "outputs": [
    {
     "data": {
      "application/vnd.microsoft.datawrangler.viewer.v0+json": {
       "columns": [
        {
         "name": "clusters",
         "rawType": "int32",
         "type": "integer"
        },
        {
         "name": "Analyst",
         "rawType": "int64",
         "type": "integer"
        },
        {
         "name": "Consultant",
         "rawType": "int64",
         "type": "integer"
        },
        {
         "name": "Coordinator",
         "rawType": "int64",
         "type": "integer"
        },
        {
         "name": "Engineer",
         "rawType": "int64",
         "type": "integer"
        },
        {
         "name": "Executive",
         "rawType": "int64",
         "type": "integer"
        },
        {
         "name": "Manager",
         "rawType": "int64",
         "type": "integer"
        }
       ],
       "ref": "459b3937-acdd-4ce7-bbe8-2534884e8c6c",
       "rows": [
        [
         "0",
         "324",
         "332",
         "322",
         "341",
         "338",
         "361"
        ],
        [
         "1",
         "386",
         "387",
         "367",
         "392",
         "399",
         "428"
        ],
        [
         "2",
         "421",
         "410",
         "403",
         "442",
         "423",
         "418"
        ],
        [
         "3",
         "155",
         "138",
         "162",
         "153",
         "146",
         "143"
        ],
        [
         "4",
         "92",
         "97",
         "91",
         "114",
         "96",
         "99"
        ],
        [
         "5",
         "280",
         "277",
         "262",
         "245",
         "288",
         "268"
        ]
       ],
       "shape": {
        "columns": 6,
        "rows": 6
       }
      },
      "text/html": [
       "<div>\n",
       "<style scoped>\n",
       "    .dataframe tbody tr th:only-of-type {\n",
       "        vertical-align: middle;\n",
       "    }\n",
       "\n",
       "    .dataframe tbody tr th {\n",
       "        vertical-align: top;\n",
       "    }\n",
       "\n",
       "    .dataframe thead th {\n",
       "        text-align: right;\n",
       "    }\n",
       "</style>\n",
       "<table border=\"1\" class=\"dataframe\">\n",
       "  <thead>\n",
       "    <tr style=\"text-align: right;\">\n",
       "      <th>JobTitle</th>\n",
       "      <th>Analyst</th>\n",
       "      <th>Consultant</th>\n",
       "      <th>Coordinator</th>\n",
       "      <th>Engineer</th>\n",
       "      <th>Executive</th>\n",
       "      <th>Manager</th>\n",
       "    </tr>\n",
       "    <tr>\n",
       "      <th>clusters</th>\n",
       "      <th></th>\n",
       "      <th></th>\n",
       "      <th></th>\n",
       "      <th></th>\n",
       "      <th></th>\n",
       "      <th></th>\n",
       "    </tr>\n",
       "  </thead>\n",
       "  <tbody>\n",
       "    <tr>\n",
       "      <th>0</th>\n",
       "      <td>324</td>\n",
       "      <td>332</td>\n",
       "      <td>322</td>\n",
       "      <td>341</td>\n",
       "      <td>338</td>\n",
       "      <td>361</td>\n",
       "    </tr>\n",
       "    <tr>\n",
       "      <th>1</th>\n",
       "      <td>386</td>\n",
       "      <td>387</td>\n",
       "      <td>367</td>\n",
       "      <td>392</td>\n",
       "      <td>399</td>\n",
       "      <td>428</td>\n",
       "    </tr>\n",
       "    <tr>\n",
       "      <th>2</th>\n",
       "      <td>421</td>\n",
       "      <td>410</td>\n",
       "      <td>403</td>\n",
       "      <td>442</td>\n",
       "      <td>423</td>\n",
       "      <td>418</td>\n",
       "    </tr>\n",
       "    <tr>\n",
       "      <th>3</th>\n",
       "      <td>155</td>\n",
       "      <td>138</td>\n",
       "      <td>162</td>\n",
       "      <td>153</td>\n",
       "      <td>146</td>\n",
       "      <td>143</td>\n",
       "    </tr>\n",
       "    <tr>\n",
       "      <th>4</th>\n",
       "      <td>92</td>\n",
       "      <td>97</td>\n",
       "      <td>91</td>\n",
       "      <td>114</td>\n",
       "      <td>96</td>\n",
       "      <td>99</td>\n",
       "    </tr>\n",
       "    <tr>\n",
       "      <th>5</th>\n",
       "      <td>280</td>\n",
       "      <td>277</td>\n",
       "      <td>262</td>\n",
       "      <td>245</td>\n",
       "      <td>288</td>\n",
       "      <td>268</td>\n",
       "    </tr>\n",
       "  </tbody>\n",
       "</table>\n",
       "</div>"
      ],
      "text/plain": [
       "JobTitle  Analyst  Consultant  Coordinator  Engineer  Executive  Manager\n",
       "clusters                                                                \n",
       "0             324         332          322       341        338      361\n",
       "1             386         387          367       392        399      428\n",
       "2             421         410          403       442        423      418\n",
       "3             155         138          162       153        146      143\n",
       "4              92          97           91       114         96       99\n",
       "5             280         277          262       245        288      268"
      ]
     },
     "execution_count": 317,
     "metadata": {},
     "output_type": "execute_result"
    }
   ],
   "source": [
    "# cross tabulate the cluster and country columns\n",
    "ct = pd.crosstab(df_dt['clusters'], df_dt['JobTitle'])\n",
    "ct"
   ]
  },
  {
   "cell_type": "markdown",
   "id": "f02d6b6a",
   "metadata": {},
   "source": [
    "Data Scaling"
   ]
  },
  {
   "cell_type": "code",
   "execution_count": 318,
   "id": "42bfc890",
   "metadata": {},
   "outputs": [
    {
     "data": {
      "application/vnd.microsoft.datawrangler.viewer.v0+json": {
       "columns": [
        {
         "name": "index",
         "rawType": "int64",
         "type": "integer"
        },
        {
         "name": "Age",
         "rawType": "int64",
         "type": "integer"
        },
        {
         "name": "Salary",
         "rawType": "float64",
         "type": "float"
        },
        {
         "name": "YearsAtCompany",
         "rawType": "int64",
         "type": "integer"
        },
        {
         "name": "PerformanceRating",
         "rawType": "int64",
         "type": "integer"
        },
        {
         "name": "EducationLevel",
         "rawType": "int64",
         "type": "integer"
        }
       ],
       "ref": "09685aed-8ad2-40cb-bf72-523ab93b7643",
       "rows": [
        [
         "0",
         "51",
         "69329.59",
         "27",
         "2",
         "3"
        ],
        [
         "1",
         "58",
         "81490.38",
         "23",
         "3",
         "4"
        ],
        [
         "2",
         "26",
         "58526.86",
         "13",
         "4",
         "4"
        ],
        [
         "3",
         "51",
         "61573.58",
         "19",
         "5",
         "2"
        ],
        [
         "4",
         "62",
         "44924.45",
         "20",
         "1",
         "2"
        ]
       ],
       "shape": {
        "columns": 5,
        "rows": 5
       }
      },
      "text/html": [
       "<div>\n",
       "<style scoped>\n",
       "    .dataframe tbody tr th:only-of-type {\n",
       "        vertical-align: middle;\n",
       "    }\n",
       "\n",
       "    .dataframe tbody tr th {\n",
       "        vertical-align: top;\n",
       "    }\n",
       "\n",
       "    .dataframe thead th {\n",
       "        text-align: right;\n",
       "    }\n",
       "</style>\n",
       "<table border=\"1\" class=\"dataframe\">\n",
       "  <thead>\n",
       "    <tr style=\"text-align: right;\">\n",
       "      <th></th>\n",
       "      <th>Age</th>\n",
       "      <th>Salary</th>\n",
       "      <th>YearsAtCompany</th>\n",
       "      <th>PerformanceRating</th>\n",
       "      <th>EducationLevel</th>\n",
       "    </tr>\n",
       "  </thead>\n",
       "  <tbody>\n",
       "    <tr>\n",
       "      <th>0</th>\n",
       "      <td>51</td>\n",
       "      <td>69329.59</td>\n",
       "      <td>27</td>\n",
       "      <td>2</td>\n",
       "      <td>3</td>\n",
       "    </tr>\n",
       "    <tr>\n",
       "      <th>1</th>\n",
       "      <td>58</td>\n",
       "      <td>81490.38</td>\n",
       "      <td>23</td>\n",
       "      <td>3</td>\n",
       "      <td>4</td>\n",
       "    </tr>\n",
       "    <tr>\n",
       "      <th>2</th>\n",
       "      <td>26</td>\n",
       "      <td>58526.86</td>\n",
       "      <td>13</td>\n",
       "      <td>4</td>\n",
       "      <td>4</td>\n",
       "    </tr>\n",
       "    <tr>\n",
       "      <th>3</th>\n",
       "      <td>51</td>\n",
       "      <td>61573.58</td>\n",
       "      <td>19</td>\n",
       "      <td>5</td>\n",
       "      <td>2</td>\n",
       "    </tr>\n",
       "    <tr>\n",
       "      <th>4</th>\n",
       "      <td>62</td>\n",
       "      <td>44924.45</td>\n",
       "      <td>20</td>\n",
       "      <td>1</td>\n",
       "      <td>2</td>\n",
       "    </tr>\n",
       "  </tbody>\n",
       "</table>\n",
       "</div>"
      ],
      "text/plain": [
       "   Age    Salary  YearsAtCompany  PerformanceRating  EducationLevel\n",
       "0   51  69329.59              27                  2               3\n",
       "1   58  81490.38              23                  3               4\n",
       "2   26  58526.86              13                  4               4\n",
       "3   51  61573.58              19                  5               2\n",
       "4   62  44924.45              20                  1               2"
      ]
     },
     "execution_count": 318,
     "metadata": {},
     "output_type": "execute_result"
    }
   ],
   "source": [
    "df_numeric.head()"
   ]
  },
  {
   "cell_type": "markdown",
   "id": "9b9dedd0",
   "metadata": {},
   "source": [
    "Normalizer"
   ]
  },
  {
   "cell_type": "code",
   "execution_count": 319,
   "id": "f251ed81",
   "metadata": {},
   "outputs": [],
   "source": [
    "# Create a normalizer: normalizer\n",
    "normalize = Normalizer()\n",
    "\n",
    "# Create a KMeans model with 10 clusters: kmeans\n",
    "kmeans = KMeans(n_clusters=n_clusters)\n",
    "\n",
    "# Make a pipeline chaining normalizer and kmeans: pipeline\n",
    "pipeline = make_pipeline(normalize, kmeans)\n",
    "\n",
    "# Fit pipeline to the daily price movements\n",
    "clusters_norm = pipeline.fit_predict(df_numeric)"
   ]
  },
  {
   "cell_type": "code",
   "execution_count": 320,
   "id": "61282442",
   "metadata": {},
   "outputs": [
    {
     "data": {
      "application/vnd.microsoft.datawrangler.viewer.v0+json": {
       "columns": [
        {
         "name": "index",
         "rawType": "int64",
         "type": "integer"
        },
        {
         "name": "Unnamed: 0",
         "rawType": "int64",
         "type": "integer"
        },
        {
         "name": "EmployeeID",
         "rawType": "int64",
         "type": "integer"
        },
        {
         "name": "Name",
         "rawType": "object",
         "type": "string"
        },
        {
         "name": "Age",
         "rawType": "int64",
         "type": "integer"
        },
        {
         "name": "Gender",
         "rawType": "object",
         "type": "string"
        },
        {
         "name": "Department",
         "rawType": "object",
         "type": "string"
        },
        {
         "name": "JobTitle",
         "rawType": "object",
         "type": "string"
        },
        {
         "name": "Salary",
         "rawType": "float64",
         "type": "float"
        },
        {
         "name": "YearsAtCompany",
         "rawType": "int64",
         "type": "integer"
        },
        {
         "name": "PerformanceRating",
         "rawType": "int64",
         "type": "integer"
        },
        {
         "name": "EducationLevel",
         "rawType": "int64",
         "type": "integer"
        },
        {
         "name": "clusters",
         "rawType": "int32",
         "type": "integer"
        },
        {
         "name": "cluster_norm",
         "rawType": "int32",
         "type": "integer"
        }
       ],
       "ref": "f59ed9d4-7927-49f1-967f-026f152a2319",
       "rows": [
        [
         "0",
         "0",
         "1",
         "Julie Rodriguez",
         "51",
         "Female",
         "HR",
         "Coordinator",
         "69329.59",
         "27",
         "2",
         "3",
         "1",
         "2"
        ],
        [
         "1",
         "1",
         "2",
         "Cole Valenzuela",
         "58",
         "Male",
         "IT",
         "Analyst",
         "81490.38",
         "23",
         "3",
         "4",
         "5",
         "2"
        ],
        [
         "2",
         "2",
         "3",
         "Brian Hampton",
         "26",
         "Female",
         "IT",
         "Consultant",
         "58526.86",
         "13",
         "4",
         "4",
         "2",
         "3"
        ],
        [
         "3",
         "3",
         "4",
         "Christian Leonard",
         "51",
         "Female",
         "Finance",
         "Manager",
         "61573.58",
         "19",
         "5",
         "2",
         "1",
         "2"
        ],
        [
         "4",
         "4",
         "5",
         "Nancy Nash",
         "62",
         "Female",
         "Marketing",
         "Engineer",
         "44924.45",
         "20",
         "1",
         "2",
         "0",
         "5"
        ]
       ],
       "shape": {
        "columns": 13,
        "rows": 5
       }
      },
      "text/html": [
       "<div>\n",
       "<style scoped>\n",
       "    .dataframe tbody tr th:only-of-type {\n",
       "        vertical-align: middle;\n",
       "    }\n",
       "\n",
       "    .dataframe tbody tr th {\n",
       "        vertical-align: top;\n",
       "    }\n",
       "\n",
       "    .dataframe thead th {\n",
       "        text-align: right;\n",
       "    }\n",
       "</style>\n",
       "<table border=\"1\" class=\"dataframe\">\n",
       "  <thead>\n",
       "    <tr style=\"text-align: right;\">\n",
       "      <th></th>\n",
       "      <th>Unnamed: 0</th>\n",
       "      <th>EmployeeID</th>\n",
       "      <th>Name</th>\n",
       "      <th>Age</th>\n",
       "      <th>Gender</th>\n",
       "      <th>Department</th>\n",
       "      <th>JobTitle</th>\n",
       "      <th>Salary</th>\n",
       "      <th>YearsAtCompany</th>\n",
       "      <th>PerformanceRating</th>\n",
       "      <th>EducationLevel</th>\n",
       "      <th>clusters</th>\n",
       "      <th>cluster_norm</th>\n",
       "    </tr>\n",
       "  </thead>\n",
       "  <tbody>\n",
       "    <tr>\n",
       "      <th>0</th>\n",
       "      <td>0</td>\n",
       "      <td>1</td>\n",
       "      <td>Julie Rodriguez</td>\n",
       "      <td>51</td>\n",
       "      <td>Female</td>\n",
       "      <td>HR</td>\n",
       "      <td>Coordinator</td>\n",
       "      <td>69329.59</td>\n",
       "      <td>27</td>\n",
       "      <td>2</td>\n",
       "      <td>3</td>\n",
       "      <td>1</td>\n",
       "      <td>2</td>\n",
       "    </tr>\n",
       "    <tr>\n",
       "      <th>1</th>\n",
       "      <td>1</td>\n",
       "      <td>2</td>\n",
       "      <td>Cole Valenzuela</td>\n",
       "      <td>58</td>\n",
       "      <td>Male</td>\n",
       "      <td>IT</td>\n",
       "      <td>Analyst</td>\n",
       "      <td>81490.38</td>\n",
       "      <td>23</td>\n",
       "      <td>3</td>\n",
       "      <td>4</td>\n",
       "      <td>5</td>\n",
       "      <td>2</td>\n",
       "    </tr>\n",
       "    <tr>\n",
       "      <th>2</th>\n",
       "      <td>2</td>\n",
       "      <td>3</td>\n",
       "      <td>Brian Hampton</td>\n",
       "      <td>26</td>\n",
       "      <td>Female</td>\n",
       "      <td>IT</td>\n",
       "      <td>Consultant</td>\n",
       "      <td>58526.86</td>\n",
       "      <td>13</td>\n",
       "      <td>4</td>\n",
       "      <td>4</td>\n",
       "      <td>2</td>\n",
       "      <td>3</td>\n",
       "    </tr>\n",
       "    <tr>\n",
       "      <th>3</th>\n",
       "      <td>3</td>\n",
       "      <td>4</td>\n",
       "      <td>Christian Leonard</td>\n",
       "      <td>51</td>\n",
       "      <td>Female</td>\n",
       "      <td>Finance</td>\n",
       "      <td>Manager</td>\n",
       "      <td>61573.58</td>\n",
       "      <td>19</td>\n",
       "      <td>5</td>\n",
       "      <td>2</td>\n",
       "      <td>1</td>\n",
       "      <td>2</td>\n",
       "    </tr>\n",
       "    <tr>\n",
       "      <th>4</th>\n",
       "      <td>4</td>\n",
       "      <td>5</td>\n",
       "      <td>Nancy Nash</td>\n",
       "      <td>62</td>\n",
       "      <td>Female</td>\n",
       "      <td>Marketing</td>\n",
       "      <td>Engineer</td>\n",
       "      <td>44924.45</td>\n",
       "      <td>20</td>\n",
       "      <td>1</td>\n",
       "      <td>2</td>\n",
       "      <td>0</td>\n",
       "      <td>5</td>\n",
       "    </tr>\n",
       "  </tbody>\n",
       "</table>\n",
       "</div>"
      ],
      "text/plain": [
       "   Unnamed: 0  EmployeeID               Name  Age  Gender Department  \\\n",
       "0           0           1    Julie Rodriguez   51  Female         HR   \n",
       "1           1           2    Cole Valenzuela   58    Male         IT   \n",
       "2           2           3      Brian Hampton   26  Female         IT   \n",
       "3           3           4  Christian Leonard   51  Female    Finance   \n",
       "4           4           5         Nancy Nash   62  Female  Marketing   \n",
       "\n",
       "      JobTitle    Salary  YearsAtCompany  PerformanceRating  EducationLevel  \\\n",
       "0  Coordinator  69329.59              27                  2               3   \n",
       "1      Analyst  81490.38              23                  3               4   \n",
       "2   Consultant  58526.86              13                  4               4   \n",
       "3      Manager  61573.58              19                  5               2   \n",
       "4     Engineer  44924.45              20                  1               2   \n",
       "\n",
       "   clusters  cluster_norm  \n",
       "0         1             2  \n",
       "1         5             2  \n",
       "2         2             3  \n",
       "3         1             2  \n",
       "4         0             5  "
      ]
     },
     "execution_count": 320,
     "metadata": {},
     "output_type": "execute_result"
    }
   ],
   "source": [
    "# Add the cluster labels to the dataframe\n",
    "df['cluster_norm'] = clusters_norm\n",
    "df.head()"
   ]
  },
  {
   "cell_type": "code",
   "execution_count": 321,
   "id": "2f40e913",
   "metadata": {},
   "outputs": [
    {
     "data": {
      "application/vnd.microsoft.datawrangler.viewer.v0+json": {
       "columns": [
        {
         "name": "index",
         "rawType": "int64",
         "type": "integer"
        },
        {
         "name": "JobTitle",
         "rawType": "object",
         "type": "string"
        },
        {
         "name": "cluster_norm",
         "rawType": "int32",
         "type": "integer"
        }
       ],
       "ref": "ba72c9b1-8b9d-45a2-a283-96f9157d499d",
       "rows": [
        [
         "0",
         "Coordinator",
         "2"
        ],
        [
         "1",
         "Analyst",
         "2"
        ],
        [
         "2",
         "Consultant",
         "3"
        ],
        [
         "3",
         "Manager",
         "2"
        ],
        [
         "4",
         "Engineer",
         "5"
        ]
       ],
       "shape": {
        "columns": 2,
        "rows": 5
       }
      },
      "text/html": [
       "<div>\n",
       "<style scoped>\n",
       "    .dataframe tbody tr th:only-of-type {\n",
       "        vertical-align: middle;\n",
       "    }\n",
       "\n",
       "    .dataframe tbody tr th {\n",
       "        vertical-align: top;\n",
       "    }\n",
       "\n",
       "    .dataframe thead th {\n",
       "        text-align: right;\n",
       "    }\n",
       "</style>\n",
       "<table border=\"1\" class=\"dataframe\">\n",
       "  <thead>\n",
       "    <tr style=\"text-align: right;\">\n",
       "      <th></th>\n",
       "      <th>JobTitle</th>\n",
       "      <th>cluster_norm</th>\n",
       "    </tr>\n",
       "  </thead>\n",
       "  <tbody>\n",
       "    <tr>\n",
       "      <th>0</th>\n",
       "      <td>Coordinator</td>\n",
       "      <td>2</td>\n",
       "    </tr>\n",
       "    <tr>\n",
       "      <th>1</th>\n",
       "      <td>Analyst</td>\n",
       "      <td>2</td>\n",
       "    </tr>\n",
       "    <tr>\n",
       "      <th>2</th>\n",
       "      <td>Consultant</td>\n",
       "      <td>3</td>\n",
       "    </tr>\n",
       "    <tr>\n",
       "      <th>3</th>\n",
       "      <td>Manager</td>\n",
       "      <td>2</td>\n",
       "    </tr>\n",
       "    <tr>\n",
       "      <th>4</th>\n",
       "      <td>Engineer</td>\n",
       "      <td>5</td>\n",
       "    </tr>\n",
       "  </tbody>\n",
       "</table>\n",
       "</div>"
      ],
      "text/plain": [
       "      JobTitle  cluster_norm\n",
       "0  Coordinator             2\n",
       "1      Analyst             2\n",
       "2   Consultant             3\n",
       "3      Manager             2\n",
       "4     Engineer             5"
      ]
     },
     "execution_count": 321,
     "metadata": {},
     "output_type": "execute_result"
    }
   ],
   "source": [
    "# Use label and country to create a dataframe\n",
    "df_dt_norm = pd.DataFrame({'JobTitle': df['JobTitle'], 'cluster_norm': df['cluster_norm']})\n",
    "df_dt_norm.head()"
   ]
  },
  {
   "cell_type": "code",
   "execution_count": 322,
   "id": "2d80fdac",
   "metadata": {},
   "outputs": [
    {
     "data": {
      "application/vnd.microsoft.datawrangler.viewer.v0+json": {
       "columns": [
        {
         "name": "cluster_norm",
         "rawType": "int32",
         "type": "integer"
        },
        {
         "name": "Analyst",
         "rawType": "int64",
         "type": "integer"
        },
        {
         "name": "Consultant",
         "rawType": "int64",
         "type": "integer"
        },
        {
         "name": "Coordinator",
         "rawType": "int64",
         "type": "integer"
        },
        {
         "name": "Engineer",
         "rawType": "int64",
         "type": "integer"
        },
        {
         "name": "Executive",
         "rawType": "int64",
         "type": "integer"
        },
        {
         "name": "Manager",
         "rawType": "int64",
         "type": "integer"
        }
       ],
       "ref": "b0149641-47de-496a-b44f-37fb12eabce7",
       "rows": [
        [
         "0",
         "199",
         "186",
         "171",
         "202",
         "207",
         "209"
        ],
        [
         "1",
         "0",
         "0",
         "0",
         "0",
         "1",
         "0"
        ],
        [
         "2",
         "609",
         "571",
         "564",
         "654",
         "601",
         "626"
        ],
        [
         "3",
         "602",
         "636",
         "617",
         "581",
         "633",
         "630"
        ],
        [
         "4",
         "39",
         "30",
         "33",
         "32",
         "32",
         "32"
        ],
        [
         "5",
         "209",
         "218",
         "222",
         "218",
         "216",
         "220"
        ]
       ],
       "shape": {
        "columns": 6,
        "rows": 6
       }
      },
      "text/html": [
       "<div>\n",
       "<style scoped>\n",
       "    .dataframe tbody tr th:only-of-type {\n",
       "        vertical-align: middle;\n",
       "    }\n",
       "\n",
       "    .dataframe tbody tr th {\n",
       "        vertical-align: top;\n",
       "    }\n",
       "\n",
       "    .dataframe thead th {\n",
       "        text-align: right;\n",
       "    }\n",
       "</style>\n",
       "<table border=\"1\" class=\"dataframe\">\n",
       "  <thead>\n",
       "    <tr style=\"text-align: right;\">\n",
       "      <th>JobTitle</th>\n",
       "      <th>Analyst</th>\n",
       "      <th>Consultant</th>\n",
       "      <th>Coordinator</th>\n",
       "      <th>Engineer</th>\n",
       "      <th>Executive</th>\n",
       "      <th>Manager</th>\n",
       "    </tr>\n",
       "    <tr>\n",
       "      <th>cluster_norm</th>\n",
       "      <th></th>\n",
       "      <th></th>\n",
       "      <th></th>\n",
       "      <th></th>\n",
       "      <th></th>\n",
       "      <th></th>\n",
       "    </tr>\n",
       "  </thead>\n",
       "  <tbody>\n",
       "    <tr>\n",
       "      <th>0</th>\n",
       "      <td>199</td>\n",
       "      <td>186</td>\n",
       "      <td>171</td>\n",
       "      <td>202</td>\n",
       "      <td>207</td>\n",
       "      <td>209</td>\n",
       "    </tr>\n",
       "    <tr>\n",
       "      <th>1</th>\n",
       "      <td>0</td>\n",
       "      <td>0</td>\n",
       "      <td>0</td>\n",
       "      <td>0</td>\n",
       "      <td>1</td>\n",
       "      <td>0</td>\n",
       "    </tr>\n",
       "    <tr>\n",
       "      <th>2</th>\n",
       "      <td>609</td>\n",
       "      <td>571</td>\n",
       "      <td>564</td>\n",
       "      <td>654</td>\n",
       "      <td>601</td>\n",
       "      <td>626</td>\n",
       "    </tr>\n",
       "    <tr>\n",
       "      <th>3</th>\n",
       "      <td>602</td>\n",
       "      <td>636</td>\n",
       "      <td>617</td>\n",
       "      <td>581</td>\n",
       "      <td>633</td>\n",
       "      <td>630</td>\n",
       "    </tr>\n",
       "    <tr>\n",
       "      <th>4</th>\n",
       "      <td>39</td>\n",
       "      <td>30</td>\n",
       "      <td>33</td>\n",
       "      <td>32</td>\n",
       "      <td>32</td>\n",
       "      <td>32</td>\n",
       "    </tr>\n",
       "    <tr>\n",
       "      <th>5</th>\n",
       "      <td>209</td>\n",
       "      <td>218</td>\n",
       "      <td>222</td>\n",
       "      <td>218</td>\n",
       "      <td>216</td>\n",
       "      <td>220</td>\n",
       "    </tr>\n",
       "  </tbody>\n",
       "</table>\n",
       "</div>"
      ],
      "text/plain": [
       "JobTitle      Analyst  Consultant  Coordinator  Engineer  Executive  Manager\n",
       "cluster_norm                                                                \n",
       "0                 199         186          171       202        207      209\n",
       "1                   0           0            0         0          1        0\n",
       "2                 609         571          564       654        601      626\n",
       "3                 602         636          617       581        633      630\n",
       "4                  39          30           33        32         32       32\n",
       "5                 209         218          222       218        216      220"
      ]
     },
     "execution_count": 322,
     "metadata": {},
     "output_type": "execute_result"
    }
   ],
   "source": [
    "# cross tabulate the cluster and country columns\n",
    "clusters_norm = pd.crosstab(df_dt_norm['cluster_norm'], df_dt_norm['JobTitle'])\n",
    "clusters_norm"
   ]
  },
  {
   "cell_type": "markdown",
   "id": "53e2194b",
   "metadata": {},
   "source": [
    "Standard Scaler"
   ]
  },
  {
   "cell_type": "code",
   "execution_count": 323,
   "id": "1e0618de",
   "metadata": {},
   "outputs": [],
   "source": [
    "# Create a scaler: scaler\n",
    "scaler = StandardScaler()\n",
    "\n",
    "# Create a KMeans model with 10 clusters: kmeans\n",
    "kmeans = KMeans(n_clusters=n_clusters)\n",
    "\n",
    "# Make a pipeline chaining normalizer and kmeans: pipeline\n",
    "pipeline = make_pipeline(scaler, kmeans)\n",
    "\n",
    "# Fit pipeline to the daily price movements\n",
    "clusters_scaled = pipeline.fit_predict(df_numeric)"
   ]
  },
  {
   "cell_type": "code",
   "execution_count": 324,
   "id": "324b4273",
   "metadata": {},
   "outputs": [
    {
     "data": {
      "application/vnd.microsoft.datawrangler.viewer.v0+json": {
       "columns": [
        {
         "name": "index",
         "rawType": "int64",
         "type": "integer"
        },
        {
         "name": "Unnamed: 0",
         "rawType": "int64",
         "type": "integer"
        },
        {
         "name": "EmployeeID",
         "rawType": "int64",
         "type": "integer"
        },
        {
         "name": "Name",
         "rawType": "object",
         "type": "string"
        },
        {
         "name": "Age",
         "rawType": "int64",
         "type": "integer"
        },
        {
         "name": "Gender",
         "rawType": "object",
         "type": "string"
        },
        {
         "name": "Department",
         "rawType": "object",
         "type": "string"
        },
        {
         "name": "JobTitle",
         "rawType": "object",
         "type": "string"
        },
        {
         "name": "Salary",
         "rawType": "float64",
         "type": "float"
        },
        {
         "name": "YearsAtCompany",
         "rawType": "int64",
         "type": "integer"
        },
        {
         "name": "PerformanceRating",
         "rawType": "int64",
         "type": "integer"
        },
        {
         "name": "EducationLevel",
         "rawType": "int64",
         "type": "integer"
        },
        {
         "name": "clusters",
         "rawType": "int32",
         "type": "integer"
        },
        {
         "name": "cluster_norm",
         "rawType": "int32",
         "type": "integer"
        },
        {
         "name": "cluster_scaled",
         "rawType": "int32",
         "type": "integer"
        }
       ],
       "ref": "1615ab7b-0126-4785-a626-c9e2c1955121",
       "rows": [
        [
         "0",
         "0",
         "1",
         "Julie Rodriguez",
         "51",
         "Female",
         "HR",
         "Coordinator",
         "69329.59",
         "27",
         "2",
         "3",
         "1",
         "2",
         "0"
        ],
        [
         "1",
         "1",
         "2",
         "Cole Valenzuela",
         "58",
         "Male",
         "IT",
         "Analyst",
         "81490.38",
         "23",
         "3",
         "4",
         "5",
         "2",
         "0"
        ],
        [
         "2",
         "2",
         "3",
         "Brian Hampton",
         "26",
         "Female",
         "IT",
         "Consultant",
         "58526.86",
         "13",
         "4",
         "4",
         "2",
         "3",
         "5"
        ],
        [
         "3",
         "3",
         "4",
         "Christian Leonard",
         "51",
         "Female",
         "Finance",
         "Manager",
         "61573.58",
         "19",
         "5",
         "2",
         "1",
         "2",
         "3"
        ],
        [
         "4",
         "4",
         "5",
         "Nancy Nash",
         "62",
         "Female",
         "Marketing",
         "Engineer",
         "44924.45",
         "20",
         "1",
         "2",
         "0",
         "5",
         "2"
        ]
       ],
       "shape": {
        "columns": 14,
        "rows": 5
       }
      },
      "text/html": [
       "<div>\n",
       "<style scoped>\n",
       "    .dataframe tbody tr th:only-of-type {\n",
       "        vertical-align: middle;\n",
       "    }\n",
       "\n",
       "    .dataframe tbody tr th {\n",
       "        vertical-align: top;\n",
       "    }\n",
       "\n",
       "    .dataframe thead th {\n",
       "        text-align: right;\n",
       "    }\n",
       "</style>\n",
       "<table border=\"1\" class=\"dataframe\">\n",
       "  <thead>\n",
       "    <tr style=\"text-align: right;\">\n",
       "      <th></th>\n",
       "      <th>Unnamed: 0</th>\n",
       "      <th>EmployeeID</th>\n",
       "      <th>Name</th>\n",
       "      <th>Age</th>\n",
       "      <th>Gender</th>\n",
       "      <th>Department</th>\n",
       "      <th>JobTitle</th>\n",
       "      <th>Salary</th>\n",
       "      <th>YearsAtCompany</th>\n",
       "      <th>PerformanceRating</th>\n",
       "      <th>EducationLevel</th>\n",
       "      <th>clusters</th>\n",
       "      <th>cluster_norm</th>\n",
       "      <th>cluster_scaled</th>\n",
       "    </tr>\n",
       "  </thead>\n",
       "  <tbody>\n",
       "    <tr>\n",
       "      <th>0</th>\n",
       "      <td>0</td>\n",
       "      <td>1</td>\n",
       "      <td>Julie Rodriguez</td>\n",
       "      <td>51</td>\n",
       "      <td>Female</td>\n",
       "      <td>HR</td>\n",
       "      <td>Coordinator</td>\n",
       "      <td>69329.59</td>\n",
       "      <td>27</td>\n",
       "      <td>2</td>\n",
       "      <td>3</td>\n",
       "      <td>1</td>\n",
       "      <td>2</td>\n",
       "      <td>0</td>\n",
       "    </tr>\n",
       "    <tr>\n",
       "      <th>1</th>\n",
       "      <td>1</td>\n",
       "      <td>2</td>\n",
       "      <td>Cole Valenzuela</td>\n",
       "      <td>58</td>\n",
       "      <td>Male</td>\n",
       "      <td>IT</td>\n",
       "      <td>Analyst</td>\n",
       "      <td>81490.38</td>\n",
       "      <td>23</td>\n",
       "      <td>3</td>\n",
       "      <td>4</td>\n",
       "      <td>5</td>\n",
       "      <td>2</td>\n",
       "      <td>0</td>\n",
       "    </tr>\n",
       "    <tr>\n",
       "      <th>2</th>\n",
       "      <td>2</td>\n",
       "      <td>3</td>\n",
       "      <td>Brian Hampton</td>\n",
       "      <td>26</td>\n",
       "      <td>Female</td>\n",
       "      <td>IT</td>\n",
       "      <td>Consultant</td>\n",
       "      <td>58526.86</td>\n",
       "      <td>13</td>\n",
       "      <td>4</td>\n",
       "      <td>4</td>\n",
       "      <td>2</td>\n",
       "      <td>3</td>\n",
       "      <td>5</td>\n",
       "    </tr>\n",
       "    <tr>\n",
       "      <th>3</th>\n",
       "      <td>3</td>\n",
       "      <td>4</td>\n",
       "      <td>Christian Leonard</td>\n",
       "      <td>51</td>\n",
       "      <td>Female</td>\n",
       "      <td>Finance</td>\n",
       "      <td>Manager</td>\n",
       "      <td>61573.58</td>\n",
       "      <td>19</td>\n",
       "      <td>5</td>\n",
       "      <td>2</td>\n",
       "      <td>1</td>\n",
       "      <td>2</td>\n",
       "      <td>3</td>\n",
       "    </tr>\n",
       "    <tr>\n",
       "      <th>4</th>\n",
       "      <td>4</td>\n",
       "      <td>5</td>\n",
       "      <td>Nancy Nash</td>\n",
       "      <td>62</td>\n",
       "      <td>Female</td>\n",
       "      <td>Marketing</td>\n",
       "      <td>Engineer</td>\n",
       "      <td>44924.45</td>\n",
       "      <td>20</td>\n",
       "      <td>1</td>\n",
       "      <td>2</td>\n",
       "      <td>0</td>\n",
       "      <td>5</td>\n",
       "      <td>2</td>\n",
       "    </tr>\n",
       "  </tbody>\n",
       "</table>\n",
       "</div>"
      ],
      "text/plain": [
       "   Unnamed: 0  EmployeeID               Name  Age  Gender Department  \\\n",
       "0           0           1    Julie Rodriguez   51  Female         HR   \n",
       "1           1           2    Cole Valenzuela   58    Male         IT   \n",
       "2           2           3      Brian Hampton   26  Female         IT   \n",
       "3           3           4  Christian Leonard   51  Female    Finance   \n",
       "4           4           5         Nancy Nash   62  Female  Marketing   \n",
       "\n",
       "      JobTitle    Salary  YearsAtCompany  PerformanceRating  EducationLevel  \\\n",
       "0  Coordinator  69329.59              27                  2               3   \n",
       "1      Analyst  81490.38              23                  3               4   \n",
       "2   Consultant  58526.86              13                  4               4   \n",
       "3      Manager  61573.58              19                  5               2   \n",
       "4     Engineer  44924.45              20                  1               2   \n",
       "\n",
       "   clusters  cluster_norm  cluster_scaled  \n",
       "0         1             2               0  \n",
       "1         5             2               0  \n",
       "2         2             3               5  \n",
       "3         1             2               3  \n",
       "4         0             5               2  "
      ]
     },
     "execution_count": 324,
     "metadata": {},
     "output_type": "execute_result"
    }
   ],
   "source": [
    "# Add the cluster labels to the dataframe\n",
    "df['cluster_scaled'] = clusters_scaled\n",
    "df.head()"
   ]
  },
  {
   "cell_type": "code",
   "execution_count": 325,
   "id": "d4c7db4c",
   "metadata": {},
   "outputs": [
    {
     "data": {
      "application/vnd.microsoft.datawrangler.viewer.v0+json": {
       "columns": [
        {
         "name": "index",
         "rawType": "int64",
         "type": "integer"
        },
        {
         "name": "JobTitle",
         "rawType": "object",
         "type": "string"
        },
        {
         "name": "cluster_scaled",
         "rawType": "int32",
         "type": "integer"
        }
       ],
       "ref": "ff50af9d-e0a6-4731-967b-9230077a4dd9",
       "rows": [
        [
         "0",
         "Coordinator",
         "0"
        ],
        [
         "1",
         "Analyst",
         "0"
        ],
        [
         "2",
         "Consultant",
         "5"
        ],
        [
         "3",
         "Manager",
         "3"
        ],
        [
         "4",
         "Engineer",
         "2"
        ]
       ],
       "shape": {
        "columns": 2,
        "rows": 5
       }
      },
      "text/html": [
       "<div>\n",
       "<style scoped>\n",
       "    .dataframe tbody tr th:only-of-type {\n",
       "        vertical-align: middle;\n",
       "    }\n",
       "\n",
       "    .dataframe tbody tr th {\n",
       "        vertical-align: top;\n",
       "    }\n",
       "\n",
       "    .dataframe thead th {\n",
       "        text-align: right;\n",
       "    }\n",
       "</style>\n",
       "<table border=\"1\" class=\"dataframe\">\n",
       "  <thead>\n",
       "    <tr style=\"text-align: right;\">\n",
       "      <th></th>\n",
       "      <th>JobTitle</th>\n",
       "      <th>cluster_scaled</th>\n",
       "    </tr>\n",
       "  </thead>\n",
       "  <tbody>\n",
       "    <tr>\n",
       "      <th>0</th>\n",
       "      <td>Coordinator</td>\n",
       "      <td>0</td>\n",
       "    </tr>\n",
       "    <tr>\n",
       "      <th>1</th>\n",
       "      <td>Analyst</td>\n",
       "      <td>0</td>\n",
       "    </tr>\n",
       "    <tr>\n",
       "      <th>2</th>\n",
       "      <td>Consultant</td>\n",
       "      <td>5</td>\n",
       "    </tr>\n",
       "    <tr>\n",
       "      <th>3</th>\n",
       "      <td>Manager</td>\n",
       "      <td>3</td>\n",
       "    </tr>\n",
       "    <tr>\n",
       "      <th>4</th>\n",
       "      <td>Engineer</td>\n",
       "      <td>2</td>\n",
       "    </tr>\n",
       "  </tbody>\n",
       "</table>\n",
       "</div>"
      ],
      "text/plain": [
       "      JobTitle  cluster_scaled\n",
       "0  Coordinator               0\n",
       "1      Analyst               0\n",
       "2   Consultant               5\n",
       "3      Manager               3\n",
       "4     Engineer               2"
      ]
     },
     "execution_count": 325,
     "metadata": {},
     "output_type": "execute_result"
    }
   ],
   "source": [
    "# Use label and country to create a dataframe\n",
    "df_dt_scaled = pd.DataFrame({'JobTitle': df['JobTitle'], 'cluster_scaled': df['cluster_scaled']})\n",
    "df_dt_scaled.head()"
   ]
  },
  {
   "cell_type": "code",
   "execution_count": 326,
   "id": "89eeb381",
   "metadata": {},
   "outputs": [
    {
     "data": {
      "application/vnd.microsoft.datawrangler.viewer.v0+json": {
       "columns": [
        {
         "name": "cluster_scaled",
         "rawType": "int32",
         "type": "integer"
        },
        {
         "name": "Analyst",
         "rawType": "int64",
         "type": "integer"
        },
        {
         "name": "Consultant",
         "rawType": "int64",
         "type": "integer"
        },
        {
         "name": "Coordinator",
         "rawType": "int64",
         "type": "integer"
        },
        {
         "name": "Engineer",
         "rawType": "int64",
         "type": "integer"
        },
        {
         "name": "Executive",
         "rawType": "int64",
         "type": "integer"
        },
        {
         "name": "Manager",
         "rawType": "int64",
         "type": "integer"
        }
       ],
       "ref": "4e9303fc-37ca-49f2-8f0e-8530acdb4d84",
       "rows": [
        [
         "0",
         "302",
         "272",
         "262",
         "318",
         "298",
         "310"
        ],
        [
         "1",
         "303",
         "281",
         "311",
         "323",
         "321",
         "300"
        ],
        [
         "2",
         "263",
         "291",
         "256",
         "264",
         "267",
         "292"
        ],
        [
         "3",
         "269",
         "287",
         "252",
         "262",
         "270",
         "267"
        ],
        [
         "4",
         "264",
         "271",
         "258",
         "264",
         "253",
         "295"
        ],
        [
         "5",
         "257",
         "239",
         "268",
         "256",
         "281",
         "253"
        ]
       ],
       "shape": {
        "columns": 6,
        "rows": 6
       }
      },
      "text/html": [
       "<div>\n",
       "<style scoped>\n",
       "    .dataframe tbody tr th:only-of-type {\n",
       "        vertical-align: middle;\n",
       "    }\n",
       "\n",
       "    .dataframe tbody tr th {\n",
       "        vertical-align: top;\n",
       "    }\n",
       "\n",
       "    .dataframe thead th {\n",
       "        text-align: right;\n",
       "    }\n",
       "</style>\n",
       "<table border=\"1\" class=\"dataframe\">\n",
       "  <thead>\n",
       "    <tr style=\"text-align: right;\">\n",
       "      <th>JobTitle</th>\n",
       "      <th>Analyst</th>\n",
       "      <th>Consultant</th>\n",
       "      <th>Coordinator</th>\n",
       "      <th>Engineer</th>\n",
       "      <th>Executive</th>\n",
       "      <th>Manager</th>\n",
       "    </tr>\n",
       "    <tr>\n",
       "      <th>cluster_scaled</th>\n",
       "      <th></th>\n",
       "      <th></th>\n",
       "      <th></th>\n",
       "      <th></th>\n",
       "      <th></th>\n",
       "      <th></th>\n",
       "    </tr>\n",
       "  </thead>\n",
       "  <tbody>\n",
       "    <tr>\n",
       "      <th>0</th>\n",
       "      <td>302</td>\n",
       "      <td>272</td>\n",
       "      <td>262</td>\n",
       "      <td>318</td>\n",
       "      <td>298</td>\n",
       "      <td>310</td>\n",
       "    </tr>\n",
       "    <tr>\n",
       "      <th>1</th>\n",
       "      <td>303</td>\n",
       "      <td>281</td>\n",
       "      <td>311</td>\n",
       "      <td>323</td>\n",
       "      <td>321</td>\n",
       "      <td>300</td>\n",
       "    </tr>\n",
       "    <tr>\n",
       "      <th>2</th>\n",
       "      <td>263</td>\n",
       "      <td>291</td>\n",
       "      <td>256</td>\n",
       "      <td>264</td>\n",
       "      <td>267</td>\n",
       "      <td>292</td>\n",
       "    </tr>\n",
       "    <tr>\n",
       "      <th>3</th>\n",
       "      <td>269</td>\n",
       "      <td>287</td>\n",
       "      <td>252</td>\n",
       "      <td>262</td>\n",
       "      <td>270</td>\n",
       "      <td>267</td>\n",
       "    </tr>\n",
       "    <tr>\n",
       "      <th>4</th>\n",
       "      <td>264</td>\n",
       "      <td>271</td>\n",
       "      <td>258</td>\n",
       "      <td>264</td>\n",
       "      <td>253</td>\n",
       "      <td>295</td>\n",
       "    </tr>\n",
       "    <tr>\n",
       "      <th>5</th>\n",
       "      <td>257</td>\n",
       "      <td>239</td>\n",
       "      <td>268</td>\n",
       "      <td>256</td>\n",
       "      <td>281</td>\n",
       "      <td>253</td>\n",
       "    </tr>\n",
       "  </tbody>\n",
       "</table>\n",
       "</div>"
      ],
      "text/plain": [
       "JobTitle        Analyst  Consultant  Coordinator  Engineer  Executive  Manager\n",
       "cluster_scaled                                                                \n",
       "0                   302         272          262       318        298      310\n",
       "1                   303         281          311       323        321      300\n",
       "2                   263         291          256       264        267      292\n",
       "3                   269         287          252       262        270      267\n",
       "4                   264         271          258       264        253      295\n",
       "5                   257         239          268       256        281      253"
      ]
     },
     "execution_count": 326,
     "metadata": {},
     "output_type": "execute_result"
    }
   ],
   "source": [
    "# cross tabulate the cluster and country columns\n",
    "clusters_scaled = pd.crosstab(df_dt_scaled['cluster_scaled'], df_dt_scaled['JobTitle'])\n",
    "clusters_scaled"
   ]
  },
  {
   "cell_type": "markdown",
   "id": "596defa4",
   "metadata": {},
   "source": [
    "Robust Scaler"
   ]
  },
  {
   "cell_type": "code",
   "execution_count": 328,
   "id": "c22b93de",
   "metadata": {},
   "outputs": [
    {
     "name": "stdout",
     "output_type": "stream",
     "text": [
      "      JobTitle  cluster_rscaled\n",
      "0  Coordinator                1\n",
      "1      Analyst                2\n",
      "2   Consultant                2\n",
      "3      Manager                4\n",
      "4     Engineer                5\n"
     ]
    },
    {
     "data": {
      "application/vnd.microsoft.datawrangler.viewer.v0+json": {
       "columns": [
        {
         "name": "cluster_rscaled",
         "rawType": "int32",
         "type": "integer"
        },
        {
         "name": "Analyst",
         "rawType": "int64",
         "type": "integer"
        },
        {
         "name": "Consultant",
         "rawType": "int64",
         "type": "integer"
        },
        {
         "name": "Coordinator",
         "rawType": "int64",
         "type": "integer"
        },
        {
         "name": "Engineer",
         "rawType": "int64",
         "type": "integer"
        },
        {
         "name": "Executive",
         "rawType": "int64",
         "type": "integer"
        },
        {
         "name": "Manager",
         "rawType": "int64",
         "type": "integer"
        }
       ],
       "ref": "1879877b-3e94-4ad3-9624-78ee96bd9a69",
       "rows": [
        [
         "0",
         "250",
         "254",
         "231",
         "258",
         "254",
         "251"
        ],
        [
         "1",
         "270",
         "309",
         "289",
         "289",
         "310",
         "324"
        ],
        [
         "2",
         "289",
         "279",
         "257",
         "255",
         "274",
         "273"
        ],
        [
         "3",
         "263",
         "224",
         "261",
         "282",
         "273",
         "263"
        ],
        [
         "4",
         "310",
         "287",
         "302",
         "318",
         "293",
         "316"
        ],
        [
         "5",
         "276",
         "288",
         "267",
         "285",
         "286",
         "290"
        ]
       ],
       "shape": {
        "columns": 6,
        "rows": 6
       }
      },
      "text/html": [
       "<div>\n",
       "<style scoped>\n",
       "    .dataframe tbody tr th:only-of-type {\n",
       "        vertical-align: middle;\n",
       "    }\n",
       "\n",
       "    .dataframe tbody tr th {\n",
       "        vertical-align: top;\n",
       "    }\n",
       "\n",
       "    .dataframe thead th {\n",
       "        text-align: right;\n",
       "    }\n",
       "</style>\n",
       "<table border=\"1\" class=\"dataframe\">\n",
       "  <thead>\n",
       "    <tr style=\"text-align: right;\">\n",
       "      <th>JobTitle</th>\n",
       "      <th>Analyst</th>\n",
       "      <th>Consultant</th>\n",
       "      <th>Coordinator</th>\n",
       "      <th>Engineer</th>\n",
       "      <th>Executive</th>\n",
       "      <th>Manager</th>\n",
       "    </tr>\n",
       "    <tr>\n",
       "      <th>cluster_rscaled</th>\n",
       "      <th></th>\n",
       "      <th></th>\n",
       "      <th></th>\n",
       "      <th></th>\n",
       "      <th></th>\n",
       "      <th></th>\n",
       "    </tr>\n",
       "  </thead>\n",
       "  <tbody>\n",
       "    <tr>\n",
       "      <th>0</th>\n",
       "      <td>250</td>\n",
       "      <td>254</td>\n",
       "      <td>231</td>\n",
       "      <td>258</td>\n",
       "      <td>254</td>\n",
       "      <td>251</td>\n",
       "    </tr>\n",
       "    <tr>\n",
       "      <th>1</th>\n",
       "      <td>270</td>\n",
       "      <td>309</td>\n",
       "      <td>289</td>\n",
       "      <td>289</td>\n",
       "      <td>310</td>\n",
       "      <td>324</td>\n",
       "    </tr>\n",
       "    <tr>\n",
       "      <th>2</th>\n",
       "      <td>289</td>\n",
       "      <td>279</td>\n",
       "      <td>257</td>\n",
       "      <td>255</td>\n",
       "      <td>274</td>\n",
       "      <td>273</td>\n",
       "    </tr>\n",
       "    <tr>\n",
       "      <th>3</th>\n",
       "      <td>263</td>\n",
       "      <td>224</td>\n",
       "      <td>261</td>\n",
       "      <td>282</td>\n",
       "      <td>273</td>\n",
       "      <td>263</td>\n",
       "    </tr>\n",
       "    <tr>\n",
       "      <th>4</th>\n",
       "      <td>310</td>\n",
       "      <td>287</td>\n",
       "      <td>302</td>\n",
       "      <td>318</td>\n",
       "      <td>293</td>\n",
       "      <td>316</td>\n",
       "    </tr>\n",
       "    <tr>\n",
       "      <th>5</th>\n",
       "      <td>276</td>\n",
       "      <td>288</td>\n",
       "      <td>267</td>\n",
       "      <td>285</td>\n",
       "      <td>286</td>\n",
       "      <td>290</td>\n",
       "    </tr>\n",
       "  </tbody>\n",
       "</table>\n",
       "</div>"
      ],
      "text/plain": [
       "JobTitle         Analyst  Consultant  Coordinator  Engineer  Executive  \\\n",
       "cluster_rscaled                                                          \n",
       "0                    250         254          231       258        254   \n",
       "1                    270         309          289       289        310   \n",
       "2                    289         279          257       255        274   \n",
       "3                    263         224          261       282        273   \n",
       "4                    310         287          302       318        293   \n",
       "5                    276         288          267       285        286   \n",
       "\n",
       "JobTitle         Manager  \n",
       "cluster_rscaled           \n",
       "0                    251  \n",
       "1                    324  \n",
       "2                    273  \n",
       "3                    263  \n",
       "4                    316  \n",
       "5                    290  "
      ]
     },
     "execution_count": 328,
     "metadata": {},
     "output_type": "execute_result"
    }
   ],
   "source": [
    "# Create a scaler: scaler\n",
    "robust_scaler = RobustScaler()\n",
    "\n",
    "# Create a KMeans model with 10 clusters: kmeans\n",
    "kmeans = KMeans(n_clusters=n_clusters)\n",
    "\n",
    "# Make a pipeline chaining normalizer and kmeans: pipeline\n",
    "pipeline = make_pipeline(robust_scaler, kmeans)\n",
    "\n",
    "# Fit pipeline to the daily price movements\n",
    "clusters_rscaled = pipeline.fit_predict(df_numeric)\n",
    "\n",
    "# Add the cluster labels to the dataframe\n",
    "df['cluster_rscaled'] = clusters_rscaled\n",
    "\n",
    "# Use label and country to create a dataframe\n",
    "df_dt_rscaled = pd.DataFrame({'JobTitle': df['JobTitle'], 'cluster_rscaled': df['cluster_rscaled']})\n",
    "print(df_dt_rscaled.head())\n",
    "# cross tabulate the cluster and country columns\n",
    "clusters_rscaled = pd.crosstab(df_dt_rscaled['cluster_rscaled'], df_dt_rscaled['JobTitle'])\n",
    "clusters_rscaled"
   ]
  }
 ],
 "metadata": {
  "kernelspec": {
   "display_name": "Python 3",
   "language": "python",
   "name": "python3"
  },
  "language_info": {
   "codemirror_mode": {
    "name": "ipython",
    "version": 3
   },
   "file_extension": ".py",
   "mimetype": "text/x-python",
   "name": "python",
   "nbconvert_exporter": "python",
   "pygments_lexer": "ipython3",
   "version": "3.13.5"
  }
 },
 "nbformat": 4,
 "nbformat_minor": 5
}
