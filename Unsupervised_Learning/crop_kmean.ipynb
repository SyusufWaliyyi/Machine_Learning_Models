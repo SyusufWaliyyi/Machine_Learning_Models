{
 "cells": [
  {
   "cell_type": "code",
   "execution_count": 1,
   "id": "4e88498e",
   "metadata": {},
   "outputs": [],
   "source": [
    "import seaborn as sns\n",
    "import pandas as pd\n",
    "import matplotlib.pyplot as plt\n",
    "from sklearn.cluster import KMeans"
   ]
  },
  {
   "cell_type": "code",
   "execution_count": 2,
   "id": "db416b77",
   "metadata": {},
   "outputs": [
    {
     "data": {
      "application/vnd.microsoft.datawrangler.viewer.v0+json": {
       "columns": [
        {
         "name": "index",
         "rawType": "int64",
         "type": "integer"
        },
        {
         "name": "N",
         "rawType": "int64",
         "type": "integer"
        },
        {
         "name": "P",
         "rawType": "int64",
         "type": "integer"
        },
        {
         "name": "K",
         "rawType": "int64",
         "type": "integer"
        },
        {
         "name": "temperature",
         "rawType": "float64",
         "type": "float"
        },
        {
         "name": "humidity",
         "rawType": "float64",
         "type": "float"
        },
        {
         "name": "ph",
         "rawType": "float64",
         "type": "float"
        },
        {
         "name": "rainfall",
         "rawType": "float64",
         "type": "float"
        },
        {
         "name": "label",
         "rawType": "object",
         "type": "string"
        }
       ],
       "ref": "8e3d8ea3-78ed-4451-bf6c-b8673eed06ba",
       "rows": [
        [
         "0",
         "90",
         "42",
         "43",
         "20.87974371",
         "82.00274423",
         "6.502985292",
         "202.9355362",
         "rice"
        ],
        [
         "1",
         "85",
         "58",
         "41",
         "21.77046169",
         "80.31964408",
         "7.038096361",
         "226.6555374",
         "rice"
        ],
        [
         "2",
         "60",
         "55",
         "44",
         "23.00445915",
         "82.3207629",
         "7.840207144",
         "263.9642476",
         "rice"
        ],
        [
         "3",
         "74",
         "35",
         "40",
         "26.49109635",
         "80.15836264",
         "6.980400905",
         "242.8640342",
         "rice"
        ],
        [
         "4",
         "78",
         "42",
         "42",
         "20.13017482",
         "81.60487287",
         "7.628472891",
         "262.7173405",
         "rice"
        ]
       ],
       "shape": {
        "columns": 8,
        "rows": 5
       }
      },
      "text/html": [
       "<div>\n",
       "<style scoped>\n",
       "    .dataframe tbody tr th:only-of-type {\n",
       "        vertical-align: middle;\n",
       "    }\n",
       "\n",
       "    .dataframe tbody tr th {\n",
       "        vertical-align: top;\n",
       "    }\n",
       "\n",
       "    .dataframe thead th {\n",
       "        text-align: right;\n",
       "    }\n",
       "</style>\n",
       "<table border=\"1\" class=\"dataframe\">\n",
       "  <thead>\n",
       "    <tr style=\"text-align: right;\">\n",
       "      <th></th>\n",
       "      <th>N</th>\n",
       "      <th>P</th>\n",
       "      <th>K</th>\n",
       "      <th>temperature</th>\n",
       "      <th>humidity</th>\n",
       "      <th>ph</th>\n",
       "      <th>rainfall</th>\n",
       "      <th>label</th>\n",
       "    </tr>\n",
       "  </thead>\n",
       "  <tbody>\n",
       "    <tr>\n",
       "      <th>0</th>\n",
       "      <td>90</td>\n",
       "      <td>42</td>\n",
       "      <td>43</td>\n",
       "      <td>20.879744</td>\n",
       "      <td>82.002744</td>\n",
       "      <td>6.502985</td>\n",
       "      <td>202.935536</td>\n",
       "      <td>rice</td>\n",
       "    </tr>\n",
       "    <tr>\n",
       "      <th>1</th>\n",
       "      <td>85</td>\n",
       "      <td>58</td>\n",
       "      <td>41</td>\n",
       "      <td>21.770462</td>\n",
       "      <td>80.319644</td>\n",
       "      <td>7.038096</td>\n",
       "      <td>226.655537</td>\n",
       "      <td>rice</td>\n",
       "    </tr>\n",
       "    <tr>\n",
       "      <th>2</th>\n",
       "      <td>60</td>\n",
       "      <td>55</td>\n",
       "      <td>44</td>\n",
       "      <td>23.004459</td>\n",
       "      <td>82.320763</td>\n",
       "      <td>7.840207</td>\n",
       "      <td>263.964248</td>\n",
       "      <td>rice</td>\n",
       "    </tr>\n",
       "    <tr>\n",
       "      <th>3</th>\n",
       "      <td>74</td>\n",
       "      <td>35</td>\n",
       "      <td>40</td>\n",
       "      <td>26.491096</td>\n",
       "      <td>80.158363</td>\n",
       "      <td>6.980401</td>\n",
       "      <td>242.864034</td>\n",
       "      <td>rice</td>\n",
       "    </tr>\n",
       "    <tr>\n",
       "      <th>4</th>\n",
       "      <td>78</td>\n",
       "      <td>42</td>\n",
       "      <td>42</td>\n",
       "      <td>20.130175</td>\n",
       "      <td>81.604873</td>\n",
       "      <td>7.628473</td>\n",
       "      <td>262.717340</td>\n",
       "      <td>rice</td>\n",
       "    </tr>\n",
       "  </tbody>\n",
       "</table>\n",
       "</div>"
      ],
      "text/plain": [
       "    N   P   K  temperature   humidity        ph    rainfall label\n",
       "0  90  42  43    20.879744  82.002744  6.502985  202.935536  rice\n",
       "1  85  58  41    21.770462  80.319644  7.038096  226.655537  rice\n",
       "2  60  55  44    23.004459  82.320763  7.840207  263.964248  rice\n",
       "3  74  35  40    26.491096  80.158363  6.980401  242.864034  rice\n",
       "4  78  42  42    20.130175  81.604873  7.628473  262.717340  rice"
      ]
     },
     "execution_count": 2,
     "metadata": {},
     "output_type": "execute_result"
    }
   ],
   "source": [
    "crop_df = pd.read_csv(\"Crop_recommendation.csv\")\n",
    "crop_df.head()"
   ]
  },
  {
   "cell_type": "code",
   "execution_count": 3,
   "id": "7184a9b4",
   "metadata": {},
   "outputs": [
    {
     "data": {
      "text/plain": [
       "22"
      ]
     },
     "execution_count": 3,
     "metadata": {},
     "output_type": "execute_result"
    }
   ],
   "source": [
    "# Value counts the label column\n",
    "n = len(crop_df['label'].unique())\n",
    "n"
   ]
  },
  {
   "cell_type": "code",
   "execution_count": 4,
   "id": "3e2fec02",
   "metadata": {},
   "outputs": [],
   "source": [
    "# Prepare the features (excluding the species column)\n",
    "X = crop_df.drop('label', axis=1)"
   ]
  },
  {
   "cell_type": "code",
   "execution_count": 5,
   "id": "23f72624",
   "metadata": {},
   "outputs": [],
   "source": [
    "# Perform K-Means clustering with 3 clusters (since we know there are 3 species)\n",
    "kmeans = KMeans(n_clusters=22, random_state=42)\n",
    "clusters = kmeans.fit_predict(X)"
   ]
  },
  {
   "cell_type": "code",
   "execution_count": 6,
   "id": "6ddba35b",
   "metadata": {},
   "outputs": [],
   "source": [
    "# Add the cluster labels to the dataframe\n",
    "crop_df['cluster'] = clusters"
   ]
  },
  {
   "cell_type": "code",
   "execution_count": 8,
   "id": "44563505",
   "metadata": {},
   "outputs": [
    {
     "data": {
      "application/vnd.microsoft.datawrangler.viewer.v0+json": {
       "columns": [
        {
         "name": "index",
         "rawType": "int64",
         "type": "integer"
        },
        {
         "name": "N",
         "rawType": "int64",
         "type": "integer"
        },
        {
         "name": "P",
         "rawType": "int64",
         "type": "integer"
        },
        {
         "name": "K",
         "rawType": "int64",
         "type": "integer"
        },
        {
         "name": "temperature",
         "rawType": "float64",
         "type": "float"
        },
        {
         "name": "humidity",
         "rawType": "float64",
         "type": "float"
        },
        {
         "name": "ph",
         "rawType": "float64",
         "type": "float"
        },
        {
         "name": "rainfall",
         "rawType": "float64",
         "type": "float"
        },
        {
         "name": "label",
         "rawType": "object",
         "type": "string"
        },
        {
         "name": "cluster",
         "rawType": "int32",
         "type": "integer"
        }
       ],
       "ref": "f60b14bf-3a84-4836-8052-0312591d2581",
       "rows": [
        [
         "0",
         "90",
         "42",
         "43",
         "20.87974371",
         "82.00274423",
         "6.502985292",
         "202.9355362",
         "rice",
         "3"
        ],
        [
         "1",
         "85",
         "58",
         "41",
         "21.77046169",
         "80.31964408",
         "7.038096361",
         "226.6555374",
         "rice",
         "20"
        ],
        [
         "2",
         "60",
         "55",
         "44",
         "23.00445915",
         "82.3207629",
         "7.840207144",
         "263.9642476",
         "rice",
         "7"
        ],
        [
         "3",
         "74",
         "35",
         "40",
         "26.49109635",
         "80.15836264",
         "6.980400905",
         "242.8640342",
         "rice",
         "7"
        ],
        [
         "4",
         "78",
         "42",
         "42",
         "20.13017482",
         "81.60487287",
         "7.628472891",
         "262.7173405",
         "rice",
         "7"
        ],
        [
         "5",
         "69",
         "37",
         "42",
         "23.05804872",
         "83.37011772",
         "7.073453503",
         "251.0549998",
         "rice",
         "7"
        ],
        [
         "6",
         "69",
         "55",
         "38",
         "22.70883798",
         "82.63941394",
         "5.70080568",
         "271.3248604",
         "rice",
         "7"
        ],
        [
         "7",
         "94",
         "53",
         "40",
         "20.27774362",
         "82.89408619",
         "5.718627178",
         "241.9741949",
         "rice",
         "7"
        ],
        [
         "8",
         "89",
         "54",
         "38",
         "24.51588066",
         "83.5352163",
         "6.685346424",
         "230.4462359",
         "rice",
         "20"
        ],
        [
         "9",
         "68",
         "58",
         "38",
         "23.22397386",
         "83.03322691",
         "6.336253525",
         "221.2091958",
         "rice",
         "20"
        ],
        [
         "10",
         "91",
         "53",
         "40",
         "26.52723513",
         "81.41753846",
         "5.386167788",
         "264.6148697",
         "rice",
         "7"
        ],
        [
         "11",
         "90",
         "46",
         "42",
         "23.97898217",
         "81.45061596",
         "7.50283396",
         "250.0832336",
         "rice",
         "7"
        ],
        [
         "12",
         "78",
         "58",
         "44",
         "26.80079604",
         "80.88684822",
         "5.108681786",
         "284.4364567",
         "rice",
         "7"
        ],
        [
         "13",
         "93",
         "56",
         "36",
         "24.01497622",
         "82.05687182",
         "6.98435366",
         "185.2773389",
         "rice",
         "3"
        ],
        [
         "14",
         "94",
         "50",
         "37",
         "25.66585205",
         "80.66385045",
         "6.94801983",
         "209.5869708",
         "rice",
         "3"
        ],
        [
         "15",
         "60",
         "48",
         "39",
         "24.28209415",
         "80.30025587",
         "7.042299069",
         "231.0863347",
         "rice",
         "20"
        ],
        [
         "16",
         "85",
         "38",
         "41",
         "21.58711777",
         "82.7883708",
         "6.249050656",
         "276.6552459",
         "rice",
         "7"
        ],
        [
         "17",
         "91",
         "35",
         "39",
         "23.79391957",
         "80.41817957",
         "6.970859754",
         "206.2611855",
         "rice",
         "3"
        ],
        [
         "18",
         "77",
         "38",
         "36",
         "21.8652524",
         "80.1923008",
         "5.953933276",
         "224.5550169",
         "rice",
         "20"
        ],
        [
         "19",
         "88",
         "35",
         "40",
         "23.57943626",
         "83.58760316",
         "5.85393208",
         "291.2986618",
         "rice",
         "7"
        ],
        [
         "20",
         "89",
         "45",
         "36",
         "21.32504158",
         "80.47476396",
         "6.442475375",
         "185.4974732",
         "rice",
         "3"
        ],
        [
         "21",
         "76",
         "40",
         "43",
         "25.15745531",
         "83.11713476",
         "5.070175667",
         "231.3843163",
         "rice",
         "20"
        ],
        [
         "22",
         "67",
         "59",
         "41",
         "21.94766735",
         "80.97384195",
         "6.012632591",
         "213.3560921",
         "rice",
         "20"
        ],
        [
         "23",
         "83",
         "41",
         "43",
         "21.0525355",
         "82.67839517",
         "6.254028451",
         "233.1075816",
         "rice",
         "20"
        ],
        [
         "24",
         "98",
         "47",
         "37",
         "23.48381344",
         "81.33265073",
         "7.375482851",
         "224.0581164",
         "rice",
         "20"
        ],
        [
         "25",
         "66",
         "53",
         "41",
         "25.0756354",
         "80.52389148",
         "7.778915154",
         "257.0038865",
         "rice",
         "7"
        ],
        [
         "26",
         "97",
         "59",
         "43",
         "26.35927159",
         "84.04403589",
         "6.286500176",
         "271.3586137",
         "rice",
         "7"
        ],
        [
         "27",
         "97",
         "50",
         "41",
         "24.52922681",
         "80.54498576",
         "7.070959995",
         "260.2634026",
         "rice",
         "7"
        ],
        [
         "28",
         "60",
         "49",
         "44",
         "20.77576147",
         "84.49774397",
         "6.244841491",
         "240.0810647",
         "rice",
         "20"
        ],
        [
         "29",
         "84",
         "51",
         "35",
         "22.30157427",
         "80.64416466",
         "6.043304899",
         "197.9791215",
         "rice",
         "3"
        ],
        [
         "30",
         "73",
         "57",
         "41",
         "21.44653958",
         "84.94375962",
         "5.824709117",
         "272.2017204",
         "rice",
         "7"
        ],
        [
         "31",
         "92",
         "35",
         "40",
         "22.17931888",
         "80.33127223",
         "6.357389366",
         "200.0882787",
         "rice",
         "3"
        ],
        [
         "32",
         "85",
         "37",
         "39",
         "24.52783742",
         "82.73685569",
         "6.364134968",
         "224.6757231",
         "rice",
         "20"
        ],
        [
         "33",
         "98",
         "53",
         "38",
         "20.26707606",
         "81.63895217",
         "5.01450727",
         "270.4417274",
         "rice",
         "7"
        ],
        [
         "34",
         "88",
         "54",
         "44",
         "25.7354293",
         "83.88266234",
         "6.149410611",
         "233.1321372",
         "rice",
         "20"
        ],
        [
         "35",
         "95",
         "55",
         "42",
         "26.79533926",
         "82.1480873",
         "5.950660556",
         "193.3473987",
         "rice",
         "3"
        ],
        [
         "36",
         "99",
         "57",
         "35",
         "26.75754171",
         "81.17734011",
         "5.960370061",
         "272.2999056",
         "rice",
         "7"
        ],
        [
         "37",
         "95",
         "39",
         "36",
         "23.86330467",
         "83.15250801",
         "5.561398642",
         "285.2493645",
         "rice",
         "7"
        ],
        [
         "38",
         "60",
         "43",
         "44",
         "21.01944696",
         "82.95221726",
         "7.416245107",
         "298.4018471",
         "rice",
         "7"
        ],
        [
         "39",
         "63",
         "44",
         "41",
         "24.17298839",
         "83.7287574",
         "5.583370042",
         "257.0343554",
         "rice",
         "7"
        ],
        [
         "40",
         "62",
         "42",
         "36",
         "22.78133816",
         "82.06719137",
         "6.430010215",
         "248.7183228",
         "rice",
         "7"
        ],
        [
         "41",
         "64",
         "45",
         "43",
         "25.62980105",
         "83.52842314",
         "5.534878156",
         "209.9001977",
         "rice",
         "20"
        ],
        [
         "42",
         "83",
         "60",
         "36",
         "25.59704938",
         "80.14509262",
         "6.903985986",
         "200.834898",
         "rice",
         "3"
        ],
        [
         "43",
         "82",
         "40",
         "40",
         "23.83067496",
         "84.81360127",
         "6.271478838",
         "298.5601175",
         "rice",
         "7"
        ],
        [
         "44",
         "85",
         "52",
         "45",
         "26.31355498",
         "82.36698992",
         "7.224285503",
         "265.5355937",
         "rice",
         "7"
        ],
        [
         "45",
         "91",
         "35",
         "38",
         "24.8972823",
         "80.52586088",
         "6.13428721",
         "183.6793207",
         "rice",
         "3"
        ],
        [
         "46",
         "76",
         "49",
         "42",
         "24.958779",
         "84.47963372",
         "5.206373153",
         "196.9560008",
         "rice",
         "3"
        ],
        [
         "47",
         "74",
         "39",
         "38",
         "23.24113501",
         "84.59201843",
         "7.782051313",
         "233.0453455",
         "rice",
         "20"
        ],
        [
         "48",
         "79",
         "43",
         "39",
         "21.66628296",
         "80.70960551",
         "7.062779015",
         "210.8142087",
         "rice",
         "20"
        ],
        [
         "49",
         "88",
         "55",
         "45",
         "24.63544858",
         "80.41363018",
         "7.730367824",
         "253.7202781",
         "rice",
         "7"
        ]
       ],
       "shape": {
        "columns": 9,
        "rows": 2200
       }
      },
      "text/html": [
       "<div>\n",
       "<style scoped>\n",
       "    .dataframe tbody tr th:only-of-type {\n",
       "        vertical-align: middle;\n",
       "    }\n",
       "\n",
       "    .dataframe tbody tr th {\n",
       "        vertical-align: top;\n",
       "    }\n",
       "\n",
       "    .dataframe thead th {\n",
       "        text-align: right;\n",
       "    }\n",
       "</style>\n",
       "<table border=\"1\" class=\"dataframe\">\n",
       "  <thead>\n",
       "    <tr style=\"text-align: right;\">\n",
       "      <th></th>\n",
       "      <th>N</th>\n",
       "      <th>P</th>\n",
       "      <th>K</th>\n",
       "      <th>temperature</th>\n",
       "      <th>humidity</th>\n",
       "      <th>ph</th>\n",
       "      <th>rainfall</th>\n",
       "      <th>label</th>\n",
       "      <th>cluster</th>\n",
       "    </tr>\n",
       "  </thead>\n",
       "  <tbody>\n",
       "    <tr>\n",
       "      <th>0</th>\n",
       "      <td>90</td>\n",
       "      <td>42</td>\n",
       "      <td>43</td>\n",
       "      <td>20.879744</td>\n",
       "      <td>82.002744</td>\n",
       "      <td>6.502985</td>\n",
       "      <td>202.935536</td>\n",
       "      <td>rice</td>\n",
       "      <td>3</td>\n",
       "    </tr>\n",
       "    <tr>\n",
       "      <th>1</th>\n",
       "      <td>85</td>\n",
       "      <td>58</td>\n",
       "      <td>41</td>\n",
       "      <td>21.770462</td>\n",
       "      <td>80.319644</td>\n",
       "      <td>7.038096</td>\n",
       "      <td>226.655537</td>\n",
       "      <td>rice</td>\n",
       "      <td>20</td>\n",
       "    </tr>\n",
       "    <tr>\n",
       "      <th>2</th>\n",
       "      <td>60</td>\n",
       "      <td>55</td>\n",
       "      <td>44</td>\n",
       "      <td>23.004459</td>\n",
       "      <td>82.320763</td>\n",
       "      <td>7.840207</td>\n",
       "      <td>263.964248</td>\n",
       "      <td>rice</td>\n",
       "      <td>7</td>\n",
       "    </tr>\n",
       "    <tr>\n",
       "      <th>3</th>\n",
       "      <td>74</td>\n",
       "      <td>35</td>\n",
       "      <td>40</td>\n",
       "      <td>26.491096</td>\n",
       "      <td>80.158363</td>\n",
       "      <td>6.980401</td>\n",
       "      <td>242.864034</td>\n",
       "      <td>rice</td>\n",
       "      <td>7</td>\n",
       "    </tr>\n",
       "    <tr>\n",
       "      <th>4</th>\n",
       "      <td>78</td>\n",
       "      <td>42</td>\n",
       "      <td>42</td>\n",
       "      <td>20.130175</td>\n",
       "      <td>81.604873</td>\n",
       "      <td>7.628473</td>\n",
       "      <td>262.717340</td>\n",
       "      <td>rice</td>\n",
       "      <td>7</td>\n",
       "    </tr>\n",
       "    <tr>\n",
       "      <th>...</th>\n",
       "      <td>...</td>\n",
       "      <td>...</td>\n",
       "      <td>...</td>\n",
       "      <td>...</td>\n",
       "      <td>...</td>\n",
       "      <td>...</td>\n",
       "      <td>...</td>\n",
       "      <td>...</td>\n",
       "      <td>...</td>\n",
       "    </tr>\n",
       "    <tr>\n",
       "      <th>2195</th>\n",
       "      <td>107</td>\n",
       "      <td>34</td>\n",
       "      <td>32</td>\n",
       "      <td>26.774637</td>\n",
       "      <td>66.413269</td>\n",
       "      <td>6.780064</td>\n",
       "      <td>177.774507</td>\n",
       "      <td>coffee</td>\n",
       "      <td>3</td>\n",
       "    </tr>\n",
       "    <tr>\n",
       "      <th>2196</th>\n",
       "      <td>99</td>\n",
       "      <td>15</td>\n",
       "      <td>27</td>\n",
       "      <td>27.417112</td>\n",
       "      <td>56.636362</td>\n",
       "      <td>6.086922</td>\n",
       "      <td>127.924610</td>\n",
       "      <td>coffee</td>\n",
       "      <td>14</td>\n",
       "    </tr>\n",
       "    <tr>\n",
       "      <th>2197</th>\n",
       "      <td>118</td>\n",
       "      <td>33</td>\n",
       "      <td>30</td>\n",
       "      <td>24.131797</td>\n",
       "      <td>67.225123</td>\n",
       "      <td>6.362608</td>\n",
       "      <td>173.322839</td>\n",
       "      <td>coffee</td>\n",
       "      <td>14</td>\n",
       "    </tr>\n",
       "    <tr>\n",
       "      <th>2198</th>\n",
       "      <td>117</td>\n",
       "      <td>32</td>\n",
       "      <td>34</td>\n",
       "      <td>26.272418</td>\n",
       "      <td>52.127394</td>\n",
       "      <td>6.758793</td>\n",
       "      <td>127.175293</td>\n",
       "      <td>coffee</td>\n",
       "      <td>14</td>\n",
       "    </tr>\n",
       "    <tr>\n",
       "      <th>2199</th>\n",
       "      <td>104</td>\n",
       "      <td>18</td>\n",
       "      <td>30</td>\n",
       "      <td>23.603016</td>\n",
       "      <td>60.396475</td>\n",
       "      <td>6.779833</td>\n",
       "      <td>140.937041</td>\n",
       "      <td>coffee</td>\n",
       "      <td>14</td>\n",
       "    </tr>\n",
       "  </tbody>\n",
       "</table>\n",
       "<p>2200 rows × 9 columns</p>\n",
       "</div>"
      ],
      "text/plain": [
       "        N   P   K  temperature   humidity        ph    rainfall   label  \\\n",
       "0      90  42  43    20.879744  82.002744  6.502985  202.935536    rice   \n",
       "1      85  58  41    21.770462  80.319644  7.038096  226.655537    rice   \n",
       "2      60  55  44    23.004459  82.320763  7.840207  263.964248    rice   \n",
       "3      74  35  40    26.491096  80.158363  6.980401  242.864034    rice   \n",
       "4      78  42  42    20.130175  81.604873  7.628473  262.717340    rice   \n",
       "...   ...  ..  ..          ...        ...       ...         ...     ...   \n",
       "2195  107  34  32    26.774637  66.413269  6.780064  177.774507  coffee   \n",
       "2196   99  15  27    27.417112  56.636362  6.086922  127.924610  coffee   \n",
       "2197  118  33  30    24.131797  67.225123  6.362608  173.322839  coffee   \n",
       "2198  117  32  34    26.272418  52.127394  6.758793  127.175293  coffee   \n",
       "2199  104  18  30    23.603016  60.396475  6.779833  140.937041  coffee   \n",
       "\n",
       "      cluster  \n",
       "0           3  \n",
       "1          20  \n",
       "2           7  \n",
       "3           7  \n",
       "4           7  \n",
       "...       ...  \n",
       "2195        3  \n",
       "2196       14  \n",
       "2197       14  \n",
       "2198       14  \n",
       "2199       14  \n",
       "\n",
       "[2200 rows x 9 columns]"
      ]
     },
     "execution_count": 8,
     "metadata": {},
     "output_type": "execute_result"
    }
   ],
   "source": [
    "crop_df\n"
   ]
  },
  {
   "cell_type": "code",
   "execution_count": 10,
   "id": "f11f6a93",
   "metadata": {},
   "outputs": [
    {
     "data": {
      "image/png": "[encoded data removed]",
      "text/plain": [
       "<Figure size 640x480 with 1 Axes>"
      ]
     },
     "metadata": {},
     "output_type": "display_data"
    }
   ],
   "source": [
    "# Create a scatter plot of the clusters\n",
    "sns.scatterplot(x='rainfall', y='humidity', hue='cluster', data=crop_df)\n",
    "plt.show()"
   ]
  }
 ],
 "metadata": {
  "kernelspec": {
   "display_name": "Python 3",
   "language": "python",
   "name": "python3"
  },
  "language_info": {
   "codemirror_mode": {
    "name": "ipython",
    "version": 3
   },
   "file_extension": ".py",
   "mimetype": "text/x-python",
   "name": "python",
   "nbconvert_exporter": "python",
   "pygments_lexer": "ipython3",
   "version": "3.13.5"
  }
 },
 "nbformat": 4,
 "nbformat_minor": 5
}
